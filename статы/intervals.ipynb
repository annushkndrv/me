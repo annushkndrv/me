{
  "cells": [
    {
      "cell_type": "markdown",
      "id": "be68e0df",
      "metadata": {
        "id": "be68e0df"
      },
      "source": [
        "## Домашнее задание 5\n",
        "\n",
        "**Правила, <font color=\"red\">прочитайте внимательно</font>:**\n",
        "\n",
        "* Выполненную работу нужно отправить телеграм-боту `@miptstats_pds_bot`. Для начала работы с ботом каждый раз отправляйте `/start`. **Работы, присланные иным способом, не принимаются.**\n",
        "* Дедлайн см. в боте. После дедлайна работы не принимаются кроме случаев наличия уважительной причины.\n",
        "* Прислать нужно ноутбук в формате `ipynb`.\n",
        "* Выполнять задание необходимо полностью самостоятельно. **При обнаружении списывания все участники списывания будут сдавать устный зачет.**\n",
        "* Решения, размещенные на каких-либо интернет-ресурсах, не принимаются. Кроме того, публикация решения в открытом доступе может быть приравнена к предоставлении возможности списать.\n",
        "* Для выполнения задания используйте этот ноутбук в качестве основы, ничего не удаляя из него. Можно добавлять необходимое количество ячеек.\n",
        "* Комментарии к решению пишите в markdown-ячейках.\n",
        "* Выполнение задания (ход решения, выводы и пр.) должно быть осуществлено на русском языке.\n",
        "* Если код будет не понятен проверяющему, оценка может быть снижена.\n",
        "* Никакой код из данного задания при проверке запускаться не будет. *Если код студента не выполнен, недописан и т.д., то он не оценивается.*\n",
        "* **Код из рассказанных на занятиях ноутбуков можно использовать без ограничений.**\n",
        "\n",
        "**Правила оформления теоретических задач:**\n",
        "\n",
        "* Решения необходимо прислать одним из следующих способов:\n",
        "  * фотографией в правильной ориентации, где все четко видно, а почерк разборчив,\n",
        "    * отправив ее как файл боту вместе с ноутбуком *или*\n",
        "    * вставив ее в ноутбук посредством `Edit -> Insert Image` (<font color=\"red\">фото, вставленные ссылкой, не принимаются</font>);\n",
        "  * в виде $LaTeX$ в markdown-ячейках.\n",
        "* Решения не проверяются, если какое-то требование не выполнено. Особенно внимательно все проверьте в случае выбора второго пункта (вставки фото в ноутбук). <font color=\"red\"><b>Неправильно вставленные фотографии могут не передаться при отправке.</b></font> Для проверки попробуйте переместить `ipynb` в другую папку и открыть его там.\n",
        "* В решениях поясняйте, чем вы пользуетесь, хотя бы кратко. Например, если пользуетесь независимостью, то достаточно подписи вида \"*X и Y незав.*\"\n",
        "* Решение, в котором есть только ответ, и отсутствуют вычисления, оценивается в 0 баллов.\n",
        "\n",
        "**Баллы за задание:**\n",
        "\n",
        "<b><font color=\"blue\">Легкая часть</font></b> (достаточно на \"хор\"):\n",
        "* Задача 1 &mdash; 15 баллов\n",
        "* Задача 2 &mdash; 25 баллов\n",
        "\n",
        "\n",
        "<b><font color=\"orange\">Сложная часть</font></b> (необходимо на \"отл\"):\n",
        "* Задача 3 &mdash; 20 баллов\n",
        "* Задача 4 &mdash; 20 баллов\n",
        "\n",
        "<b><font color=\"blue\">Легкая часть</font></b> (достаточно на \"хор\"):\n",
        "* Задача 5 &mdash;  25 баллов\n",
        "\n",
        "<b><font color=\"orange\">Сложная часть</font></b> (необходимо на \"отл\"):\n",
        "* Задача 6 &mdash;  30 баллов\n",
        "\n",
        "\n",
        "\n",
        "\n",
        "-----"
      ]
    },
    {
      "cell_type": "markdown",
      "id": "df19c6d9",
      "metadata": {
        "id": "df19c6d9"
      },
      "source": [
        "\n",
        "# Теоретическая часть\n",
        "\n",
        "### <b><font color=\"blue\">Легкая часть</font></b>\n",
        "\n"
      ]
    },
    {
      "cell_type": "markdown",
      "id": "c0ad6b60",
      "metadata": {
        "id": "c0ad6b60"
      },
      "source": [
        "## Задача 1.\n",
        "\n",
        "Для оценки размера популяции котиков в городе исследователи поймали 100 котиков, прикрепили к ним бирку и отпустили. Спустя неделю исследователи повторно отловили 100 котиков и одного единорога, при этом 20 котиков оказались с биркой. В предположении, что за неделю все котики равномерно перемешались по городу, постройте асимптотический доверительный интервал уровня доверия $\\alpha = 0.95$ и его реализацию для размера популяции котиков в городе.\n",
        "\n",
        "Предполагается, что второй раз исследователи последовательно ловили котиков в случайных частях города, после чего сразу же их отпускали."
      ]
    },
    {
      "cell_type": "markdown",
      "id": "c591ae20",
      "metadata": {
        "id": "c591ae20"
      },
      "source": [
        "## Задача 2.\n",
        "\n",
        "Пусть $X_1,...,X_n$ &mdash; выборка из гамма-распределения с параметрами $(\\theta, \\beta)$ и плотностью $p_{\\theta, \\beta}(x) = \\frac{\\theta^{\\beta}}{\\Gamma(\\beta)}x^{\\beta-1}e^{-\\alpha x}$, $x > 0$. Постройте асимптотический доверительный интервал уровня доверия $\\alpha$ для $\\theta$. Параметр $\\beta$ считайте **известным**.\n",
        "\n",
        "***Указание:*** Воспользуйтесь дельта-методом, чтобы получить асимптотически нормальную оценку $\\theta$ и определить ее асимптотическую дисперсию. Моменты гамма распределения не нужно считать напрямую."
      ]
    },
    {
      "cell_type": "markdown",
      "id": "7749f3bc",
      "metadata": {
        "id": "7749f3bc"
      },
      "source": [
        "### <b><font color=\"orange\">Сложная часть</font></b>"
      ]
    },
    {
      "cell_type": "markdown",
      "id": "4847db09",
      "metadata": {
        "id": "4847db09"
      },
      "source": [
        "## Задача 3.\n",
        "\n",
        "Пусть $X_1, \\ldots, X_n$ &mdash; выборка из распределения $U[0, \\theta]$. Постройте точный доверительный интервал для $\\theta$, используя статистику $X_{(n)}$. Для этого:\n",
        "- Найдите плотность распределения $X_{(n)}$ по определению\n",
        "- Точный доверительный интервал для $\\theta$ имеет смысл строить в виде $(X_{(n)}, X_{(n)} + c_{\\alpha})$. Объясните почему\n",
        "- Нужно найти такое $c_{\\alpha}$, что $P_{\\alpha}(\\theta \\in (X_{(n)}, X_{(n)} + c_{\\alpha})) = \\alpha$"
      ]
    },
    {
      "cell_type": "markdown",
      "id": "639b61d5",
      "metadata": {
        "id": "639b61d5"
      },
      "source": [
        "## Задача 4.\n",
        "\n",
        "Пусть $X_1,...,X_n$ &mdash; выборка из гамма-распределения с параметрами $(\\theta, \\beta)$ и плотностью $p_{\\theta, \\beta}(x) = \\frac{\\theta^{\\beta}}{\\Gamma(\\beta)}x^{\\beta-1}e^{-\\alpha x}$, $x > 0$. Постройте асимптотический доверительный интервал уровня доверия $\\alpha$ для $\\theta$. Параметр $\\beta$ **неизвестен**.\n",
        "\n",
        "***Указание:*** Воспользуйтесь дельта-методом, чтобы получить асимптотически нормальную оценку $\\theta$ и определить ее асимптотическую дисперсию. Моменты гамма распределения не нужно считать напрямую."
      ]
    },
    {
      "cell_type": "markdown",
      "id": "b395a07e",
      "metadata": {
        "id": "b395a07e"
      },
      "source": [
        "---\n",
        "\n",
        "# Практическая часть\n"
      ]
    },
    {
      "cell_type": "code",
      "execution_count": 2,
      "id": "f53723d8",
      "metadata": {
        "id": "f53723d8"
      },
      "outputs": [],
      "source": [
        "import numpy as np\n",
        "import scipy.stats as sps\n",
        "import matplotlib.pyplot as plt\n",
        "import seaborn as sns\n",
        "\n",
        "sns.set(font_scale=1.5, palette='Set2')"
      ]
    },
    {
      "cell_type": "markdown",
      "id": "a481f173",
      "metadata": {
        "id": "a481f173"
      },
      "source": [
        "### <b><font color=\"blue\">Легкая часть</font></b>\n"
      ]
    },
    {
      "cell_type": "markdown",
      "id": "7a6aa45c",
      "metadata": {
        "id": "7a6aa45c"
      },
      "source": [
        "## Задача 5.\n",
        "\n",
        "Пусть $X_1, \\ldots, X_n$ &mdash; выборка из распределения $\\mathcal{N}(a, \\sigma^2)$. Постройте асимптотичекий и точный доверительные интервалы для оценки $S^2$ дисперсии $\\sigma^2$ в зависимости от размера выборки n.\n",
        "\n",
        "Интервалы считайте по префиксам. Циклы использовать **запрещено**. Для подсчета среднего по префиксам используйте функцию `np.cumsum`. При построении интервалов считайте параметр $a$ **неизвестным**"
      ]
    },
    {
      "cell_type": "code",
      "source": [
        "sample_size = 30\n",
        "sample = sps.norm.rvs(size=sample_size)  # выборка"
      ],
      "metadata": {
        "id": "qD1mc6N-JYJz"
      },
      "id": "qD1mc6N-JYJz",
      "execution_count": 13,
      "outputs": []
    },
    {
      "cell_type": "code",
      "execution_count": 19,
      "id": "635963e4",
      "metadata": {
        "id": "635963e4"
      },
      "outputs": [],
      "source": [
        "import numpy as np\n",
        "from scipy.stats import norm, t\n",
        "\n",
        "def calculate_asymptotic_confidence_intervals(sample, alpha=0.95):\n",
        "    '''\n",
        "    Функция для вычисления асимптотического доверительного интервала\n",
        "    параметра theta для всех подвыборок выборки\n",
        "    param sample: выборка,\n",
        "    param alpha: уровень доверия\n",
        "\n",
        "    return: асимптотический доверительный интервал\n",
        "    '''\n",
        "    X_n = np.max(sample)\n",
        "    z_alpha_2 = norm.ppf(1 - (1 - alpha) / 2)\n",
        "\n",
        "    asymptotic_variance = (X_n**2) / (30 * (30 + 1))\n",
        "\n",
        "    left = X_n - z_alpha_2 * np.sqrt(asymptotic_variance)\n",
        "    right = X_n + z_alpha_2 * np.sqrt(asymptotic_variance)\n",
        "\n",
        "    return left, right\n",
        "\n",
        "def calculate_exact_confidence_intervals(sample, alpha=0.95):\n",
        "    '''\n",
        "    Функция для вычисления точного доверительного интервала\n",
        "    параметра theta для всех подвыборок выборки\n",
        "    param sample: выборка,\n",
        "    param alpha: уровень доверия\n",
        "\n",
        "    return: точный доверительный интервал\n",
        "    '''\n",
        "    X_n = np.max(sample)\n",
        "    c_alpha = 1 / (1 - alpha)**(1/30)\n",
        "\n",
        "\n",
        "    left = X_n\n",
        "    right = X_n * c_alpha\n",
        "    left = left.tolist()\n",
        "    right = right.tolist()\n",
        "    return left, right\n",
        "\n"
      ]
    },
    {
      "cell_type": "code",
      "source": [
        "def draw_confidence_interval(\n",
        "    left, right, interval_label, estimation=None, sample=None,\n",
        "    ylim=(-10, 10),xlim=(-5,5), color_estimation='#FF3300', color_interval='#00CC66',\n",
        "    color_sample='#0066FF', label_estimation='Оценка',\n",
        "    sample_label='Семпл'\n",
        "):\n",
        "    '''\n",
        "    Рисует доверительный интервал и оценку в зависимости от размера выборки.\n",
        "\n",
        "    :param left: левые границы интервалов (в зависимости от n)\n",
        "    :param right: правые границы интервалов (в зависимости от n)\n",
        "    :param estimation: оценки (в зависимости от n)\n",
        "    :param sample: выборка\n",
        "    :param ylim: ограничение вертикальной оси\n",
        "    :param color_estimation: цвет оценки\n",
        "    :param color_interval: цвет интервала\n",
        "    :param color_sample: цвет выборки\n",
        "    :param label_estimation: подпись для оценки\n",
        "    '''\n",
        "    left = left.tolist()\n",
        "    right = right.tolist()\n",
        "    time = np.arange(len(left)) + 1\n",
        "\n",
        "    plt.plot(time, left, label = f'нижняя граница({interval_label})')\n",
        "\n",
        "    assert len(time) == len(right)\n",
        "\n",
        "    plt.plot(time, right, label = f'верхняя граница({interval_label})')\n",
        "\n",
        "\n",
        "\n"
      ],
      "metadata": {
        "id": "4b3llTO2IKZU"
      },
      "id": "4b3llTO2IKZU",
      "execution_count": 21,
      "outputs": []
    },
    {
      "cell_type": "code",
      "source": [
        "plt.figure(figsize=(10, 6))\n",
        "draw_confidence_interval(\n",
        "    calculate_asymptotic_confidence_intervals(sample, alpha=0.95)[0], calculate_asymptotic_confidence_intervals(sample, alpha=0.95)[1], estimation=None, sample=None,\n",
        "    ylim=(-10, 10),xlim=(-5,5), color_estimation='#FF3300', color_interval='#00CC66',\n",
        "    color_sample='#0066FF', label_estimation='Оценка',\n",
        "    sample_label='Семпл', interval_label=\"асимптотический\"\n",
        ")\n",
        "\n",
        "draw_confidence_interval(\n",
        "    calculate_confidence_intervals(sample, alpha=0.95)[0], calculate_confidence_intervals(sample, alpha=0.95)[1], estimation=None, sample=None,\n",
        "    ylim=(-10, 10),xlim=(-5,5), color_estimation='#FF3300', color_interval='#00CC66',\n",
        "    color_sample='#0066FF', label_estimation='Оценка',\n",
        "    sample_label='Семпл', interval_label=\"точный\"\n",
        ")\n",
        "plt.legend(fontsize=10)\n",
        "plt.ylim((-5, 5))\n",
        "plt.xlim((4,30))\n",
        "plt.xlabel('Размер выборки')\n",
        "plt.title('Зависимость значений \\\n",
        "доверительного интервала от размера выборки')\n",
        "plt.grid(True)\n",
        "plt.show()\n"
      ],
      "metadata": {
        "colab": {
          "base_uri": "https://localhost:8080/",
          "height": 394
        },
        "id": "uBNYEax4IRLD",
        "outputId": "a539f32f-2797-452f-8fb9-fc596b3fa1df"
      },
      "id": "uBNYEax4IRLD",
      "execution_count": 22,
      "outputs": [
        {
          "output_type": "error",
          "ename": "TypeError",
          "evalue": "object of type 'float' has no len()",
          "traceback": [
            "\u001b[0;31m---------------------------------------------------------------------------\u001b[0m",
            "\u001b[0;31mTypeError\u001b[0m                                 Traceback (most recent call last)",
            "\u001b[0;32m<ipython-input-22-c3f341f3d51e>\u001b[0m in \u001b[0;36m<cell line: 2>\u001b[0;34m()\u001b[0m\n\u001b[1;32m      1\u001b[0m \u001b[0mplt\u001b[0m\u001b[0;34m.\u001b[0m\u001b[0mfigure\u001b[0m\u001b[0;34m(\u001b[0m\u001b[0mfigsize\u001b[0m\u001b[0;34m=\u001b[0m\u001b[0;34m(\u001b[0m\u001b[0;36m10\u001b[0m\u001b[0;34m,\u001b[0m \u001b[0;36m6\u001b[0m\u001b[0;34m)\u001b[0m\u001b[0;34m)\u001b[0m\u001b[0;34m\u001b[0m\u001b[0;34m\u001b[0m\u001b[0m\n\u001b[0;32m----> 2\u001b[0;31m draw_confidence_interval(\n\u001b[0m\u001b[1;32m      3\u001b[0m     \u001b[0mcalculate_asymptotic_confidence_intervals\u001b[0m\u001b[0;34m(\u001b[0m\u001b[0msample\u001b[0m\u001b[0;34m,\u001b[0m \u001b[0malpha\u001b[0m\u001b[0;34m=\u001b[0m\u001b[0;36m0.95\u001b[0m\u001b[0;34m)\u001b[0m\u001b[0;34m[\u001b[0m\u001b[0;36m0\u001b[0m\u001b[0;34m]\u001b[0m\u001b[0;34m,\u001b[0m \u001b[0mcalculate_asymptotic_confidence_intervals\u001b[0m\u001b[0;34m(\u001b[0m\u001b[0msample\u001b[0m\u001b[0;34m,\u001b[0m \u001b[0malpha\u001b[0m\u001b[0;34m=\u001b[0m\u001b[0;36m0.95\u001b[0m\u001b[0;34m)\u001b[0m\u001b[0;34m[\u001b[0m\u001b[0;36m1\u001b[0m\u001b[0;34m]\u001b[0m\u001b[0;34m,\u001b[0m \u001b[0mestimation\u001b[0m\u001b[0;34m=\u001b[0m\u001b[0;32mNone\u001b[0m\u001b[0;34m,\u001b[0m \u001b[0msample\u001b[0m\u001b[0;34m=\u001b[0m\u001b[0;32mNone\u001b[0m\u001b[0;34m,\u001b[0m\u001b[0;34m\u001b[0m\u001b[0;34m\u001b[0m\u001b[0m\n\u001b[1;32m      4\u001b[0m     \u001b[0mylim\u001b[0m\u001b[0;34m=\u001b[0m\u001b[0;34m(\u001b[0m\u001b[0;34m-\u001b[0m\u001b[0;36m10\u001b[0m\u001b[0;34m,\u001b[0m \u001b[0;36m10\u001b[0m\u001b[0;34m)\u001b[0m\u001b[0;34m,\u001b[0m\u001b[0mxlim\u001b[0m\u001b[0;34m=\u001b[0m\u001b[0;34m(\u001b[0m\u001b[0;34m-\u001b[0m\u001b[0;36m5\u001b[0m\u001b[0;34m,\u001b[0m\u001b[0;36m5\u001b[0m\u001b[0;34m)\u001b[0m\u001b[0;34m,\u001b[0m \u001b[0mcolor_estimation\u001b[0m\u001b[0;34m=\u001b[0m\u001b[0;34m'#FF3300'\u001b[0m\u001b[0;34m,\u001b[0m \u001b[0mcolor_interval\u001b[0m\u001b[0;34m=\u001b[0m\u001b[0;34m'#00CC66'\u001b[0m\u001b[0;34m,\u001b[0m\u001b[0;34m\u001b[0m\u001b[0;34m\u001b[0m\u001b[0m\n\u001b[1;32m      5\u001b[0m     \u001b[0mcolor_sample\u001b[0m\u001b[0;34m=\u001b[0m\u001b[0;34m'#0066FF'\u001b[0m\u001b[0;34m,\u001b[0m \u001b[0mlabel_estimation\u001b[0m\u001b[0;34m=\u001b[0m\u001b[0;34m'Оценка'\u001b[0m\u001b[0;34m,\u001b[0m\u001b[0;34m\u001b[0m\u001b[0;34m\u001b[0m\u001b[0m\n",
            "\u001b[0;32m<ipython-input-21-361e9975e8ff>\u001b[0m in \u001b[0;36mdraw_confidence_interval\u001b[0;34m(left, right, interval_label, estimation, sample, ylim, xlim, color_estimation, color_interval, color_sample, label_estimation, sample_label)\u001b[0m\n\u001b[1;32m     20\u001b[0m     \u001b[0mleft\u001b[0m \u001b[0;34m=\u001b[0m \u001b[0mleft\u001b[0m\u001b[0;34m.\u001b[0m\u001b[0mtolist\u001b[0m\u001b[0;34m(\u001b[0m\u001b[0;34m)\u001b[0m\u001b[0;34m\u001b[0m\u001b[0;34m\u001b[0m\u001b[0m\n\u001b[1;32m     21\u001b[0m     \u001b[0mright\u001b[0m \u001b[0;34m=\u001b[0m \u001b[0mright\u001b[0m\u001b[0;34m.\u001b[0m\u001b[0mtolist\u001b[0m\u001b[0;34m(\u001b[0m\u001b[0;34m)\u001b[0m\u001b[0;34m\u001b[0m\u001b[0;34m\u001b[0m\u001b[0m\n\u001b[0;32m---> 22\u001b[0;31m     \u001b[0mtime\u001b[0m \u001b[0;34m=\u001b[0m \u001b[0mnp\u001b[0m\u001b[0;34m.\u001b[0m\u001b[0marange\u001b[0m\u001b[0;34m(\u001b[0m\u001b[0mlen\u001b[0m\u001b[0;34m(\u001b[0m\u001b[0mleft\u001b[0m\u001b[0;34m)\u001b[0m\u001b[0;34m)\u001b[0m \u001b[0;34m+\u001b[0m \u001b[0;36m1\u001b[0m\u001b[0;34m\u001b[0m\u001b[0;34m\u001b[0m\u001b[0m\n\u001b[0m\u001b[1;32m     23\u001b[0m \u001b[0;34m\u001b[0m\u001b[0m\n\u001b[1;32m     24\u001b[0m     \u001b[0mplt\u001b[0m\u001b[0;34m.\u001b[0m\u001b[0mplot\u001b[0m\u001b[0;34m(\u001b[0m\u001b[0mtime\u001b[0m\u001b[0;34m,\u001b[0m \u001b[0mleft\u001b[0m\u001b[0;34m,\u001b[0m \u001b[0mlabel\u001b[0m \u001b[0;34m=\u001b[0m \u001b[0;34mf'нижняя граница({interval_label})'\u001b[0m\u001b[0;34m)\u001b[0m\u001b[0;34m\u001b[0m\u001b[0;34m\u001b[0m\u001b[0m\n",
            "\u001b[0;31mTypeError\u001b[0m: object of type 'float' has no len()"
          ]
        },
        {
          "output_type": "display_data",
          "data": {
            "text/plain": [
              "<Figure size 1000x600 with 0 Axes>"
            ]
          },
          "metadata": {}
        }
      ]
    },
    {
      "cell_type": "markdown",
      "id": "56585a28",
      "metadata": {
        "id": "56585a28"
      },
      "source": [
        "**Вывод:**"
      ]
    },
    {
      "cell_type": "markdown",
      "id": "72063289",
      "metadata": {
        "id": "72063289"
      },
      "source": [
        "### <b><font color=\"orange\">Сложная часть</font></b>"
      ]
    },
    {
      "cell_type": "markdown",
      "id": "e5868c49",
      "metadata": {
        "id": "e5868c49"
      },
      "source": [
        "## Задача 6.\n",
        "Асимпотические доверительные интервалы ничего не могут гарантировать на малых размерах выборки.\n",
        "В этой задаче вам предстоит иллюстрировать этот факт, посчитав реальный уровень доверия для интервалов.\n",
        "\n",
        "**Реальный уровень доверия (оценка доли покрытия интервалом)**  - доля случаев попадания истинного значения параметра в доверительный интервал.\n",
        "\n",
        "*Пример подсчета:*\n",
        "\n",
        "Допустим, вы хотите оценить реальный уровень доверия интервала для $a$, если $X \\sim \\mathcal{N}(a, \\sigma^2)$\n",
        "\n",
        "- Фиксируете истинные $(a, \\sigma^2)$, для которых будете делать оценку\n",
        "- Генерируете $B$ выборок из $\\mathcal{N}(a, \\sigma^2)$ с зафиксированными параметрами\n",
        "- По каждой выборке получаете АДИ для $a$\n",
        "- Считаете долю случаев, когда истинное $a$ попадает в интервал\n",
        "\n",
        "Эта доля и будет оценкой доли покрытия интервала.\n",
        "\n",
        "**Важно:** вы симулируете реальную ситуацию, когда вы не знаете ни $a$, ни $\\sigma$, поэтому в формулах для АДИ их **использовать нельзя**!\n",
        "\n",
        "**Важно:** при такой оценке реального уровня доверия вы используете метод, погрешность которого составляет $\\sim \\frac{1}{\\sqrt{n}}$, где $n$ - количество выборок, по которым осуществляется оценка.\n",
        "\n",
        "*Вопрос:* какое $n$ нужно брать, если вы хотите оценить реальный уровень доверия с точностью до 2 знаков ($\\delta = 0.01$)?\n",
        "\n",
        "**Ваш ответ:** 10000\n"
      ]
    },
    {
      "cell_type": "markdown",
      "id": "9bdec90c",
      "metadata": {
        "id": "9bdec90c"
      },
      "source": [
        "Сгенерируйте набор выборок из нормального распределения $\\mathcal{N}(\\theta, 1)$ при $\\theta=0$"
      ]
    },
    {
      "cell_type": "code",
      "execution_count": 6,
      "id": "8c17d8b1",
      "metadata": {
        "id": "8c17d8b1"
      },
      "outputs": [],
      "source": [
        "theta = 0  # истинное значение параметра\n",
        "sample_size = 300\n",
        "sample_count = 10000\n",
        "X = sps.norm.rvs(size=(sample_count, sample_size))"
      ]
    },
    {
      "cell_type": "markdown",
      "id": "cd01c251",
      "metadata": {
        "id": "cd01c251"
      },
      "source": [
        "### Случай АДИ"
      ]
    },
    {
      "cell_type": "markdown",
      "id": "c4d4dbb1",
      "metadata": {
        "id": "c4d4dbb1"
      },
      "source": [
        "На лекции вы получали формулу для асимптотического доверительного интервала для $a$\n",
        "\n",
        "Асимптотический доверительный интервал: $\\theta \\in \\bigg(\\overline{X} - \\frac{S}{\\sqrt{n}}z_{(1+\\alpha)/2}, \\overline{X} + \\frac{S}{\\sqrt{n}}z_{(1+\\alpha)/2} \\bigg)$"
      ]
    },
    {
      "cell_type": "markdown",
      "id": "638dde7b",
      "metadata": {
        "id": "638dde7b"
      },
      "source": [
        "Посчитайте $z$ (используйте функцию `.ppf`)"
      ]
    },
    {
      "cell_type": "code",
      "execution_count": 3,
      "id": "c22bd053",
      "metadata": {
        "id": "c22bd053"
      },
      "outputs": [],
      "source": [
        "z = sps.norm.ppf(0.95)"
      ]
    },
    {
      "cell_type": "markdown",
      "id": "299dec51",
      "metadata": {
        "id": "299dec51"
      },
      "source": [
        "Постройте график зависимости реального уровня доверия интервала от размера выборки. График начинайте с $n=2$.\n",
        "\n",
        "Для этого вам нужно провести описанную выше процедуру для подвыборок разных размеров. Для подсчета интервалов по префиксам используйте функцию `np.cumsum`. Для того чтобы не запутаться, разносите подсчет разных величин, входящих в формулу, по разным строчкам."
      ]
    },
    {
      "cell_type": "code",
      "execution_count": 4,
      "id": "d8018a17",
      "metadata": {
        "id": "d8018a17"
      },
      "outputs": [],
      "source": [
        "def count_elements_in_interval(arr, lower_bound, upper_bound):\n",
        "    count = np.sum((arr >= lower_bound) & (arr <= upper_bound))\n",
        "    return count"
      ]
    },
    {
      "cell_type": "code",
      "source": [
        "n = []\n",
        "for i in range(10000):\n",
        "    mns = list((X[:, :i+1].mean(axis=-1)))\n",
        "    s = np.sqrt(np.var(mns))\n",
        "    left=-z*s\n",
        "    right=z*s\n",
        "    n.append(count_elements_in_interval(mns, left, right)/(10000))"
      ],
      "metadata": {
        "id": "3dvAqp7xHmqR"
      },
      "id": "3dvAqp7xHmqR",
      "execution_count": 7,
      "outputs": []
    },
    {
      "cell_type": "code",
      "source": [
        "plt.figure(figsize=(15, 10))\n",
        "plt.plot(np.arange(10000), n, label='Доля', color='green')\n",
        "plt.axhline(0.899, label='Теоретический уровень', color='blue')\n",
        "plt.legend()"
      ],
      "metadata": {
        "colab": {
          "base_uri": "https://localhost:8080/",
          "height": 861
        },
        "id": "H4zNGkWDHo7S",
        "outputId": "bbfc5d15-15cb-4e5b-9f64-2432b534d5d0"
      },
      "id": "H4zNGkWDHo7S",
      "execution_count": 10,
      "outputs": [
        {
          "output_type": "execute_result",
          "data": {
            "text/plain": [
              "<matplotlib.legend.Legend at 0x7c630a6c25c0>"
            ]
          },
          "metadata": {},
          "execution_count": 10
        },
        {
          "output_type": "display_data",
          "data": {
            "text/plain": [
              "<Figure size 1500x1000 with 1 Axes>"
            ],
            "image/png": "[encoded data removed]"
          },
          "metadata": {}
        }
      ]
    },
    {
      "cell_type": "markdown",
      "id": "cce4cc24",
      "metadata": {
        "id": "cce4cc24"
      },
      "source": [
        "Сделайте выводы.\n",
        "При маленьких размерах выборки мы видим, что нужная доля попадает в доверительный интервал $\\approx0.899$, это круто. Даже при n=10000 в доверительный интервал попадает чуть меньше 90% оценок."
      ]
    },
    {
      "cell_type": "markdown",
      "id": "34c792f5",
      "metadata": {
        "id": "34c792f5"
      },
      "source": [
        "### Случай ТДИ\n",
        "\n",
        "На лекции вы получали формулу для точного доверительного интервала для $a$ в нормальной модели\n",
        "\n",
        "Точный доверительный интервал: $\\theta \\in \\bigg(\\overline{X} - \\frac{S}{\\sqrt{n-1}}T_{n-1,(1+\\alpha)/2}, \\overline{X} + \\frac{S}{\\sqrt{n-1}}T_{n-1,(1+\\alpha)/2} \\bigg)$\n",
        "\n",
        "**Вопрос:** чем этот интервал лучше предыдущего?\n",
        "\n",
        "**Ваш ответ:**\n",
        "\n",
        "Постройте график реального уровня доверия интервала от размера выборки для этого вида интервала. График начинайте с $n=2$. Сравните его с предыдущим."
      ]
    },
    {
      "cell_type": "code",
      "execution_count": null,
      "id": "3a5a270d",
      "metadata": {
        "id": "3a5a270d"
      },
      "outputs": [],
      "source": []
    },
    {
      "cell_type": "markdown",
      "id": "cfb3e506",
      "metadata": {
        "id": "cfb3e506"
      },
      "source": [
        "**Вывод:**"
      ]
    }
  ],
  "metadata": {
    "colab": {
      "provenance": []
    },
    "kernelspec": {
      "display_name": "sber",
      "language": "python",
      "name": "python3"
    },
    "language_info": {
      "codemirror_mode": {
        "name": "ipython",
        "version": 3
      },
      "file_extension": ".py",
      "mimetype": "text/x-python",
      "name": "python",
      "nbconvert_exporter": "python",
      "pygments_lexer": "ipython3",
      "version": "3.11.5"
    },
    "varInspector": {
      "cols": {
        "lenName": 16,
        "lenType": 16,
        "lenVar": 40
      },
      "kernels_config": {
        "python": {
          "delete_cmd_postfix": "",
          "delete_cmd_prefix": "del ",
          "library": "var_list.py",
          "varRefreshCmd": "print(var_dic_list())"
        },
        "r": {
          "delete_cmd_postfix": ") ",
          "delete_cmd_prefix": "rm(",
          "library": "var_list.r",
          "varRefreshCmd": "cat(var_dic_list()) "
        }
      },
      "types_to_exclude": [
        "module",
        "function",
        "builtin_function_or_method",
        "instance",
        "_Feature"
      ],
      "window_display": false
    },
    "vscode": {
      "interpreter": {
        "hash": "415525cc3f40ad8355b7c2a7d3b034c5d7bb85ff256d91eaa0aa6b53328ab0d3"
      }
    }
  },
  "nbformat": 4,
  "nbformat_minor": 5
}
