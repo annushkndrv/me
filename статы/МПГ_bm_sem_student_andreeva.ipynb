{
  "cells": [
    {
      "cell_type": "markdown",
      "metadata": {
        "id": "uFxFI0lVE2SH"
      },
      "source": [
        "# <a href=\"https://thetahat.ru/courses/bm-2024-aut\">Cтатистика ФБМФ </a>"
      ]
    },
    {
      "cell_type": "markdown",
      "metadata": {
        "id": "VK2zi7zNE2SL"
      },
      "source": [
        "## Семинар 11"
      ]
    },
    {
      "cell_type": "code",
      "execution_count": 9,
      "metadata": {
        "id": "aSp8g2PVE2SL"
      },
      "outputs": [],
      "source": [
        "# Bot check\n",
        "\n",
        "# HW_ID: st_sem11\n",
        "# Бот проверит этот ID и предупредит, если случайно сдать что-то не то.\n",
        "\n",
        "# Status: final\n",
        "# Перед отправкой в финальном решении удали \"not\" в строчке выше.\n",
        "# Так бот проверит, что ты отправляешь финальную версию, а не промежуточную.\n",
        "# Никакие значения в этой ячейке не влияют на факт сдачи работы."
      ]
    },
    {
      "cell_type": "code",
      "execution_count": 1,
      "metadata": {
        "id": "1feZaBAqE2SN"
      },
      "outputs": [],
      "source": [
        "import pandas as pd\n",
        "import scipy.stats as sps\n",
        "import matplotlib.pyplot as plt\n",
        "import numpy as np\n",
        "import seaborn as sns\n",
        "\n",
        "import random\n",
        "# зафиксируем сид для воспроизводимости генерации\n",
        "SEED = 42\n",
        "np.random.seed(SEED)\n",
        "random.seed(SEED)"
      ]
    },
    {
      "cell_type": "markdown",
      "metadata": {
        "id": "7MPFdEMnE2SN"
      },
      "source": [
        "## Множественная проверка гипотез"
      ]
    },
    {
      "cell_type": "markdown",
      "metadata": {
        "id": "DFNingy8E2SO"
      },
      "source": [
        "С помощью статистических методов можно проверить человека на наличие экстрасенсорных способностей: предложим ему угадать последовательность, состоящую из двух цветов, длины 100.\n",
        "\n",
        "Сформулируем задачу на статистическом языке:\n",
        "\n",
        "$X_1...X_{100}$ &mdash; выборка из распределения $Bern(p)$\n",
        "\n",
        "$p=0.5$ отвечает случайному угадыванию.\n",
        "\n",
        "Проверьте гипотезу: $\\mathsf{H}_0 \\colon p=0.5$ vs $\\mathsf{H}_1 \\colon p \\neq 0.5$. Используйте критерий Вальда.\n",
        "\n",
        "В качестве асимптотически нормальной оценки можно использовать $\\widehat{p} = \\overline{X}$ с асимптотической дисперсией $\\sigma^2(p) = p (1 - p)$.\n",
        "\n",
        "Выпишем состоятельную оценку дисперсии и статистику критерия Вальда:\n",
        "\n",
        "$\\widehat{\\sigma} = \\sqrt{\\overline{X} (1 - \\overline{X})}$, $W = \\sqrt{n} \\frac{\\overline{X} - 0.5}{\\sqrt{\\overline{X} (1 - \\overline{X})}}$"
      ]
    },
    {
      "cell_type": "markdown",
      "metadata": {
        "id": "lf4GYGcPE2SO"
      },
      "source": [
        "Оценим реальный уровень значимости для этого критерия при размере выборки равном 100. К чему он должен быть близок?\n",
        "\n",
        "**Ответ:** к 0.05"
      ]
    },
    {
      "cell_type": "markdown",
      "metadata": {
        "id": "OfeuznX3E2SP"
      },
      "source": [
        "Для скорости вычислений используйте количество выборок равное $10^3$."
      ]
    },
    {
      "cell_type": "code",
      "execution_count": 2,
      "metadata": {
        "id": "tPU0mKXwE2SQ"
      },
      "outputs": [],
      "source": [
        "sample_size = 100\n",
        "sample_count = 1000\n",
        "\n",
        "theta = 0.5"
      ]
    },
    {
      "cell_type": "code",
      "execution_count": 3,
      "metadata": {
        "id": "zlRNtsATE2SQ"
      },
      "outputs": [],
      "source": [
        "def wald_test(sample, theta, estimation_theta, estimation_sigma, alpha=0.05, alternative='two_sided'):\n",
        "    \"\"\"\n",
        "    param sample: реализация выборки\n",
        "    param theta: истинное значение параметра\n",
        "    param estimation_theta: оценка параметра\n",
        "    param estimation_sigma: оценка асимптотической дисперсии оценки estimation_sigma\n",
        "    param alpha: уровень значимости критерия\n",
        "    param alternative: вид альтернативной гипотезы, может принимать одно из значений 'two_sided', 'less', 'greater'\n",
        "\n",
        "    return statistic\n",
        "    return p_value\n",
        "    \"\"\"\n",
        "\n",
        "    alpha = 0.05\n",
        "    z = sps.norm.ppf(1 - alpha/2)\n",
        "    n = len(sample)\n",
        "    statistic = np.sqrt(n) * (estimation_theta - theta) / estimation_sigma\n",
        "\n",
        "    if alternative == 'two_sided':\n",
        "        p_value = sps.norm.sf(np.abs(statistic)) + sps.norm.cdf(-np.abs(statistic))\n",
        "        conf_int = round(estimation_theta - z*estimation_sigma/np.sqrt(n), 4), round(estimation_theta + z*estimation_sigma/np.sqrt(n), 4)\n",
        "\n",
        "\n",
        "    elif alternative == 'less':\n",
        "        p_value = sps.norm.cdf(statistic)\n",
        "        conf_int = (-np.inf, round(estimation_theta + z*estimation_sigma/np.sqrt(n), 4))\n",
        "\n",
        "\n",
        "    elif alternative == 'greater':\n",
        "        p_value = sps.norm.sf(statistic)\n",
        "        conf_int = (round(estimation_theta + z*estimation_sigma/np.sqrt(n), 4), np.inf)\n",
        "\n",
        "    else:\n",
        "        raise ValueError('alternative name is wrong')\n",
        "\n",
        "    return statistic, p_value, conf_int"
      ]
    },
    {
      "cell_type": "markdown",
      "metadata": {
        "id": "PeVsgDkbE2SR"
      },
      "source": [
        "Оценим реальный уровень значимости"
      ]
    },
    {
      "cell_type": "code",
      "execution_count": 4,
      "metadata": {
        "colab": {
          "base_uri": "https://localhost:8080/"
        },
        "id": "XWdYcu3dE2SR",
        "outputId": "9e14de9a-8bcb-415b-b18b-49d1b8c4b409"
      },
      "outputs": [
        {
          "output_type": "execute_result",
          "data": {
            "text/plain": [
              "0.059"
            ]
          },
          "metadata": {},
          "execution_count": 4
        }
      ],
      "source": [
        "sample = sps.bernoulli(p = 0.5).rvs(size = (sample_count, sample_size))\n",
        "\n",
        "estimation_theta = sample.mean(axis = 1)\n",
        "estimation_sigma = np.sqrt(estimation_theta * (1 - estimation_theta))\n",
        "\n",
        "\n",
        "counter = 0\n",
        "\n",
        "for i in range(sample_count):\n",
        "    _, p_value, conf_int = wald_test(sample[i], theta, estimation_theta[i], estimation_sigma[i])\n",
        "    is_rejected = p_value < 0.05\n",
        "    if is_rejected:\n",
        "        counter += 1\n",
        "\n",
        "counter / sample_count\n",
        "\n"
      ]
    },
    {
      "cell_type": "markdown",
      "source": [
        "Знаачение действительно близко к 0.05"
      ],
      "metadata": {
        "id": "6NE-gfTsJmr_"
      }
    },
    {
      "cell_type": "markdown",
      "metadata": {
        "id": "XpqCI6tVE2SS"
      },
      "source": [
        "Теперь представим, что мы хотим проверить большое количество людей на экстрасенсорные способности с помощью данного критерия.\n",
        "\n",
        "Проведите аналогичный эксперимент: сгенерируйте $10^3$ выборок размера $100$ для $100$ людей. Посчитайте, сколько раз из 1000 в вашем наборе из 100 выборок хотя бы для одной гипотеза будет отвергнута."
      ]
    },
    {
      "cell_type": "code",
      "execution_count": 5,
      "metadata": {
        "id": "PYPkCFIAE2SS"
      },
      "outputs": [],
      "source": [
        "sample_people = 100\n",
        "sample_all = sps.bernoulli(p = 0.5).rvs(size = (100, 1000, 100))\n",
        "\n",
        "counter = 0\n",
        "for sample in sample_all:\n",
        "    estimation_theta = sample.mean(axis = 1)\n",
        "    estimation_sigma = np.sqrt(estimation_theta * (1 - estimation_theta))\n",
        "\n",
        "\n",
        "    for i in range(100):\n",
        "        _, p_value, conf_int = wald_test(sample[i], theta, estimation_theta[i], estimation_sigma[i])\n",
        "        is_rejected = p_value < 0.05\n",
        "        if is_rejected:\n",
        "            counter += 1\n",
        "            break"
      ]
    },
    {
      "cell_type": "code",
      "execution_count": 6,
      "metadata": {
        "colab": {
          "base_uri": "https://localhost:8080/"
        },
        "id": "Hs1Ga07iE2SS",
        "outputId": "fe5e4865-7b8c-4479-d77e-6a27909937e2"
      },
      "outputs": [
        {
          "output_type": "execute_result",
          "data": {
            "text/plain": [
              "0.1"
            ]
          },
          "metadata": {},
          "execution_count": 6
        }
      ],
      "source": [
        "counter / 1000"
      ]
    },
    {
      "cell_type": "markdown",
      "metadata": {
        "id": "S2peMlS8E2ST"
      },
      "source": [
        "**Вывод:** 10% - это большой процент отвергнутый гипотез при $\\alpha = 0.05$ (критерий не применим). Вероятно, так получилось, потому что мы берем уровень значимости для одного эксперимента, а идет параллельно 100 экспериментов, и у нас накапливается ошибка первого рода.\n",
        "\n",
        "На лекции вы прошли метод, позволяющий не накапливать ошибку 1 рода. В этом методе необходимо использовать уровень значимости, зависящий от количества проверяемых одновременно гипотез.\n",
        "\n",
        "**Чему равен этот уровень значимости, если одновременно проверяются n гипотез?**\n",
        "\n",
        "**Ответ:** $\\frac{\\alpha}{n}$, где $\\alpha$ - уровень значимости для одной гипотезы.\n",
        "\n",
        "Проведите предыдущий эксперимент с использованием корректной процедуры. Поскольку в реализованной выше функции $\\alpha$ зафиксировано, используйте критерий отвержения гипотезы с помощью p-value.\n",
        "\n",
        "В данном задании **ЗАПРЕЩЕНО** пользоваться `statsmodels.stats.multitest.multipletests`"
      ]
    },
    {
      "cell_type": "code",
      "execution_count": 7,
      "metadata": {
        "id": "AYTNCdHZE2ST"
      },
      "outputs": [],
      "source": [
        "sample_all = sps.bernoulli(p = 0.5).rvs(size = (100, 1000, 100))\n",
        "\n",
        "counter = 0\n",
        "for sample in sample_all:\n",
        "    estimation_theta = sample.mean(axis = 1)\n",
        "    estimation_sigma = np.sqrt(estimation_theta * (1 - estimation_theta))\n",
        "\n",
        "    for i in range(100):\n",
        "        _, p_value, conf_int = wald_test(sample[i], theta, estimation_theta[i], estimation_sigma[i])\n",
        "        is_rejected = p_value < (0.05 / 100)\n",
        "        if is_rejected:\n",
        "            counter += 1\n",
        "            break"
      ]
    },
    {
      "cell_type": "code",
      "execution_count": 8,
      "metadata": {
        "colab": {
          "base_uri": "https://localhost:8080/"
        },
        "id": "4Xy-B3i-E2ST",
        "outputId": "31ddccd2-91d7-4499-feb1-2264d568eda4"
      },
      "outputs": [
        {
          "output_type": "execute_result",
          "data": {
            "text/plain": [
              "0.009"
            ]
          },
          "metadata": {},
          "execution_count": 8
        }
      ],
      "source": [
        "counter / 1000"
      ]
    },
    {
      "cell_type": "markdown",
      "metadata": {
        "id": "Z4ZUeydAE2ST"
      },
      "source": [
        "**Вывод:** Видно, что процент отвергнутых гипотез уменьшился. Критерий стал применим, когда мы стали делить уровень значимости на количество экспериментов."
      ]
    }
  ],
  "metadata": {
    "kernelspec": {
      "display_name": "Python 3 (ipykernel)",
      "language": "python",
      "name": "python3"
    },
    "language_info": {
      "codemirror_mode": {
        "name": "ipython",
        "version": 3
      },
      "file_extension": ".py",
      "mimetype": "text/x-python",
      "name": "python",
      "nbconvert_exporter": "python",
      "pygments_lexer": "ipython3",
      "version": "3.11.5"
    },
    "toc": {
      "base_numbering": 1,
      "nav_menu": {},
      "number_sections": true,
      "sideBar": true,
      "skip_h1_title": false,
      "title_cell": "Table of Contents",
      "title_sidebar": "Contents",
      "toc_cell": false,
      "toc_position": {},
      "toc_section_display": true,
      "toc_window_display": false
    },
    "colab": {
      "provenance": []
    }
  },
  "nbformat": 4,
  "nbformat_minor": 0
}