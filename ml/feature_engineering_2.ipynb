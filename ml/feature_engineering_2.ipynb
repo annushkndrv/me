{
  "cells": [
    {
      "cell_type": "markdown",
      "id": "be8a1d98",
      "metadata": {
        "id": "be8a1d98"
      },
      "source": [
        "# <a href=\"https://thetahat.ru/courses/ph-ds-2024-aut\">Phystech@DataScience</a>\n",
        "## Семинар 6\n",
        "\n",
        "**Правила, <font color=\"red\">прочитайте внимательно</font>:**\n",
        "\n",
        "* Выполненную работу нужно отправить телеграм-боту `@miptstats_pds_bot`. Для начала работы с ботом каждый раз отправляйте `/start`. **Работы, присланные иным способом, не принимаются.**\n",
        "* Дедлайн см. в боте. После дедлайна работы не принимаются кроме случаев наличия уважительной причины.\n",
        "* Прислать нужно ноутбук в формате `ipynb`.\n",
        "* Выполнять задание необходимо полностью самостоятельно. **При обнаружении списывания все участники списывания будут сдавать устный зачет.**\n",
        "* Решения, размещенные на каких-либо интернет-ресурсах, не принимаются. Кроме того, публикация решения в открытом доступе может быть приравнена к предоставлении возможности списать.\n",
        "* Для выполнения задания используйте этот ноутбук в качестве основы, ничего не удаляя из него. Можно добавлять необходимое количество ячеек.\n",
        "* Комментарии к решению пишите в markdown-ячейках.\n",
        "* Выполнение задания (ход решения, выводы и пр.) должно быть осуществлено на русском языке.\n",
        "* Если код будет не понятен проверяющему, оценка может быть снижена.\n",
        "* Никакой код из данного задания при проверке запускаться не будет. *Если код студента не выполнен, недописан и т.д., то он не оценивается.*\n",
        "* **Код из рассказанных на занятиях ноутбуков можно использовать без ограничений.**\n",
        "\n",
        "**Правила оформления теоретических задач:**\n",
        "\n",
        "* Решения необходимо прислать одним из следующих способов:\n",
        "  * фотографией в правильной ориентации, где все четко видно, а почерк разборчив,\n",
        "    * отправив ее как файл боту вместе с ноутбуком *или*\n",
        "    * вставив ее в ноутбук посредством `Edit -> Insert Image` (<font color=\"red\">фото, вставленные ссылкой, не принимаются</font>);\n",
        "  * в виде $\\LaTeX$ в markdown-ячейках.\n",
        "* Решения не проверяются, если какое-то требование не выполнено. Особенно внимательно все проверьте в случае выбора второго пункта (вставки фото в ноутбук). <font color=\"red\"><b>Неправильно вставленные фотографии могут не передаться при отправке.</b></font> Для проверки попробуйте переместить `ipynb` в другую папку и открыть его там.\n",
        "* В решениях поясняйте, чем вы пользуетесь, хотя бы кратко. Например, если пользуетесь независимостью, то достаточно подписи вида \"*X и Y незав.*\"\n",
        "* Решение, в котором есть только ответ, и отсутствуют вычисления, оценивается в 0 баллов."
      ]
    },
    {
      "cell_type": "code",
      "execution_count": 22,
      "id": "74c0b331",
      "metadata": {
        "id": "74c0b331"
      },
      "outputs": [],
      "source": [
        "# Bot check\n",
        "\n",
        "# HW_ID: phds_sem6\n",
        "# Бот проверит этот ID и предупредит, если случайно сдать что-то не то.\n",
        "\n",
        "# Status: not final\n",
        "# Перед отправкой в финальном решении удали \"not\" в строчке выше.\n",
        "# Так бот проверит, что ты отправляешь финальную версию, а не промежуточную.\n",
        "# Никакие значения в этой ячейке не влияют на факт сдачи работы."
      ]
    },
    {
      "cell_type": "code",
      "execution_count": 23,
      "id": "68e524ec5a9cae96",
      "metadata": {
        "id": "68e524ec5a9cae96"
      },
      "outputs": [],
      "source": [
        "import pandas as pd\n",
        "import numpy as np\n",
        "\n",
        "from sklearn.metrics import mean_squared_error as MSE\n",
        "from sklearn.model_selection import train_test_split\n",
        "from sklearn.preprocessing import StandardScaler\n",
        "from sklearn.linear_model import Lasso\n",
        "from sklearn.ensemble import RandomForestRegressor\n",
        "from sklearn.neighbors import KNeighborsRegressor\n",
        "from sklearn.inspection import permutation_importance\n",
        "\n",
        "import seaborn as sns\n",
        "\n",
        "sns.set(context='poster')\n",
        "%matplotlib inline"
      ]
    },
    {
      "cell_type": "markdown",
      "id": "6b132fcd",
      "metadata": {
        "pycharm": {
          "name": "#%% md\n"
        },
        "id": "6b132fcd"
      },
      "source": [
        "### Задача 1"
      ]
    },
    {
      "cell_type": "markdown",
      "id": "21602547",
      "metadata": {
        "pycharm": {
          "name": "#%% md\n"
        },
        "id": "21602547"
      },
      "source": [
        "Рассмотрим как можно провести отбор признаков с помощью обучения линейной регрессии и леса с малым количеством деревьев ($\\approx 10$) на примере задачи регрессии. Будем использовать датасет <https://www.kaggle.com/datasets/abrambeyer/openintro-possum> и пытаться предсказать возраст оппосумов на основе различных параметров их тела.\n",
        "\n",
        "Для упрощения задачи избавимся от категориальных признаков"
      ]
    },
    {
      "cell_type": "code",
      "execution_count": 24,
      "id": "e33ab772",
      "metadata": {
        "pycharm": {
          "name": "#%%\n"
        },
        "id": "e33ab772"
      },
      "outputs": [],
      "source": [
        "data = pd.read_csv('possum.csv').dropna()\n",
        "X = data[data.columns.drop(['sex', 'Pop', 'age'])]\n",
        "y = data['age']"
      ]
    },
    {
      "cell_type": "markdown",
      "id": "ad2ecc9d",
      "metadata": {
        "pycharm": {
          "name": "#%% md\n"
        },
        "id": "ad2ecc9d"
      },
      "source": [
        "Разделим выборку на тренировочную и тестовую часть"
      ]
    },
    {
      "cell_type": "code",
      "execution_count": 25,
      "id": "8654d280",
      "metadata": {
        "pycharm": {
          "name": "#%%\n"
        },
        "id": "8654d280"
      },
      "outputs": [],
      "source": [
        "X_train, X_test, y_train, y_test = train_test_split(X, y, test_size=0.33, random_state=42)"
      ]
    },
    {
      "cell_type": "markdown",
      "id": "8f7cdd4e",
      "metadata": {
        "pycharm": {
          "name": "#%% md\n"
        },
        "id": "8f7cdd4e"
      },
      "source": [
        "Стандартизируем данные для корректной работы **линейной регрессии**:"
      ]
    },
    {
      "cell_type": "code",
      "execution_count": 26,
      "id": "15160c3f",
      "metadata": {
        "pycharm": {
          "name": "#%%\n"
        },
        "id": "15160c3f"
      },
      "outputs": [],
      "source": [
        "scaler = StandardScaler()\n",
        "X_train_norm = scaler.fit_transform(X_train)\n",
        "X_test_norm = scaler.transform(X_test)"
      ]
    },
    {
      "cell_type": "markdown",
      "id": "518281a3",
      "metadata": {
        "pycharm": {
          "name": "#%% md\n"
        },
        "id": "518281a3"
      },
      "source": [
        "Обучим модель линейной регрессии с L1-регуляризацией на всех данных, посмотрим на метрику качества"
      ]
    },
    {
      "cell_type": "code",
      "execution_count": 27,
      "id": "d6410500",
      "metadata": {
        "pycharm": {
          "name": "#%%\n"
        },
        "colab": {
          "base_uri": "https://localhost:8080/"
        },
        "id": "d6410500",
        "outputId": "b79de348-bb55-4bad-9e2e-61cd0a2aa6dc"
      },
      "outputs": [
        {
          "output_type": "stream",
          "name": "stdout",
          "text": [
            "Коэффиценты модели: [-0.          0.          0.2451365   0.0463782   0.         -0.\n",
            " -0.07870314  0.          0.23833098  0.05802872  0.30598817]\n",
            "Значение MSE на тренировочной выборке: 3.0907392585723974\n",
            "Значение MSE на тестовой выборке: 2.955306344756532\n"
          ]
        }
      ],
      "source": [
        "lin_model = Lasso(alpha=0.1)\n",
        "lin_model.fit(X_train_norm, y_train)\n",
        "print('Коэффиценты модели:', lin_model.coef_)\n",
        "print('Значение MSE на тренировочной выборке:', MSE(lin_model.predict(X_train_norm), y_train))\n",
        "print('Значение MSE на тестовой выборке:', MSE(lin_model.predict(X_test_norm), y_test))"
      ]
    },
    {
      "cell_type": "markdown",
      "id": "ffc918fd",
      "metadata": {
        "pycharm": {
          "name": "#%% md\n"
        },
        "id": "ffc918fd"
      },
      "source": [
        "Проделаем аналогичную процедуру с лесом c небольшим количеством деревьев:"
      ]
    },
    {
      "cell_type": "code",
      "execution_count": 28,
      "id": "4ae946f2",
      "metadata": {
        "pycharm": {
          "name": "#%%\n"
        },
        "colab": {
          "base_uri": "https://localhost:8080/"
        },
        "id": "4ae946f2",
        "outputId": "89f2209d-7a09-4b74-9a69-cb245a61fe51"
      },
      "outputs": [
        {
          "output_type": "stream",
          "name": "stdout",
          "text": [
            "Важность признаков: [0.13901666 0.00976327 0.21418161 0.28668792 0.0726663  0.05745777\n",
            " 0.03598931 0.07092169 0.04461522 0.05049527 0.01820497]\n",
            "Значение MSE на тренировочной выборке: 0.5725373134328358\n",
            "Значение MSE на тестовой выборке: 2.6567647058823534\n"
          ]
        }
      ],
      "source": [
        "forest = RandomForestRegressor(n_estimators=10, random_state=42)\n",
        "forest.fit(X_train, y_train)\n",
        "print('Важность признаков:', forest.feature_importances_)\n",
        "print('Значение MSE на тренировочной выборке:', MSE(forest.predict(X_train), y_train))\n",
        "print('Значение MSE на тестовой выборке:', MSE(forest.predict(X_test), y_test))"
      ]
    },
    {
      "cell_type": "markdown",
      "id": "a7284a11",
      "metadata": {
        "id": "a7284a11"
      },
      "source": [
        "Что вы можете сказать смотря на коэффициенты модели для регрессии и на важность признаков для леса?"
      ]
    },
    {
      "cell_type": "markdown",
      "id": "1042359e",
      "metadata": {
        "id": "1042359e"
      },
      "source": [
        "**Вывод**: В модели линейной регрессии есть нулевые коэффициенты, это о говорит о том, что эти признаки не влияют, это специфика lasso регрессии. Важность/коэффициенты можно отранжировать, и отобрать самые важные признаки."
      ]
    },
    {
      "cell_type": "markdown",
      "id": "89a4694e",
      "metadata": {
        "pycharm": {
          "name": "#%% md\n"
        },
        "id": "89a4694e"
      },
      "source": [
        "Составим 2 списка наиболее важных признаков - один с признаками, наиболее важными для линейной регрессии, второй с наиболее важными для леса"
      ]
    },
    {
      "cell_type": "code",
      "execution_count": 29,
      "id": "13a25ff0",
      "metadata": {
        "pycharm": {
          "name": "#%%\n"
        },
        "id": "13a25ff0"
      },
      "outputs": [],
      "source": [
        "lin_imp = []\n",
        "forest_imp = []\n",
        "for i, column in enumerate(X.columns):\n",
        "    if lin_model.coef_[i] > 0.1:\n",
        "        lin_imp.append(i)\n",
        "    if forest.feature_importances_[i] > 0.1:\n",
        "        forest_imp.append(column)"
      ]
    },
    {
      "cell_type": "code",
      "execution_count": 30,
      "id": "a7b269c4",
      "metadata": {
        "pycharm": {
          "name": "#%%\n"
        },
        "id": "a7b269c4"
      },
      "outputs": [],
      "source": [
        "X_train_norm_lin_imp = X_train_norm[:, lin_imp]\n",
        "X_test_norm_lin_imp = X_test_norm[:, lin_imp]\n",
        "\n",
        "X_train_forest_imp = X_train[forest_imp]\n",
        "X_test_forest_imp = X_test[forest_imp]"
      ]
    },
    {
      "cell_type": "markdown",
      "id": "07705dd7",
      "metadata": {
        "pycharm": {
          "name": "#%% md\n"
        },
        "id": "07705dd7"
      },
      "source": [
        "Теперь обучим модели только на важных признаках:"
      ]
    },
    {
      "cell_type": "code",
      "execution_count": 31,
      "id": "33d54368",
      "metadata": {
        "pycharm": {
          "name": "#%%\n"
        },
        "colab": {
          "base_uri": "https://localhost:8080/"
        },
        "id": "33d54368",
        "outputId": "76894f6a-01c3-4cae-8936-7a8b88bbd31c"
      },
      "outputs": [
        {
          "output_type": "stream",
          "name": "stdout",
          "text": [
            "Коэффиценты модели: [0.27942877 0.23624623 0.30994129]\n",
            "Значение MSE на тренировочной выборке: 3.1274779658965923\n",
            "Значение MSE на тестовой выборке: 2.9453030952790327\n"
          ]
        }
      ],
      "source": [
        "lin_model_2 = Lasso(alpha=0.1)\n",
        "lin_model_2.fit(X_train_norm_lin_imp, y_train)\n",
        "print('Коэффиценты модели:', lin_model_2.coef_)\n",
        "print('Значение MSE на тренировочной выборке:', MSE(lin_model_2.predict(X_train_norm_lin_imp), y_train))\n",
        "print('Значение MSE на тестовой выборке:', MSE(lin_model_2.predict(X_test_norm_lin_imp), y_test))"
      ]
    },
    {
      "cell_type": "code",
      "execution_count": 32,
      "id": "c4f0c848",
      "metadata": {
        "pycharm": {
          "name": "#%%\n"
        },
        "colab": {
          "base_uri": "https://localhost:8080/"
        },
        "id": "c4f0c848",
        "outputId": "9d69809d-3a31-4b88-eb00-db649ebf308e"
      },
      "outputs": [
        {
          "output_type": "stream",
          "name": "stdout",
          "text": [
            "Важность признаков: [0.24975552 0.3691183  0.38112618]\n",
            "Значение MSE на тренировочной выборке: 0.5901492537313433\n",
            "Значение MSE на тестовой выборке: 2.3205882352941174\n"
          ]
        }
      ],
      "source": [
        "forest_2 = RandomForestRegressor(n_estimators=10, random_state=42)\n",
        "forest_2.fit(X_train_forest_imp, y_train)\n",
        "print('Важность признаков:', forest_2.feature_importances_)\n",
        "print('Значение MSE на тренировочной выборке:', MSE(forest_2.predict(X_train_forest_imp), y_train))\n",
        "print('Значение MSE на тестовой выборке:', MSE(forest_2.predict(X_test_forest_imp), y_test))"
      ]
    },
    {
      "cell_type": "markdown",
      "id": "e2995fae",
      "metadata": {
        "id": "e2995fae"
      },
      "source": [
        "Что вы можете сказать о качестве предсказания?"
      ]
    },
    {
      "cell_type": "markdown",
      "id": "c7febc6a",
      "metadata": {
        "id": "c7febc6a"
      },
      "source": [
        "**Вывод:** mse осталось примерно таким же, где-то даже увеличилось, это говорит о потере важной информации из-за исключения некоторых признаков. В случае леса это может говорить о потере нелинейный взимодействий после удаления признаков. У нас изначально было не очень много признаков, соответственно, можно было и не проводить отбор."
      ]
    },
    {
      "cell_type": "markdown",
      "id": "153779c7",
      "metadata": {
        "id": "153779c7"
      },
      "source": [
        "Рассмотрим работу других метотодов оценки важности признаков, а именно *Permutation feature importance* и *Column feature importance*,на примере [KNN-регресии](https://scikit-learn.org/1.5/modules/generated/sklearn.neighbors.KNeighborsRegressor.html).\n",
        "\n",
        "Для корректной работы KNN необходимо стандартизовать признаки, как мы это делали для Lasso-регресии. А также разделить тренировачный датасет на train и val."
      ]
    },
    {
      "cell_type": "code",
      "execution_count": 33,
      "id": "b95d6ab1",
      "metadata": {
        "id": "b95d6ab1"
      },
      "outputs": [],
      "source": [
        "X_train_norm, X_val_norm, y_train, y_val = train_test_split(X_train_norm, y_train, test_size=0.33, random_state=42)"
      ]
    },
    {
      "cell_type": "code",
      "execution_count": 34,
      "id": "c3f5cf99",
      "metadata": {
        "colab": {
          "base_uri": "https://localhost:8080/"
        },
        "id": "c3f5cf99",
        "outputId": "9a0a85a8-02d1-46ae-fe37-7fe9ccdddb9f"
      },
      "outputs": [
        {
          "output_type": "stream",
          "name": "stdout",
          "text": [
            "Значение MSE на тренировочной выборке: 2.5009090909090914\n",
            "Значение MSE на тестовой выборке: 2.449411764705882\n"
          ]
        }
      ],
      "source": [
        "knn_1 = KNeighborsRegressor()\n",
        "knn_1.fit(X_train_norm, y_train)\n",
        "print('Значение MSE на тренировочной выборке:', MSE(knn_1.predict(X_train_norm), y_train))\n",
        "print('Значение MSE на тестовой выборке:', MSE(knn_1.predict(X_test_norm), y_test))"
      ]
    },
    {
      "cell_type": "markdown",
      "id": "e0a3e710",
      "metadata": {
        "id": "e0a3e710"
      },
      "source": [
        "**Permutation feature importance** полностью реализован в `sklearn.inspection`\n",
        "\n",
        "\n",
        "Функция `permutation_importance()` принимает на вход:\n",
        "- `model` &mdash; обученная модель\n",
        "- `X, y` &mdash;  фичи и таргет валидационной части датасета\n",
        "- `n_repeats` &mdash; сколько раз переставляется фича\n",
        "\n",
        "На выходе мы получаем:\n",
        "- `importances` &mdash сырые оценки значимости для всех фичей и всех итераций\n",
        "- `importances_mean` &mdash; среднее по всем итерациям\n",
        "- `importances_std` &mdash; стандартоное отклонение среднего"
      ]
    },
    {
      "cell_type": "markdown",
      "id": "a4b8361a",
      "metadata": {
        "id": "a4b8361a"
      },
      "source": [
        "Оценим важность признаков"
      ]
    },
    {
      "cell_type": "code",
      "execution_count": 35,
      "id": "71ee53d1",
      "metadata": {
        "id": "71ee53d1"
      },
      "outputs": [],
      "source": [
        "r = permutation_importance(knn_1, X_val_norm, y_val, n_repeats=30, random_state=42)"
      ]
    },
    {
      "cell_type": "markdown",
      "id": "49c61e73",
      "metadata": {
        "id": "49c61e73"
      },
      "source": [
        "Отберем признаки согласно нашей оценке"
      ]
    },
    {
      "cell_type": "code",
      "execution_count": 36,
      "id": "c5953352",
      "metadata": {
        "id": "c5953352"
      },
      "outputs": [],
      "source": [
        "knn_imp = []\n",
        "for i, column in enumerate(X.columns):\n",
        "    if r.importances_mean[i] - r.importances_std[i] >= 0:\n",
        "        knn_imp.append(i)"
      ]
    },
    {
      "cell_type": "code",
      "execution_count": 42,
      "id": "b05d1b4f",
      "metadata": {
        "id": "b05d1b4f"
      },
      "outputs": [],
      "source": [
        "X_train_norm_knn_imp = X_train_norm[:, knn_imp]\n",
        "X_test_norm_knn_imp = X_test_norm[:, knn_imp]"
      ]
    },
    {
      "cell_type": "code",
      "execution_count": 41,
      "id": "984ddad8",
      "metadata": {
        "colab": {
          "base_uri": "https://localhost:8080/"
        },
        "id": "984ddad8",
        "outputId": "37865ca7-b969-44ac-e5d4-b18842fb2ee7"
      },
      "outputs": [
        {
          "output_type": "stream",
          "name": "stdout",
          "text": [
            "Значение MSE на тренировочной выборке: 3.277272727272728\n",
            "Значение MSE на тестовой выборке: 3.1341176470588232\n"
          ]
        }
      ],
      "source": [
        "knn_2 = KNeighborsRegressor(n_neighbors=5)\n",
        "knn_2.fit(X_train_norm_knn_imp, y_train)\n",
        "print('Значение MSE на тренировочной выборке:', MSE(knn_2.predict(X_train_norm_knn_imp), y_train))\n",
        "print('Значение MSE на тестовой выборке:', MSE(knn_2.predict(X_test_norm_knn_imp), y_test))"
      ]
    },
    {
      "cell_type": "markdown",
      "id": "557d9ce7",
      "metadata": {
        "id": "557d9ce7"
      },
      "source": [
        "**Drop-Column feature importance**\n",
        "\n",
        "Для него готовой реализации в `sklearn` нет, так что воспольлзуемся кодом ниже."
      ]
    },
    {
      "cell_type": "code",
      "execution_count": 45,
      "id": "fc007092",
      "metadata": {
        "id": "fc007092"
      },
      "outputs": [],
      "source": [
        "knn = KNeighborsRegressor(n_neighbors=5).fit(X_train_norm, y_train)\n",
        "baseline = MSE(knn.predict(X_val_norm), y_val)\n",
        "knn_imp = []\n",
        "\n",
        "for i, column in enumerate(X.columns):\n",
        "    X_train_drop = np.delete(X_train_norm, i, 1)\n",
        "    X_val_drop =  np.delete(X_val_norm, i , 1)\n",
        "\n",
        "    knn_drop =KNeighborsRegressor(n_neighbors=5)\n",
        "    knn_drop.fit(X_train_drop, y_train)\n",
        "    mse = MSE(knn_drop.predict(X_val_drop), y_val)\n",
        "\n",
        "    if ((mse - baseline) / baseline) > 0.1:\n",
        "        knn_imp.append(i)"
      ]
    },
    {
      "cell_type": "code",
      "execution_count": 46,
      "id": "195382df",
      "metadata": {
        "id": "195382df"
      },
      "outputs": [],
      "source": [
        "X_train_norm_knn_imp = X_train_norm[:, knn_imp]\n",
        "X_test_norm_knn_imp = X_test_norm[:, knn_imp]"
      ]
    },
    {
      "cell_type": "code",
      "execution_count": 48,
      "id": "5069ad04",
      "metadata": {
        "colab": {
          "base_uri": "https://localhost:8080/"
        },
        "id": "5069ad04",
        "outputId": "64ba7bc2-ec87-476b-daef-c3db639e895e"
      },
      "outputs": [
        {
          "output_type": "stream",
          "name": "stdout",
          "text": [
            "Значение MSE на тренировочной выборке: 2.4309090909090916\n",
            "Значение MSE на тестовой выборке: 2.4870588235294115\n"
          ]
        }
      ],
      "source": [
        "knn = KNeighborsRegressor(n_neighbors=5)\n",
        "knn.fit(X_train_norm_knn_imp, y_train)\n",
        "print('Значение MSE на тренировочной выборке:', MSE(knn.predict(X_train_norm_knn_imp), y_train))\n",
        "print('Значение MSE на тестовой выборке:', MSE(knn.predict(X_test_norm_knn_imp), y_test))"
      ]
    },
    {
      "cell_type": "markdown",
      "id": "858225b9",
      "metadata": {
        "id": "858225b9"
      },
      "source": [
        "**Вывод** knn основывается на ближайших соседях при предсказании, если мы переставляем признаки (Permutation feature importance),это может ухудшить сильно качество (у нас так и вышло, mse выросло).\n",
        "\n",
        "Во втором случае (Drop-Column feature importance) мы поочередно удаляем признаки, отбираем самые важные, но mse осталось примерно таким же (по сравнению с изначальными данными), вероятно, мы удалили довольно важные признаки, которые влияли на предсказание."
      ]
    }
  ],
  "metadata": {
    "kernelspec": {
      "display_name": "Python 3 (ipykernel)",
      "language": "python",
      "name": "python3"
    },
    "language_info": {
      "codemirror_mode": {
        "name": "ipython",
        "version": 3
      },
      "file_extension": ".py",
      "mimetype": "text/x-python",
      "name": "python",
      "nbconvert_exporter": "python",
      "pygments_lexer": "ipython3",
      "version": "3.9.7"
    },
    "colab": {
      "provenance": []
    }
  },
  "nbformat": 4,
  "nbformat_minor": 5
}