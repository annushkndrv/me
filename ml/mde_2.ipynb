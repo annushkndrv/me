{
  "cells": [
    {
      "cell_type": "markdown",
      "metadata": {
        "id": "EHqr876e1ecf"
      },
      "source": [
        "# <a href=\"https://thetahat.ru/courses/ph-ds-2024-aut\">Phystech@DataScience</a>\n",
        "## Домашнее задание 11\n",
        "\n",
        "**Правила, <font color=\"red\">прочитайте внимательно</font>:**\n",
        "\n",
        "* Выполненную работу нужно отправить телеграм-боту `@miptstats_pds_bot`. Для начала работы с ботом каждый раз отправляйте `/start`. **Работы, присланные иным способом, не принимаются.**\n",
        "* Дедлайн см. в боте. После дедлайна работы не принимаются кроме случаев наличия уважительной причины.\n",
        "* Прислать нужно ноутбук в формате `ipynb`.\n",
        "* Выполнять задание необходимо полностью самостоятельно. **При обнаружении списывания все участники списывания будут сдавать устный зачет.**\n",
        "* Решения, размещенные на каких-либо интернет-ресурсах, не принимаются. Кроме того, публикация решения в открытом доступе может быть приравнена к предоставлении возможности списать.\n",
        "* Для выполнения задания используйте этот ноутбук в качестве основы, ничего не удаляя из него. Можно добавлять необходимое количество ячеек.\n",
        "* Комментарии к решению пишите в markdown-ячейках.\n",
        "* Выполнение задания (ход решения, выводы и пр.) должно быть осуществлено на русском языке.\n",
        "* Если код будет не понятен проверяющему, оценка может быть снижена.\n",
        "* Никакой код из данного задания при проверке запускаться не будет. *Если код студента не выполнен, недописан и т.д., то он не оценивается.*\n",
        "* **Код из рассказанных на занятиях ноутбуков можно использовать без ограничений.**\n",
        "\n",
        "**Правила оформления теоретических задач:**\n",
        "\n",
        "* Решения необходимо прислать одним из следующих способов:\n",
        "  * фотографией в правильной ориентации, где все четко видно, а почерк разборчив,\n",
        "    * отправив ее как файл боту вместе с ноутбуком *или*\n",
        "    * вставив ее в ноутбук посредством `Edit -> Insert Image` (<font color=\"red\">фото, вставленные ссылкой, не принимаются</font>);\n",
        "  * в виде $\\LaTeX$ в markdown-ячейках.\n",
        "* Решения не проверяются, если какое-то требование не выполнено. Особенно внимательно все проверьте в случае выбора второго пункта (вставки фото в ноутбук). <font color=\"red\"><b>Неправильно вставленные фотографии могут не передаться при отправке.</b></font> Для проверки попробуйте переместить `ipynb` в другую папку и открыть его там.\n",
        "* В решениях поясняйте, чем вы пользуетесь, хотя бы кратко. Например, если пользуетесь независимостью, то достаточно подписи вида \"*X и Y незав.*\"\n",
        "* Решение, в котором есть только ответ, и отсутствуют вычисления, оценивается в 0 баллов.\n",
        "\n",
        "\n",
        "**Баллы за задание:**\n",
        "\n",
        "<b><font color=\"blue\">Легкая часть</font></b> (достаточно на \"хор\"):\n",
        "* Задача 1 — 20 баллов — верно рассчитан итоговый объем выборки, для которого возможно проведение АВ-теста\n",
        "* Задача 2 — 30 баллов — правильная итоговая формула, наличие промежуточных выкладок и объяснения переходов\n",
        "\n",
        "<b><font color=\"orange\">Cложная часть</font></b> (необходимо на \"отл\"):\n",
        "* Задача 3 — 70 баллов\n",
        "\n",
        "-----"
      ]
    },
    {
      "cell_type": "code",
      "execution_count": 74,
      "metadata": {
        "id": "-yGzPLp2dohZ"
      },
      "outputs": [],
      "source": [
        "# Bot check\n",
        "\n",
        "# HW_ID: phds_hw11\n",
        "# Бот проверит этот ID и предупредит, если случайно сдать что-то не то.\n",
        "\n",
        "# Status: final\n",
        "# Перед отправкой в финальном решении удали \"not\" в строчке выше.\n",
        "# Так бот проверит, что ты отправляешь финальную версию, а не промежуточную.\n",
        "# Никакие значения в этой ячейке не влияют на факт сдачи работы."
      ]
    },
    {
      "cell_type": "code",
      "execution_count": 1,
      "metadata": {
        "id": "aBIdxQNbG2SV"
      },
      "outputs": [],
      "source": [
        "import scipy.stats as sps\n",
        "import numpy as np\n",
        "import pandas as pd\n",
        "from tqdm import tqdm\n",
        "from datetime import datetime, timedelta\n",
        "\n",
        "from statsmodels.stats.proportion import proportion_confint\n",
        "\n",
        "import warnings\n",
        "warnings.filterwarnings(\"ignore\")\n",
        "\n",
        "import matplotlib.pyplot as plt\n",
        "import seaborn as sns\n",
        "sns.set(style='whitegrid', font_scale=1.3, palette='Set2')"
      ]
    },
    {
      "cell_type": "markdown",
      "metadata": {
        "id": "QOjUNXB9dohb"
      },
      "source": [
        "## Задача 1\n",
        "\n",
        "*Примечание для обоих профилей*: величину уровня значимости $\\alpha$ и минимально необходимой мощности $\\beta$ считать стандартными и равными **0.05** и **0.8** соответственно."
      ]
    },
    {
      "cell_type": "code",
      "execution_count": 76,
      "metadata": {
        "colab": {
          "base_uri": "https://localhost:8080/"
        },
        "id": "Le2AQgj7dohg",
        "outputId": "947afcda-b722-468d-cc4b-abd581080f08"
      },
      "outputs": [
        {
          "output_type": "execute_result",
          "data": {
            "text/plain": [
              "array([ 3279.86855   , 21454.49423864,  1720.3537    , ...,\n",
              "       10602.385     ,  8976.14045154,  7027.69896823])"
            ]
          },
          "metadata": {},
          "execution_count": 76
        }
      ],
      "source": [
        "DATA_PATH = '/content/Train_Data.csv'\n",
        "\n",
        "data = pd.read_csv(DATA_PATH)['charges'].values\n",
        "data"
      ]
    },
    {
      "cell_type": "code",
      "execution_count": 77,
      "metadata": {
        "colab": {
          "base_uri": "https://localhost:8080/"
        },
        "id": "VdyW5J0hixMw",
        "outputId": "2cb9802c-a37c-4b63-ec5e-efc48709c417"
      },
      "outputs": [
        {
          "output_type": "execute_result",
          "data": {
            "text/plain": [
              "(3630,)"
            ]
          },
          "metadata": {},
          "execution_count": 77
        }
      ],
      "source": [
        "data.shape"
      ]
    },
    {
      "cell_type": "markdown",
      "metadata": {
        "id": "X3QPuYYTdohh"
      },
      "source": [
        "Зафиксируем параметры уровня значимости, желаемой мощности и величины эффекта."
      ]
    },
    {
      "cell_type": "code",
      "execution_count": 78,
      "metadata": {
        "id": "FwLcv6fsdohi"
      },
      "outputs": [],
      "source": [
        "alpha = 0.05  # уровень значимости\n",
        "beta = 0.8  # мощности\n",
        "mde = 600  # размер эффекта"
      ]
    },
    {
      "cell_type": "markdown",
      "metadata": {
        "id": "PY6x_EsZdohi"
      },
      "source": [
        "Вычислите необходимый размер выборки, воспользовавшись формулами с семинара."
      ]
    },
    {
      "cell_type": "code",
      "execution_count": 79,
      "metadata": {
        "id": "Vmd8Utr0ixMx",
        "colab": {
          "base_uri": "https://localhost:8080/"
        },
        "outputId": "9aa0553f-500e-46c9-9d97-dafd9f038316"
      },
      "outputs": [
        {
          "output_type": "stream",
          "name": "stdout",
          "text": [
            "5034\n"
          ]
        }
      ],
      "source": [
        "z_alpha = sps.norm.ppf(1 - alpha / 2)\n",
        "z_beta = sps.norm.ppf(beta)\n",
        "\n",
        "sigma = np.std(data)\n",
        "\n",
        "n = (z_alpha + z_beta)**2 * 2*sigma**2 / mde**2\n",
        "\n",
        "print(int(np.floor(n)))"
      ]
    },
    {
      "cell_type": "markdown",
      "metadata": {
        "id": "pCD3f3VtixMx"
      },
      "source": [
        "Достаточно ли у вас клиентов для исследования?\n",
        "\n",
        "**Ответ:** нет. у нас 3630 клиентов\n"
      ]
    },
    {
      "cell_type": "markdown",
      "metadata": {
        "id": "9z-oYYFIixMx"
      },
      "source": [
        "Посмотрите на распределение суммы страховки."
      ]
    },
    {
      "cell_type": "code",
      "execution_count": 80,
      "metadata": {
        "id": "5nc_YDyZixMx",
        "colab": {
          "base_uri": "https://localhost:8080/",
          "height": 488
        },
        "outputId": "0f6e3e56-36f0-4781-98cc-55ed268d387f"
      },
      "outputs": [
        {
          "output_type": "display_data",
          "data": {
            "text/plain": [
              "<Figure size 640x480 with 1 Axes>"
            ],
            "image/png": "[encoded data removed]"
          },
          "metadata": {}
        }
      ],
      "source": [
        "plt.title(fr'Гистограмма распределения суммы страховки')\n",
        "plt.hist(data, bins=100)\n",
        "plt.xlabel('Сумма страховки')\n",
        "plt.ylabel('Количество');"
      ]
    },
    {
      "cell_type": "markdown",
      "metadata": {
        "id": "MFpRRdu5dohj"
      },
      "source": [
        "Видим, что есть выбросы, завышающие нам дисперсию. Выполните фильтрацию данных.\n",
        "\n",
        "**Внимание! Определять параметры фильтрации выбросов можно только на основе данных ДО эксперимента. Удаление на основании экспериментальным данных может привести к большим ошибкам.**"
      ]
    },
    {
      "cell_type": "markdown",
      "source": [
        "визуально большинство данных до 27000"
      ],
      "metadata": {
        "id": "wB12e2crluLt"
      }
    },
    {
      "cell_type": "code",
      "execution_count": 81,
      "metadata": {
        "id": "CX0zMksAixMx"
      },
      "outputs": [],
      "source": [
        "data_filtered = data[data <= 27000]"
      ]
    },
    {
      "cell_type": "code",
      "execution_count": 82,
      "metadata": {
        "id": "aO2i4JO7ixMx",
        "colab": {
          "base_uri": "https://localhost:8080/"
        },
        "outputId": "cad9e383-4745-48ec-819b-1e16c836ea7b"
      },
      "outputs": [
        {
          "output_type": "execute_result",
          "data": {
            "text/plain": [
              "(3239,)"
            ]
          },
          "metadata": {},
          "execution_count": 82
        }
      ],
      "source": [
        "data_filtered.shape"
      ]
    },
    {
      "cell_type": "markdown",
      "metadata": {
        "id": "ykZUlrueixMx"
      },
      "source": [
        "Посчитайте, сколько нужно клиентов в данном случае."
      ]
    },
    {
      "cell_type": "code",
      "execution_count": 83,
      "metadata": {
        "id": "6lX_Y3wHixMx",
        "colab": {
          "base_uri": "https://localhost:8080/"
        },
        "outputId": "df21f75a-7918-495f-9f91-41b9936fbe18"
      },
      "outputs": [
        {
          "output_type": "stream",
          "name": "stdout",
          "text": [
            "1337\n"
          ]
        }
      ],
      "source": [
        "z_alpha = sps.norm.ppf(1 - alpha / 2)\n",
        "z_beta = sps.norm.ppf(beta)\n",
        "\n",
        "sigma = np.std(data_filtered)\n",
        "\n",
        "n = (z_alpha + z_beta)**2 * 2*sigma**2 / mde**2\n",
        "\n",
        "print(int(np.floor(n))) # ваш код"
      ]
    },
    {
      "cell_type": "markdown",
      "source": [
        "теперь хватает!"
      ],
      "metadata": {
        "id": "8WH8qQ2QlrEO"
      }
    },
    {
      "cell_type": "markdown",
      "metadata": {
        "id": "4H-RqtAkixMy"
      },
      "source": [
        "Как зависит требуемый размер выборки в исследовании от размера эффекта? Постройте график размера выборки от `MDE` для ожидаемой в нашем исследовании дисперсии."
      ]
    },
    {
      "cell_type": "code",
      "execution_count": 84,
      "metadata": {
        "id": "m0RzlICmixMz",
        "colab": {
          "base_uri": "https://localhost:8080/",
          "height": 464
        },
        "outputId": "e953c7cf-392b-4c74-ce0b-deee91011fbf"
      },
      "outputs": [
        {
          "output_type": "display_data",
          "data": {
            "text/plain": [
              "<Figure size 640x480 with 1 Axes>"
            ],
            "image/png": "[encoded data removed]"
          },
          "metadata": {}
        }
      ],
      "source": [
        "mde_grid = np.arange(200, 2000, 50)\n",
        "n_grid = []\n",
        "for mde in mde_grid:\n",
        "    n = (z_alpha + z_beta)**2 * 2*sigma**2 / mde**2\n",
        "    n_grid.append(int(np.floor(n))) # ваш код\n",
        "\n",
        "plt.plot(mde_grid, n_grid, lw=3)\n",
        "plt.xlabel('Размер эффекта (MDE)')\n",
        "plt.ylabel('Размер выборки');"
      ]
    },
    {
      "cell_type": "markdown",
      "metadata": {
        "id": "FKwdLAu-dohv"
      },
      "source": [
        "Какой минимальный эффект можно зафиксировать с нашей выборкой?"
      ]
    },
    {
      "cell_type": "code",
      "source": [
        "mde = (z_alpha + z_beta) * np.sqrt(2*sigma**2 / 3239)\n",
        "mde"
      ],
      "metadata": {
        "colab": {
          "base_uri": "https://localhost:8080/"
        },
        "id": "kjTSSHexn3AR",
        "outputId": "9c59f06d-2297-4436-ce4f-4b5d4af689f7"
      },
      "execution_count": 87,
      "outputs": [
        {
          "output_type": "execute_result",
          "data": {
            "text/plain": [
              "385.61311351641535"
            ]
          },
          "metadata": {},
          "execution_count": 87
        }
      ]
    },
    {
      "cell_type": "markdown",
      "metadata": {
        "id": "zX1eQJ5edohv"
      },
      "source": [
        "**Ответ:** выше"
      ]
    },
    {
      "cell_type": "markdown",
      "metadata": {
        "id": "AaYPSUhjixMz"
      },
      "source": [
        "**Итоговый вывод по задаче:** мы нашли необходимый размер выборки для проведения AB-теста новых рекомендаций по употреблению витаминов. фильтрация выбросов позволили более точно оценить требуемый размер выборки, и оказалось, что мы можем провести этот тест в условиях нашего эксперимента."
      ]
    },
    {
      "cell_type": "markdown",
      "metadata": {
        "id": "BWHyQSBBHQ70"
      },
      "source": [
        "## Задача 2\n",
        "\n",
        "Выведите формулу `MDE` для относительного t-test. Рассмотрите случаи односторонней и двусторонней гипотез."
      ]
    },
    {
      "cell_type": "markdown",
      "source": [
        "\n",
        "\n",
        "\n",
        "\n",
        "\n",
        "\n",
        "Мощность теста определяется вероятностью того, что статистика $T$ превышает критическое значение $ t_{\\text{crit}} $ при условии, что истинный эффект равен $ \\epsilon $.\n",
        "\n",
        "Односторонний тест\n",
        "$1 - \\beta = P_{H_1} \\left( T(X, Y) > z_{1-\\alpha} \\right) \\geq \\beta$\n",
        "\n",
        "\n",
        "$ P_{H_1} \\left( \\frac{\\bar{X} - \\bar{Y}}{\\sqrt{\\frac{\\sigma^2_1}{n} + \\frac{\\sigma^2_2}{m}}} > z_{1-\\alpha} \\right) \\geq \\beta  $\n",
        "\n",
        "$ P_{H_1} \\left(\\frac{\\bar{X}-\\bar{Y}-\\epsilon}{\\sqrt{\\frac{\\sigma^2_1}{n} + \\frac{\\sigma^2_2}{m}}} > z_{1-\\alpha} - \\frac{\\epsilon}{\\sqrt{\\frac{\\sigma^2_1}{n} + \\frac{\\sigma^2_2}{m}}} \\right) \\geq \\beta $\n",
        "\n",
        "$ P \\left( Z > z_{1-\\alpha} - \\frac{\\epsilon}{\\sqrt{\\frac{\\sigma^2_1}{n} + \\frac{\\sigma^2_2}{m}}} \\right) \\geq \\beta $\n",
        "\n",
        "$ z_{1-\\beta} \\leq z_{1-\\alpha} - \\frac{\\epsilon}{\\sqrt{\\frac{\\sigma^2_1}{n} + \\frac{\\sigma^2_2}{m}}} $\n",
        "\n",
        "$ \\frac{\\epsilon}{\\sqrt{\\frac{\\sigma^2_1}{n} + \\frac{\\sigma^2_2}{m}}} \\leq z_{1-\\alpha} - z_{1-\\beta} $\n",
        "\n",
        "$ \\epsilon \\geq (z_{1-\\alpha} + z_{\\beta}) \\cdot \\sqrt{\\frac{\\sigma^2_1}{n} + \\frac{\\sigma^2_2}{m}} $\n",
        "\n",
        "Двусторонний тест\n",
        "\n",
        "$ 1 - \\beta = P_{H_1} \\left( |T(X, Y)| > z_{1-\\alpha/2} \\right) \\geq \\beta $\n",
        "\n",
        "$ P_{H_1} \\left( \\left| \\frac{\\bar{X} - \\bar{Y}}{\\sqrt{\\frac{\\sigma^2_1}{n} + \\frac{\\sigma^2_2}{m}}} \\right| > z_{1-\\alpha/2} \\right) \\geq \\beta $\n",
        "\n",
        "$ P_{H_1} \\left( \\left| \\frac{\\bar{X} - \\bar{Y} - \\epsilon}{\\sqrt{\\frac{\\sigma^2_1}{n} + \\frac{\\sigma^2_2}{m}}} \\right| > z_{1-\\alpha/2} - \\frac{\\epsilon}{\\sqrt{\\frac{\\sigma^2_1}{n} + \\frac{\\sigma^2_2}{m}}} \\right) \\geq \\beta $\n",
        "\n",
        "$ P \\left( |Z| > z_{1-\\alpha/2} - \\frac{\\epsilon}{\\sqrt{\\frac{\\sigma^2_1}{n} + \\frac{\\sigma^2_2}{m}}} \\right) \\geq \\beta $\n",
        "\n",
        "$ z_{1-\\beta} \\leq z_{1-\\alpha/2} - \\frac{\\epsilon}{\\sqrt{\\frac{\\sigma^2_1}{n} + \\frac{\\sigma^2_2}{m}}} $\n",
        "\n",
        "$ \\frac{\\epsilon}{\\sqrt{\\frac{\\sigma^2_1}{n} + \\frac{\\sigma^2_2}{m}}} \\leq z_{1-\\alpha/2} - z_{1-\\beta} $\n",
        "\n",
        "$ \\epsilon \\geq (z_{1-\\alpha/2} + z_{\\beta}) \\cdot \\sqrt{\\frac{\\sigma^2_1}{n} + \\frac{\\sigma^2_2}{m}} $\n"
      ],
      "metadata": {
        "id": "jjGrWb67qeie"
      }
    },
    {
      "cell_type": "markdown",
      "metadata": {
        "id": "0xzRcOiBdohw"
      },
      "source": [
        "## Задача 3\n"
      ]
    },
    {
      "cell_type": "markdown",
      "metadata": {
        "id": "cYzZ2rrH74__"
      },
      "source": [
        "### **Профиль физика**\n",
        "\n",
        "Квантовые компьтеры состоят из кубитов, каждый из которых по отдельности можно представить в виде единичного вектора на сфере. Считывание состояние кубита — это получение проекции этого вектора на ось $z$, причём, считав состояние один раз, мы получаем детерменированное значение: 0 или 1. Таким образом, для получения значения проекции с определённой точностью мы усредняем некоторое количество считываний.\n",
        "\n",
        "В данной задаче мы будем генерировать выборку из распределения Бернулли, симулируя проекции, получаемые от кубита. Наша задача — исследовать минимальный размер выборки для разных значений разделения состояний.\n",
        "\n",
        "\n",
        "Выберите или оцените каким-нибудь способом:\n",
        "\n",
        "1. Статистический критерий (название / односторонний или двусторонний / связные или независимые выборки);\n",
        "\n",
        "2. Размеры A и B групп;\n",
        "\n",
        "3. Желаемый минимальный детектируемый эффект;\n",
        "\n",
        "4. Мощность критерия.\n",
        "\n",
        "Обоснуйте свой выбор в каждом из пунктов.\n"
      ]
    },
    {
      "cell_type": "markdown",
      "metadata": {
        "id": "1j_1uMQy36Ul"
      },
      "source": [
        "> Статистический критерий (название / абсолютный или относительный / односторонний или двусторонний / связные или независимые выборки);\n",
        "\n",
        "**Ответ:**\n"
      ]
    },
    {
      "cell_type": "markdown",
      "metadata": {
        "id": "QEjaOFrq36hW"
      },
      "source": [
        "> Мощность критерия\n",
        "\n",
        "**Ответ:**"
      ]
    },
    {
      "cell_type": "markdown",
      "metadata": {
        "id": "aSqepdWI75AA"
      },
      "source": [
        "> Желаемый минимальный детектируемый эффект;\n",
        "\n",
        "> Размер А и В групп;"
      ]
    },
    {
      "cell_type": "markdown",
      "metadata": {
        "id": "oOZW2EwV75AA"
      },
      "source": [
        "Будем подбирать по таблице `MDE`-мощность-размер выборки"
      ]
    },
    {
      "cell_type": "code",
      "execution_count": 86,
      "metadata": {
        "id": "NTH64mCa75AA",
        "colab": {
          "base_uri": "https://localhost:8080/",
          "height": 106
        },
        "outputId": "a87085ee-29cb-42df-85fd-e0d36116c86d"
      },
      "outputs": [
        {
          "output_type": "error",
          "ename": "SyntaxError",
          "evalue": "invalid syntax (<ipython-input-86-ec41209261dd>, line 14)",
          "traceback": [
            "\u001b[0;36m  File \u001b[0;32m\"<ipython-input-86-ec41209261dd>\"\u001b[0;36m, line \u001b[0;32m14\u001b[0m\n\u001b[0;31m    <...>\u001b[0m\n\u001b[0m    ^\u001b[0m\n\u001b[0;31mSyntaxError\u001b[0m\u001b[0;31m:\u001b[0m invalid syntax\n"
          ]
        }
      ],
      "source": [
        "def get_mde(alpha, beta, sample_size, var_x, var_y=var_x):\n",
        "    '''Расcчитывает MDE\n",
        "\n",
        "    Аргументы:\n",
        "    alpha -- желаемая ошибка первого рода\n",
        "    beta -- желаемая мощность\n",
        "    sample_size -- размер выборок\n",
        "    var_x, var_y -- дисперсии выборок\n",
        "\n",
        "    Возвращает:\n",
        "    mde -- теоретический MDE\n",
        "    '''\n",
        "\n",
        "    <...>\n",
        "\n",
        "    return mde\n",
        "\n",
        "\n",
        "def get_sample_size(alpha, beta, mde, var_x, var_y=var_x):\n",
        "    '''Расcчитывает размер выборки для детектирование MDE\n",
        "\n",
        "    Аргументы:\n",
        "    alpha -- желаемая ошибка первого рода\n",
        "    beta -- желаемая мощность\n",
        "    mde -- необходимый эффект\n",
        "    var_x, var_y -- дисперсии выборок\n",
        "\n",
        "    Возвращает:\n",
        "    n -- теоретический минимальный размер выборки\n",
        "    '''\n",
        "\n",
        "    <...>\n",
        "\n",
        "    return n"
      ]
    },
    {
      "cell_type": "markdown",
      "metadata": {
        "id": "Tlj64Unn8NQJ"
      },
      "source": [
        "Создадим датасеты для разных значений проекций с помощью распределения Бернулли. Задайте размер выборок $size=2000$."
      ]
    },
    {
      "cell_type": "code",
      "execution_count": null,
      "metadata": {
        "id": "hvGIfHd6ffjH"
      },
      "outputs": [],
      "source": [
        "data = np.array([<...> for i in np.linspace(0.3, 0.8, 6)]) # возьмём центральные значения проекций"
      ]
    },
    {
      "cell_type": "markdown",
      "metadata": {
        "id": "IArUb9y98T42"
      },
      "source": [
        "Вычислим значения таблицы `MDE`-мощность-размер выборки."
      ]
    },
    {
      "cell_type": "code",
      "execution_count": null,
      "metadata": {
        "id": "yYSa1h7-75AB"
      },
      "outputs": [],
      "source": [
        "mde_grid = np.arange(0.01, 0.1, 0.01).reshape(-1, 1)  # абсолютный MDE\n",
        "beta_grid = np.arange(0.6, 1, 0.05)  # мощность\n",
        "alpha = <...> # выбранный теоретический уровень значимости\n",
        "var = <...> # дисперсия, расчет зависит от выбранного типа теста: абсолютный или относительный\n",
        "\n",
        "sample_sizes = <...>"
      ]
    },
    {
      "cell_type": "markdown",
      "metadata": {
        "id": "rD7OoNBNzrWo"
      },
      "source": [
        "Посмотрим для крайних и центрального значений, как выглядит таблица."
      ]
    },
    {
      "cell_type": "code",
      "execution_count": null,
      "metadata": {
        "id": "CBbZyo-4z5De"
      },
      "outputs": [],
      "source": [
        "pd.DataFrame(sample_sizes[0], columns=beta_grid.reshape(-1), index=mde_grid.reshape(-1))"
      ]
    },
    {
      "cell_type": "code",
      "execution_count": null,
      "metadata": {
        "id": "5H7Z8GrVzHZX"
      },
      "outputs": [],
      "source": [
        "pd.DataFrame(sample_sizes[2], columns=beta_grid.reshape(-1), index=mde_grid.reshape(-1))"
      ]
    },
    {
      "cell_type": "code",
      "execution_count": null,
      "metadata": {
        "id": "iLY2k58QkyJM"
      },
      "outputs": [],
      "source": [
        "pd.DataFrame(sample_sizes[5], columns=beta_grid.reshape(-1), index=mde_grid.reshape(-1))"
      ]
    },
    {
      "cell_type": "markdown",
      "metadata": {
        "id": "dmTkmq8L2oJ-"
      },
      "source": [
        "Какой размер детектируемого эффекта мы возьмём и какой для него необходим размер выборок?"
      ]
    },
    {
      "cell_type": "markdown",
      "metadata": {
        "id": "4g0Os9Oc75AC"
      },
      "source": [
        "**Ответ:**\n",
        "\n"
      ]
    },
    {
      "cell_type": "markdown",
      "metadata": {
        "id": "08x_Jg3e75AC"
      },
      "source": [
        "Для выбранного критерия проведите АА-тест по сгенерированным данным."
      ]
    },
    {
      "cell_type": "code",
      "execution_count": null,
      "metadata": {
        "id": "seAn6OXo1M3R"
      },
      "outputs": [],
      "source": [
        "new_data = sps.bernoulli.rvs(0.5, size=<...>)"
      ]
    },
    {
      "cell_type": "code",
      "execution_count": null,
      "metadata": {
        "id": "pJCHuRhp75AC"
      },
      "outputs": [],
      "source": [
        "sample_size = <...>\n",
        "mde = <...>\n",
        "alpha = <...>"
      ]
    },
    {
      "cell_type": "code",
      "execution_count": null,
      "metadata": {
        "id": "t-Xhz1_o75AC"
      },
      "outputs": [],
      "source": [
        "p_vals = []\n",
        "\n",
        "for i in tqdm(range(2000)):\n",
        "\n",
        "    sample1, sample2 = np.random.choice(<...>, (2, sample_size), replace=False)\n",
        "\n",
        "    p_val = <...>\n",
        "    p_vals.append(p_val)\n",
        "\n",
        "p_vals = np.array(p_vals)"
      ]
    },
    {
      "cell_type": "code",
      "execution_count": null,
      "metadata": {
        "id": "qc73I5D075AC"
      },
      "outputs": [],
      "source": [
        "def draw_interval(\n",
        "    real_alpha, left_bound, right_bound,\n",
        "    alpha=0.05, new_fig=True\n",
        "):\n",
        "    '''\n",
        "    Отрисовка интервала для вероятности отвержения критерия\n",
        "\n",
        "    Аргументы:\n",
        "    real_alpha -- оценка реального уровня значимости\n",
        "    left_bound, right_bound -- границы дов. интервала\n",
        "    alpha -- теоретический уровень значимости\n",
        "    new_fig -- coздавать ли новую matplotlib figure\n",
        "    '''\n",
        "\n",
        "    if new_fig:\n",
        "        plt.figure(figsize=(7, 3.5))\n",
        "\n",
        "    plt.hlines(0, 0, 1,\n",
        "               color='black', lw=2, alpha=0.6)\n",
        "    plt.vlines(alpha, -1, 1,\n",
        "               color='red', lw=2, linestyle='--', alpha=0.6)\n",
        "    plt.fill_between([left_bound, right_bound], [0.1]*2, [-0.1]*2,\n",
        "                     color='green', alpha=0.6)\n",
        "    plt.scatter(real_alpha, 0, s=300, marker='*', color='red')\n",
        "    plt.xlim((min(alpha, left_bound)-1e-3, max(alpha, right_bound)+1e-3))\n",
        "    plt.title(\n",
        "            f'Доля отвержений = {100*real_alpha:.2f}%, '\n",
        "            f'интервал ({100*left_bound:.2f}%, {100*right_bound:.2f}%)'\n",
        "        )\n",
        "    plt.ylim((-0.5, 0.5))\n",
        "    plt.yticks([])"
      ]
    },
    {
      "cell_type": "code",
      "execution_count": null,
      "metadata": {
        "id": "EG18ZJjd75AC"
      },
      "outputs": [],
      "source": [
        "real_alpha = (p_vals < alpha).mean()\n",
        "print(f'Реальный уровень значимости: {real_alpha.round(2)}')\n",
        "left_alpha, right_alpha = proportion_confint((p_vals < alpha).sum(), len(p_vals), method='wilson')\n",
        "draw_interval(real_alpha, left_alpha, right_alpha, alpha=alpha)"
      ]
    },
    {
      "cell_type": "markdown",
      "metadata": {
        "id": "pRT2uQUp3fVy"
      },
      "source": [
        "Посмотрите на гистограмму p-value."
      ]
    },
    {
      "cell_type": "code",
      "execution_count": null,
      "metadata": {
        "id": "ChSdghWf75AD"
      },
      "outputs": [],
      "source": []
    },
    {
      "cell_type": "markdown",
      "metadata": {
        "id": "kOnRQF5D75AD"
      },
      "source": [
        "Какие выводы о валидности выбранного критерия вы можете сделать?\n",
        "\n",
        "**Ответ:**\n"
      ]
    },
    {
      "cell_type": "markdown",
      "metadata": {
        "id": "uzuxdtpDdoh1"
      },
      "source": [
        "Проверьте также мощность критерия на выбранном MDE"
      ]
    },
    {
      "cell_type": "code",
      "execution_count": null,
      "metadata": {
        "id": "FVqqmzE_75AD"
      },
      "outputs": [],
      "source": [
        "pvals = []\n",
        "\n",
        "for _ in tqdm(range(2000)):\n",
        "    sample1, sample2 = np.random.choice(<...>, (2, sample_size), replace=False)\n",
        "\n",
        "    sample2 = <...> # группа с заданным эффектом\n",
        "    sample2 += sps.norm.rvs(size=len(sample2), scale=0.1)\n",
        "\n",
        "    pvals.append(<...>)\n",
        "\n",
        "pvals = np.array(pvals)"
      ]
    },
    {
      "cell_type": "code",
      "execution_count": null,
      "metadata": {
        "id": "0_qiffXg75AD"
      },
      "outputs": [],
      "source": [
        "print(f'Реальная мощность критерия: {(pvals < alpha).mean().round(3)}')"
      ]
    },
    {
      "cell_type": "markdown",
      "metadata": {
        "id": "uPwu4VYSUfHT"
      },
      "source": [
        "**Итоговый вывод по задаче:**"
      ]
    },
    {
      "cell_type": "markdown",
      "metadata": {
        "id": "ZccDWa6RuNNI"
      },
      "source": [
        "### **Профиль биология**\n",
        "\n",
        "В одной фармацевтической компании собираются проводить II фазу клинических испытаний нового лекарства, ослабляющего симптомы диабета. Перед командой аналитики стоит задача о корректном проведении AB-тестирования. У вас имеются исторические [данные по пациентам](https://www.kaggle.com/datasets/jillanisofttech/diabetes-disease-updated-dataset?select=diabetes.csv), страдающим диабетом. С помощью них проведите дизайн эксперимента.\n",
        "\n",
        "\n",
        "Выберите или оцените каким-нибудь способом:\n",
        "\n",
        "1. Таргет клинических испытаний (первичную контрольную точку): уровень глюкозы, инсулина, толщину кожи и т.д.;\n",
        "\n",
        "2. Статистический критерий (название / односторонний или двусторонний / связные или независимые выборки);\n",
        "\n",
        "3. Размеры A и B групп;\n",
        "\n",
        "4. Желаемый минимальный детектируемый эффект;\n",
        "\n",
        "5. Мощность критерия.\n",
        "\n",
        "Обоснуйте свой выбор в каждом из пунктов.\n",
        "\n",
        "Все ли полученные показатели вас устраивают? Если нет, то какие могут быть способы их улучшить?\n",
        "\n",
        "*Примечание.* Если кажется, что информации недостаточно, сделайте свои дополнительные предположения, коррелирующие с реальностью, и работайте с ними.\n",
        "\n",
        "\n",
        "Для выбранного критерия проведите АА-тест по историческим данным. Если исторических данных оказалось недостаточно для вашей модели, придумайте способ решения проблемы."
      ]
    },
    {
      "cell_type": "code",
      "execution_count": 2,
      "metadata": {
        "id": "IeP_ga6GrMU_",
        "colab": {
          "base_uri": "https://localhost:8080/",
          "height": 443
        },
        "outputId": "1f9756c1-3436-4f22-ae8f-bcb9e07eab0a"
      },
      "outputs": [
        {
          "output_type": "execute_result",
          "data": {
            "text/plain": [
              "     Pregnancies  Glucose  BloodPressure  SkinThickness  Insulin   BMI  \\\n",
              "0              6      148             72             35        0  33.6   \n",
              "2              8      183             64              0        0  23.3   \n",
              "4              0      137             40             35      168  43.1   \n",
              "6              3       78             50             32       88  31.0   \n",
              "8              2      197             70             45      543  30.5   \n",
              "..           ...      ...            ...            ...      ...   ...   \n",
              "755            1      128             88             39      110  36.5   \n",
              "757            0      123             72              0        0  36.3   \n",
              "759            6      190             92              0        0  35.5   \n",
              "761            9      170             74             31        0  44.0   \n",
              "766            1      126             60              0        0  30.1   \n",
              "\n",
              "     DiabetesPedigreeFunction  Age  Outcome  \n",
              "0                       0.627   50        1  \n",
              "2                       0.672   32        1  \n",
              "4                       2.288   33        1  \n",
              "6                       0.248   26        1  \n",
              "8                       0.158   53        1  \n",
              "..                        ...  ...      ...  \n",
              "755                     1.057   37        1  \n",
              "757                     0.258   52        1  \n",
              "759                     0.278   66        1  \n",
              "761                     0.403   43        1  \n",
              "766                     0.349   47        1  \n",
              "\n",
              "[268 rows x 9 columns]"
            ],
            "text/html": [
              "\n",
              "  <div id=\"df-a5e52c9f-a060-4461-8899-b53e6c4d1784\" class=\"colab-df-container\">\n",
              "    <div>\n",
              "<style scoped>\n",
              "    .dataframe tbody tr th:only-of-type {\n",
              "        vertical-align: middle;\n",
              "    }\n",
              "\n",
              "    .dataframe tbody tr th {\n",
              "        vertical-align: top;\n",
              "    }\n",
              "\n",
              "    .dataframe thead th {\n",
              "        text-align: right;\n",
              "    }\n",
              "</style>\n",
              "<table border=\"1\" class=\"dataframe\">\n",
              "  <thead>\n",
              "    <tr style=\"text-align: right;\">\n",
              "      <th></th>\n",
              "      <th>Pregnancies</th>\n",
              "      <th>Glucose</th>\n",
              "      <th>BloodPressure</th>\n",
              "      <th>SkinThickness</th>\n",
              "      <th>Insulin</th>\n",
              "      <th>BMI</th>\n",
              "      <th>DiabetesPedigreeFunction</th>\n",
              "      <th>Age</th>\n",
              "      <th>Outcome</th>\n",
              "    </tr>\n",
              "  </thead>\n",
              "  <tbody>\n",
              "    <tr>\n",
              "      <th>0</th>\n",
              "      <td>6</td>\n",
              "      <td>148</td>\n",
              "      <td>72</td>\n",
              "      <td>35</td>\n",
              "      <td>0</td>\n",
              "      <td>33.6</td>\n",
              "      <td>0.627</td>\n",
              "      <td>50</td>\n",
              "      <td>1</td>\n",
              "    </tr>\n",
              "    <tr>\n",
              "      <th>2</th>\n",
              "      <td>8</td>\n",
              "      <td>183</td>\n",
              "      <td>64</td>\n",
              "      <td>0</td>\n",
              "      <td>0</td>\n",
              "      <td>23.3</td>\n",
              "      <td>0.672</td>\n",
              "      <td>32</td>\n",
              "      <td>1</td>\n",
              "    </tr>\n",
              "    <tr>\n",
              "      <th>4</th>\n",
              "      <td>0</td>\n",
              "      <td>137</td>\n",
              "      <td>40</td>\n",
              "      <td>35</td>\n",
              "      <td>168</td>\n",
              "      <td>43.1</td>\n",
              "      <td>2.288</td>\n",
              "      <td>33</td>\n",
              "      <td>1</td>\n",
              "    </tr>\n",
              "    <tr>\n",
              "      <th>6</th>\n",
              "      <td>3</td>\n",
              "      <td>78</td>\n",
              "      <td>50</td>\n",
              "      <td>32</td>\n",
              "      <td>88</td>\n",
              "      <td>31.0</td>\n",
              "      <td>0.248</td>\n",
              "      <td>26</td>\n",
              "      <td>1</td>\n",
              "    </tr>\n",
              "    <tr>\n",
              "      <th>8</th>\n",
              "      <td>2</td>\n",
              "      <td>197</td>\n",
              "      <td>70</td>\n",
              "      <td>45</td>\n",
              "      <td>543</td>\n",
              "      <td>30.5</td>\n",
              "      <td>0.158</td>\n",
              "      <td>53</td>\n",
              "      <td>1</td>\n",
              "    </tr>\n",
              "    <tr>\n",
              "      <th>...</th>\n",
              "      <td>...</td>\n",
              "      <td>...</td>\n",
              "      <td>...</td>\n",
              "      <td>...</td>\n",
              "      <td>...</td>\n",
              "      <td>...</td>\n",
              "      <td>...</td>\n",
              "      <td>...</td>\n",
              "      <td>...</td>\n",
              "    </tr>\n",
              "    <tr>\n",
              "      <th>755</th>\n",
              "      <td>1</td>\n",
              "      <td>128</td>\n",
              "      <td>88</td>\n",
              "      <td>39</td>\n",
              "      <td>110</td>\n",
              "      <td>36.5</td>\n",
              "      <td>1.057</td>\n",
              "      <td>37</td>\n",
              "      <td>1</td>\n",
              "    </tr>\n",
              "    <tr>\n",
              "      <th>757</th>\n",
              "      <td>0</td>\n",
              "      <td>123</td>\n",
              "      <td>72</td>\n",
              "      <td>0</td>\n",
              "      <td>0</td>\n",
              "      <td>36.3</td>\n",
              "      <td>0.258</td>\n",
              "      <td>52</td>\n",
              "      <td>1</td>\n",
              "    </tr>\n",
              "    <tr>\n",
              "      <th>759</th>\n",
              "      <td>6</td>\n",
              "      <td>190</td>\n",
              "      <td>92</td>\n",
              "      <td>0</td>\n",
              "      <td>0</td>\n",
              "      <td>35.5</td>\n",
              "      <td>0.278</td>\n",
              "      <td>66</td>\n",
              "      <td>1</td>\n",
              "    </tr>\n",
              "    <tr>\n",
              "      <th>761</th>\n",
              "      <td>9</td>\n",
              "      <td>170</td>\n",
              "      <td>74</td>\n",
              "      <td>31</td>\n",
              "      <td>0</td>\n",
              "      <td>44.0</td>\n",
              "      <td>0.403</td>\n",
              "      <td>43</td>\n",
              "      <td>1</td>\n",
              "    </tr>\n",
              "    <tr>\n",
              "      <th>766</th>\n",
              "      <td>1</td>\n",
              "      <td>126</td>\n",
              "      <td>60</td>\n",
              "      <td>0</td>\n",
              "      <td>0</td>\n",
              "      <td>30.1</td>\n",
              "      <td>0.349</td>\n",
              "      <td>47</td>\n",
              "      <td>1</td>\n",
              "    </tr>\n",
              "  </tbody>\n",
              "</table>\n",
              "<p>268 rows × 9 columns</p>\n",
              "</div>\n",
              "    <div class=\"colab-df-buttons\">\n",
              "\n",
              "  <div class=\"colab-df-container\">\n",
              "    <button class=\"colab-df-convert\" onclick=\"convertToInteractive('df-a5e52c9f-a060-4461-8899-b53e6c4d1784')\"\n",
              "            title=\"Convert this dataframe to an interactive table.\"\n",
              "            style=\"display:none;\">\n",
              "\n",
              "  <svg xmlns=\"http://www.w3.org/2000/svg\" height=\"24px\" viewBox=\"0 -960 960 960\">\n",
              "    <path d=\"M120-120v-720h720v720H120Zm60-500h600v-160H180v160Zm220 220h160v-160H400v160Zm0 220h160v-160H400v160ZM180-400h160v-160H180v160Zm440 0h160v-160H620v160ZM180-180h160v-160H180v160Zm440 0h160v-160H620v160Z\"/>\n",
              "  </svg>\n",
              "    </button>\n",
              "\n",
              "  <style>\n",
              "    .colab-df-container {\n",
              "      display:flex;\n",
              "      gap: 12px;\n",
              "    }\n",
              "\n",
              "    .colab-df-convert {\n",
              "      background-color: #E8F0FE;\n",
              "      border: none;\n",
              "      border-radius: 50%;\n",
              "      cursor: pointer;\n",
              "      display: none;\n",
              "      fill: #1967D2;\n",
              "      height: 32px;\n",
              "      padding: 0 0 0 0;\n",
              "      width: 32px;\n",
              "    }\n",
              "\n",
              "    .colab-df-convert:hover {\n",
              "      background-color: #E2EBFA;\n",
              "      box-shadow: 0px 1px 2px rgba(60, 64, 67, 0.3), 0px 1px 3px 1px rgba(60, 64, 67, 0.15);\n",
              "      fill: #174EA6;\n",
              "    }\n",
              "\n",
              "    .colab-df-buttons div {\n",
              "      margin-bottom: 4px;\n",
              "    }\n",
              "\n",
              "    [theme=dark] .colab-df-convert {\n",
              "      background-color: #3B4455;\n",
              "      fill: #D2E3FC;\n",
              "    }\n",
              "\n",
              "    [theme=dark] .colab-df-convert:hover {\n",
              "      background-color: #434B5C;\n",
              "      box-shadow: 0px 1px 3px 1px rgba(0, 0, 0, 0.15);\n",
              "      filter: drop-shadow(0px 1px 2px rgba(0, 0, 0, 0.3));\n",
              "      fill: #FFFFFF;\n",
              "    }\n",
              "  </style>\n",
              "\n",
              "    <script>\n",
              "      const buttonEl =\n",
              "        document.querySelector('#df-a5e52c9f-a060-4461-8899-b53e6c4d1784 button.colab-df-convert');\n",
              "      buttonEl.style.display =\n",
              "        google.colab.kernel.accessAllowed ? 'block' : 'none';\n",
              "\n",
              "      async function convertToInteractive(key) {\n",
              "        const element = document.querySelector('#df-a5e52c9f-a060-4461-8899-b53e6c4d1784');\n",
              "        const dataTable =\n",
              "          await google.colab.kernel.invokeFunction('convertToInteractive',\n",
              "                                                    [key], {});\n",
              "        if (!dataTable) return;\n",
              "\n",
              "        const docLinkHtml = 'Like what you see? Visit the ' +\n",
              "          '<a target=\"_blank\" href=https://colab.research.google.com/notebooks/data_table.ipynb>data table notebook</a>'\n",
              "          + ' to learn more about interactive tables.';\n",
              "        element.innerHTML = '';\n",
              "        dataTable['output_type'] = 'display_data';\n",
              "        await google.colab.output.renderOutput(dataTable, element);\n",
              "        const docLink = document.createElement('div');\n",
              "        docLink.innerHTML = docLinkHtml;\n",
              "        element.appendChild(docLink);\n",
              "      }\n",
              "    </script>\n",
              "  </div>\n",
              "\n",
              "\n",
              "<div id=\"df-0368d5d6-c97a-4dbd-a122-e7b7c45b8c54\">\n",
              "  <button class=\"colab-df-quickchart\" onclick=\"quickchart('df-0368d5d6-c97a-4dbd-a122-e7b7c45b8c54')\"\n",
              "            title=\"Suggest charts\"\n",
              "            style=\"display:none;\">\n",
              "\n",
              "<svg xmlns=\"http://www.w3.org/2000/svg\" height=\"24px\"viewBox=\"0 0 24 24\"\n",
              "     width=\"24px\">\n",
              "    <g>\n",
              "        <path d=\"M19 3H5c-1.1 0-2 .9-2 2v14c0 1.1.9 2 2 2h14c1.1 0 2-.9 2-2V5c0-1.1-.9-2-2-2zM9 17H7v-7h2v7zm4 0h-2V7h2v10zm4 0h-2v-4h2v4z\"/>\n",
              "    </g>\n",
              "</svg>\n",
              "  </button>\n",
              "\n",
              "<style>\n",
              "  .colab-df-quickchart {\n",
              "      --bg-color: #E8F0FE;\n",
              "      --fill-color: #1967D2;\n",
              "      --hover-bg-color: #E2EBFA;\n",
              "      --hover-fill-color: #174EA6;\n",
              "      --disabled-fill-color: #AAA;\n",
              "      --disabled-bg-color: #DDD;\n",
              "  }\n",
              "\n",
              "  [theme=dark] .colab-df-quickchart {\n",
              "      --bg-color: #3B4455;\n",
              "      --fill-color: #D2E3FC;\n",
              "      --hover-bg-color: #434B5C;\n",
              "      --hover-fill-color: #FFFFFF;\n",
              "      --disabled-bg-color: #3B4455;\n",
              "      --disabled-fill-color: #666;\n",
              "  }\n",
              "\n",
              "  .colab-df-quickchart {\n",
              "    background-color: var(--bg-color);\n",
              "    border: none;\n",
              "    border-radius: 50%;\n",
              "    cursor: pointer;\n",
              "    display: none;\n",
              "    fill: var(--fill-color);\n",
              "    height: 32px;\n",
              "    padding: 0;\n",
              "    width: 32px;\n",
              "  }\n",
              "\n",
              "  .colab-df-quickchart:hover {\n",
              "    background-color: var(--hover-bg-color);\n",
              "    box-shadow: 0 1px 2px rgba(60, 64, 67, 0.3), 0 1px 3px 1px rgba(60, 64, 67, 0.15);\n",
              "    fill: var(--button-hover-fill-color);\n",
              "  }\n",
              "\n",
              "  .colab-df-quickchart-complete:disabled,\n",
              "  .colab-df-quickchart-complete:disabled:hover {\n",
              "    background-color: var(--disabled-bg-color);\n",
              "    fill: var(--disabled-fill-color);\n",
              "    box-shadow: none;\n",
              "  }\n",
              "\n",
              "  .colab-df-spinner {\n",
              "    border: 2px solid var(--fill-color);\n",
              "    border-color: transparent;\n",
              "    border-bottom-color: var(--fill-color);\n",
              "    animation:\n",
              "      spin 1s steps(1) infinite;\n",
              "  }\n",
              "\n",
              "  @keyframes spin {\n",
              "    0% {\n",
              "      border-color: transparent;\n",
              "      border-bottom-color: var(--fill-color);\n",
              "      border-left-color: var(--fill-color);\n",
              "    }\n",
              "    20% {\n",
              "      border-color: transparent;\n",
              "      border-left-color: var(--fill-color);\n",
              "      border-top-color: var(--fill-color);\n",
              "    }\n",
              "    30% {\n",
              "      border-color: transparent;\n",
              "      border-left-color: var(--fill-color);\n",
              "      border-top-color: var(--fill-color);\n",
              "      border-right-color: var(--fill-color);\n",
              "    }\n",
              "    40% {\n",
              "      border-color: transparent;\n",
              "      border-right-color: var(--fill-color);\n",
              "      border-top-color: var(--fill-color);\n",
              "    }\n",
              "    60% {\n",
              "      border-color: transparent;\n",
              "      border-right-color: var(--fill-color);\n",
              "    }\n",
              "    80% {\n",
              "      border-color: transparent;\n",
              "      border-right-color: var(--fill-color);\n",
              "      border-bottom-color: var(--fill-color);\n",
              "    }\n",
              "    90% {\n",
              "      border-color: transparent;\n",
              "      border-bottom-color: var(--fill-color);\n",
              "    }\n",
              "  }\n",
              "</style>\n",
              "\n",
              "  <script>\n",
              "    async function quickchart(key) {\n",
              "      const quickchartButtonEl =\n",
              "        document.querySelector('#' + key + ' button');\n",
              "      quickchartButtonEl.disabled = true;  // To prevent multiple clicks.\n",
              "      quickchartButtonEl.classList.add('colab-df-spinner');\n",
              "      try {\n",
              "        const charts = await google.colab.kernel.invokeFunction(\n",
              "            'suggestCharts', [key], {});\n",
              "      } catch (error) {\n",
              "        console.error('Error during call to suggestCharts:', error);\n",
              "      }\n",
              "      quickchartButtonEl.classList.remove('colab-df-spinner');\n",
              "      quickchartButtonEl.classList.add('colab-df-quickchart-complete');\n",
              "    }\n",
              "    (() => {\n",
              "      let quickchartButtonEl =\n",
              "        document.querySelector('#df-0368d5d6-c97a-4dbd-a122-e7b7c45b8c54 button');\n",
              "      quickchartButtonEl.style.display =\n",
              "        google.colab.kernel.accessAllowed ? 'block' : 'none';\n",
              "    })();\n",
              "  </script>\n",
              "</div>\n",
              "    </div>\n",
              "  </div>\n"
            ],
            "application/vnd.google.colaboratory.intrinsic+json": {
              "type": "dataframe",
              "variable_name": "data",
              "summary": "{\n  \"name\": \"data\",\n  \"rows\": 268,\n  \"fields\": [\n    {\n      \"column\": \"Pregnancies\",\n      \"properties\": {\n        \"dtype\": \"number\",\n        \"std\": 3,\n        \"min\": 0,\n        \"max\": 17,\n        \"num_unique_values\": 17,\n        \"samples\": [\n          6,\n          8,\n          10\n        ],\n        \"semantic_type\": \"\",\n        \"description\": \"\"\n      }\n    },\n    {\n      \"column\": \"Glucose\",\n      \"properties\": {\n        \"dtype\": \"number\",\n        \"std\": 31,\n        \"min\": 0,\n        \"max\": 199,\n        \"num_unique_values\": 104,\n        \"samples\": [\n          131,\n          85,\n          151\n        ],\n        \"semantic_type\": \"\",\n        \"description\": \"\"\n      }\n    },\n    {\n      \"column\": \"BloodPressure\",\n      \"properties\": {\n        \"dtype\": \"number\",\n        \"std\": 21,\n        \"min\": 0,\n        \"max\": 114,\n        \"num_unique_values\": 39,\n        \"samples\": [\n          58,\n          100,\n          70\n        ],\n        \"semantic_type\": \"\",\n        \"description\": \"\"\n      }\n    },\n    {\n      \"column\": \"SkinThickness\",\n      \"properties\": {\n        \"dtype\": \"number\",\n        \"std\": 17,\n        \"min\": 0,\n        \"max\": 99,\n        \"num_unique_values\": 43,\n        \"samples\": [\n          48,\n          18,\n          46\n        ],\n        \"semantic_type\": \"\",\n        \"description\": \"\"\n      }\n    },\n    {\n      \"column\": \"Insulin\",\n      \"properties\": {\n        \"dtype\": \"number\",\n        \"std\": 138,\n        \"min\": 0,\n        \"max\": 846,\n        \"num_unique_values\": 93,\n        \"samples\": [\n          176,\n          99,\n          249\n        ],\n        \"semantic_type\": \"\",\n        \"description\": \"\"\n      }\n    },\n    {\n      \"column\": \"BMI\",\n      \"properties\": {\n        \"dtype\": \"number\",\n        \"std\": 7.262967242346376,\n        \"min\": 0.0,\n        \"max\": 67.1,\n        \"num_unique_values\": 148,\n        \"samples\": [\n          34.4,\n          35.4,\n          46.1\n        ],\n        \"semantic_type\": \"\",\n        \"description\": \"\"\n      }\n    },\n    {\n      \"column\": \"DiabetesPedigreeFunction\",\n      \"properties\": {\n        \"dtype\": \"number\",\n        \"std\": 0.372354483554611,\n        \"min\": 0.088,\n        \"max\": 2.42,\n        \"num_unique_values\": 231,\n        \"samples\": [\n          0.378,\n          0.578,\n          0.484\n        ],\n        \"semantic_type\": \"\",\n        \"description\": \"\"\n      }\n    },\n    {\n      \"column\": \"Age\",\n      \"properties\": {\n        \"dtype\": \"number\",\n        \"std\": 10,\n        \"min\": 21,\n        \"max\": 70,\n        \"num_unique_values\": 45,\n        \"samples\": [\n          35,\n          61,\n          23\n        ],\n        \"semantic_type\": \"\",\n        \"description\": \"\"\n      }\n    },\n    {\n      \"column\": \"Outcome\",\n      \"properties\": {\n        \"dtype\": \"number\",\n        \"std\": 0,\n        \"min\": 1,\n        \"max\": 1,\n        \"num_unique_values\": 1,\n        \"samples\": [\n          1\n        ],\n        \"semantic_type\": \"\",\n        \"description\": \"\"\n      }\n    }\n  ]\n}"
            }
          },
          "metadata": {},
          "execution_count": 2
        }
      ],
      "source": [
        "DATA_PATH = '/content/diabetes 2.csv'\n",
        "\n",
        "data = pd.read_csv(DATA_PATH)\n",
        "data = data[data['Outcome']==1]\n",
        "data"
      ]
    },
    {
      "cell_type": "markdown",
      "metadata": {
        "id": "Y1WS0oLvtyWe"
      },
      "source": [
        "Выберите, обоснуйте и визуализируйте:\n",
        "\n",
        "> Таргет клинических испытаний (первичную контрольную точку): уровень глюкозы, инсулина, толщину кожи и тд.;\n",
        "\n",
        "**Ответ:** уровень глюкозы в крови - основной показатель для диагностики диабета. высокий уровень глюкозы натощак или после приема может явно показывать, что у пациента диабет.\n",
        "еще уровень глюкозы легко измерить (с помощью глюкометра или лабораторных анализов крови).\n",
        "также уровень глюкозы - чувствительный показатель для мониторинга состояния пациента."
      ]
    },
    {
      "cell_type": "code",
      "source": [
        "plt.figure(figsize=(10, 6))\n",
        "sns.histplot(data['Glucose'], kde=True, bins=30)\n",
        "plt.title('гистограмма уровня глюкозы')\n",
        "plt.xlabel('уровень глюкозы')\n",
        "plt.ylabel('частота')\n",
        "plt.show()"
      ],
      "metadata": {
        "colab": {
          "base_uri": "https://localhost:8080/",
          "height": 581
        },
        "id": "dC2sfAOnypgU",
        "outputId": "0431aadd-c70e-416f-b808-360c072bb58c"
      },
      "execution_count": 7,
      "outputs": [
        {
          "output_type": "display_data",
          "data": {
            "text/plain": [
              "<Figure size 1000x600 with 1 Axes>"
            ],
            "image/png": "[encoded data removed]"
          },
          "metadata": {}
        }
      ]
    },
    {
      "cell_type": "markdown",
      "metadata": {
        "id": "y163VYRGdoh2"
      },
      "source": [
        "Посмотрите на распределение значений выбранного таргета."
      ]
    },
    {
      "cell_type": "code",
      "execution_count": 8,
      "metadata": {
        "id": "TtrjGVYYrMBB",
        "colab": {
          "base_uri": "https://localhost:8080/",
          "height": 234
        },
        "outputId": "822bb3c2-6ea1-4d22-e779-1515cf257903"
      },
      "outputs": [
        {
          "output_type": "display_data",
          "data": {
            "text/plain": [
              "<Figure size 1000x150 with 1 Axes>"
            ],
            "image/png": "[encoded data removed]"
          },
          "metadata": {}
        }
      ],
      "source": [
        "plt.figure(figsize=(10, 1.5))\n",
        "sns.boxplot(data['Glucose'], orient='h')\n",
        "plt.title('boxplot для уровня глюкозы в крови пациента')\n",
        "plt.show()"
      ]
    },
    {
      "cell_type": "markdown",
      "metadata": {
        "id": "Vkj_jt4gvaNI"
      },
      "source": [
        "> Статистический критерий (название / абсолютный или относительный / односторонний или двусторонний / связные или независимые выборки);\n",
        "\n",
        "**Ответ:** критерий должен быть двусторонний, чтобы посмотреть уменьшается/увеличивается уровень глюкозы после лекарства.\n",
        "\n",
        "выборки связные: возьмум группу пациентов, померим уровень глюкозы, дадим лекарство, опять померим уровень глюкозы у тех же пациентов.\n",
        "\n",
        "будем смотреть абсолютное значение уровня глюкозы.\n",
        "\n",
        "критерий уилкоксона: он подойдет, потому что у насс нет определенного распределения"
      ]
    },
    {
      "cell_type": "markdown",
      "metadata": {
        "id": "HgJ7CFyY2V3k"
      },
      "source": [
        "> Мощность критерия\n",
        "\n",
        "**Ответ:** возьмем 0.8"
      ]
    },
    {
      "cell_type": "markdown",
      "metadata": {
        "id": "ChHswB3A4WfC"
      },
      "source": [
        "> Желаемый минимальный детектируемый эффект;\n",
        "\n",
        "так как уровень глюкозы довольно чувствительный параметр, может меняться много из-за, то возьмем mde = 20, чтобы показать, что лекарство действительно работает\n",
        "\n",
        "> Размер А и В групп;"
      ]
    },
    {
      "cell_type": "code",
      "source": [
        "alpha = 0.05\n",
        "beta = 0.8\n",
        "mde = 20\n",
        "\n",
        "z_alpha = sps.norm.ppf(1 - alpha / 2)\n",
        "z_beta = sps.norm.ppf(beta)\n",
        "\n",
        "sigma = np.std(data['Glucose'])\n",
        "\n",
        "n = (z_alpha + z_beta)**2 * 2*sigma**2 / mde**2\n",
        "\n",
        "print(int(np.floor(n)))"
      ],
      "metadata": {
        "colab": {
          "base_uri": "https://localhost:8080/"
        },
        "id": "XJ57LZ5A473F",
        "outputId": "76a08123-4b86-456b-82bf-268cf8887e1a"
      },
      "execution_count": 12,
      "outputs": [
        {
          "output_type": "stream",
          "name": "stdout",
          "text": [
            "39\n"
          ]
        }
      ]
    },
    {
      "cell_type": "markdown",
      "metadata": {
        "id": "G_E94JxP4rTg"
      },
      "source": [
        "Будем подбирать по рассмотренной на семинаре таблице `MDE`-мощность-размер выборки"
      ]
    },
    {
      "cell_type": "code",
      "execution_count": 14,
      "metadata": {
        "id": "XzAT-346tu8l"
      },
      "outputs": [],
      "source": [
        "def get_mde(alpha, beta, sample_size, var_R, two_sided=False):\n",
        "    '''Расcчитывает MDE\n",
        "\n",
        "    Аргументы:\n",
        "    alpha -- желаемая ошибка первого рода\n",
        "    beta -- желаемая мощность\n",
        "    sample_size -- размер выборок\n",
        "    var_R -- дисперсии выборок\n",
        "    two_sided -- двусторонний или односторонний тест\n",
        "\n",
        "    Возвращает:\n",
        "    mde -- теоретический MDE\n",
        "    '''\n",
        "\n",
        "    if two_sided:\n",
        "        z_alpha = sps.norm.ppf(1 - alpha / 2)\n",
        "    else:\n",
        "        z_alpha = sps.norm.ppf(1 - alpha)\n",
        "\n",
        "    z_beta = sps.norm.ppf(beta)\n",
        "\n",
        "    mde = (z_alpha + z_beta) * np.sqrt(2 * var_R / sample_size)\n",
        "\n",
        "    return mde\n",
        "\n",
        "\n",
        "\n",
        "\n",
        "def get_sample_size(alpha, beta, mde, var_R, two_sided=False):\n",
        "    '''Расcчитывает размер выборки для детектирование MDE\n",
        "\n",
        "    Аргументы:\n",
        "    alpha -- желаемая ошибка первого рода\n",
        "    beta -- желаемая мощность\n",
        "    mde -- необходимый эффект\n",
        "    var_R -- дисперсии выборок\n",
        "    two_sided -- двусторонний или односторонний тест\n",
        "\n",
        "    Возвращает:\n",
        "    n -- теоретический минимальный размер выборки\n",
        "    '''\n",
        "\n",
        "    if two_sided:\n",
        "        z_alpha = sps.norm.ppf(1 - alpha / 2)\n",
        "    else:\n",
        "        z_alpha = sps.norm.ppf(1 - alpha)\n",
        "\n",
        "    z_beta = sps.norm.ppf(beta)\n",
        "\n",
        "    n = ((z_alpha + z_beta) ** 2) * (2 * var_R) / (mde ** 2)\n",
        "\n",
        "    return n"
      ]
    },
    {
      "cell_type": "code",
      "execution_count": 16,
      "metadata": {
        "id": "ZbkXDP7a5X_1",
        "colab": {
          "base_uri": "https://localhost:8080/",
          "height": 351
        },
        "outputId": "7f32609a-a615-4f38-d3fc-cc5374aacb54"
      },
      "outputs": [
        {
          "output_type": "execute_result",
          "data": {
            "text/plain": [
              "              0.60           0.65           0.70           0.75  \\\n",
              "0.01  97974.919417  110007.183117  123441.339104  138806.929609   \n",
              "0.02  24493.729854   27501.795779   30860.334776   34701.732402   \n",
              "0.03  10886.102157   12223.020346   13715.704345   15422.992179   \n",
              "0.04   6123.432464    6875.448945    7715.083694    8675.433101   \n",
              "0.05   3918.996777    4400.287325    4937.653564    5552.277184   \n",
              "0.06   2721.525539    3055.755087    3428.926086    3855.748045   \n",
              "0.07   1999.488151    2245.044553    2519.211002    2832.794482   \n",
              "0.08   1530.858116    1718.862236    1928.770923    2168.858275   \n",
              "0.09   1209.566906    1358.113372    1523.967149    1713.665798   \n",
              "\n",
              "               0.80           0.85           0.90           0.95  \n",
              "0.01  156977.594687  179567.944462  210148.461229  259894.200242  \n",
              "0.02   39244.398672   44891.986116   52537.115307   64973.550061  \n",
              "0.03   17441.954965   19951.993829   23349.829025   28877.133360  \n",
              "0.04    9811.099668   11222.996529   13134.278827   16243.387515  \n",
              "0.05    6279.103787    7182.717778    8405.938449   10395.768010  \n",
              "0.06    4360.488741    4987.998457    5837.457256    7219.283340  \n",
              "0.07    3203.624381    3664.651928    4288.744107    5303.963270  \n",
              "0.08    2452.774917    2805.749132    3283.569707    4060.846879  \n",
              "0.09    1937.994996    2216.888203    2594.425447    3208.570373  "
            ],
            "text/html": [
              "\n",
              "  <div id=\"df-a449ff70-9441-4615-9870-a0daf5e56ada\" class=\"colab-df-container\">\n",
              "    <div>\n",
              "<style scoped>\n",
              "    .dataframe tbody tr th:only-of-type {\n",
              "        vertical-align: middle;\n",
              "    }\n",
              "\n",
              "    .dataframe tbody tr th {\n",
              "        vertical-align: top;\n",
              "    }\n",
              "\n",
              "    .dataframe thead th {\n",
              "        text-align: right;\n",
              "    }\n",
              "</style>\n",
              "<table border=\"1\" class=\"dataframe\">\n",
              "  <thead>\n",
              "    <tr style=\"text-align: right;\">\n",
              "      <th></th>\n",
              "      <th>0.60</th>\n",
              "      <th>0.65</th>\n",
              "      <th>0.70</th>\n",
              "      <th>0.75</th>\n",
              "      <th>0.80</th>\n",
              "      <th>0.85</th>\n",
              "      <th>0.90</th>\n",
              "      <th>0.95</th>\n",
              "    </tr>\n",
              "  </thead>\n",
              "  <tbody>\n",
              "    <tr>\n",
              "      <th>0.01</th>\n",
              "      <td>97974.919417</td>\n",
              "      <td>110007.183117</td>\n",
              "      <td>123441.339104</td>\n",
              "      <td>138806.929609</td>\n",
              "      <td>156977.594687</td>\n",
              "      <td>179567.944462</td>\n",
              "      <td>210148.461229</td>\n",
              "      <td>259894.200242</td>\n",
              "    </tr>\n",
              "    <tr>\n",
              "      <th>0.02</th>\n",
              "      <td>24493.729854</td>\n",
              "      <td>27501.795779</td>\n",
              "      <td>30860.334776</td>\n",
              "      <td>34701.732402</td>\n",
              "      <td>39244.398672</td>\n",
              "      <td>44891.986116</td>\n",
              "      <td>52537.115307</td>\n",
              "      <td>64973.550061</td>\n",
              "    </tr>\n",
              "    <tr>\n",
              "      <th>0.03</th>\n",
              "      <td>10886.102157</td>\n",
              "      <td>12223.020346</td>\n",
              "      <td>13715.704345</td>\n",
              "      <td>15422.992179</td>\n",
              "      <td>17441.954965</td>\n",
              "      <td>19951.993829</td>\n",
              "      <td>23349.829025</td>\n",
              "      <td>28877.133360</td>\n",
              "    </tr>\n",
              "    <tr>\n",
              "      <th>0.04</th>\n",
              "      <td>6123.432464</td>\n",
              "      <td>6875.448945</td>\n",
              "      <td>7715.083694</td>\n",
              "      <td>8675.433101</td>\n",
              "      <td>9811.099668</td>\n",
              "      <td>11222.996529</td>\n",
              "      <td>13134.278827</td>\n",
              "      <td>16243.387515</td>\n",
              "    </tr>\n",
              "    <tr>\n",
              "      <th>0.05</th>\n",
              "      <td>3918.996777</td>\n",
              "      <td>4400.287325</td>\n",
              "      <td>4937.653564</td>\n",
              "      <td>5552.277184</td>\n",
              "      <td>6279.103787</td>\n",
              "      <td>7182.717778</td>\n",
              "      <td>8405.938449</td>\n",
              "      <td>10395.768010</td>\n",
              "    </tr>\n",
              "    <tr>\n",
              "      <th>0.06</th>\n",
              "      <td>2721.525539</td>\n",
              "      <td>3055.755087</td>\n",
              "      <td>3428.926086</td>\n",
              "      <td>3855.748045</td>\n",
              "      <td>4360.488741</td>\n",
              "      <td>4987.998457</td>\n",
              "      <td>5837.457256</td>\n",
              "      <td>7219.283340</td>\n",
              "    </tr>\n",
              "    <tr>\n",
              "      <th>0.07</th>\n",
              "      <td>1999.488151</td>\n",
              "      <td>2245.044553</td>\n",
              "      <td>2519.211002</td>\n",
              "      <td>2832.794482</td>\n",
              "      <td>3203.624381</td>\n",
              "      <td>3664.651928</td>\n",
              "      <td>4288.744107</td>\n",
              "      <td>5303.963270</td>\n",
              "    </tr>\n",
              "    <tr>\n",
              "      <th>0.08</th>\n",
              "      <td>1530.858116</td>\n",
              "      <td>1718.862236</td>\n",
              "      <td>1928.770923</td>\n",
              "      <td>2168.858275</td>\n",
              "      <td>2452.774917</td>\n",
              "      <td>2805.749132</td>\n",
              "      <td>3283.569707</td>\n",
              "      <td>4060.846879</td>\n",
              "    </tr>\n",
              "    <tr>\n",
              "      <th>0.09</th>\n",
              "      <td>1209.566906</td>\n",
              "      <td>1358.113372</td>\n",
              "      <td>1523.967149</td>\n",
              "      <td>1713.665798</td>\n",
              "      <td>1937.994996</td>\n",
              "      <td>2216.888203</td>\n",
              "      <td>2594.425447</td>\n",
              "      <td>3208.570373</td>\n",
              "    </tr>\n",
              "  </tbody>\n",
              "</table>\n",
              "</div>\n",
              "    <div class=\"colab-df-buttons\">\n",
              "\n",
              "  <div class=\"colab-df-container\">\n",
              "    <button class=\"colab-df-convert\" onclick=\"convertToInteractive('df-a449ff70-9441-4615-9870-a0daf5e56ada')\"\n",
              "            title=\"Convert this dataframe to an interactive table.\"\n",
              "            style=\"display:none;\">\n",
              "\n",
              "  <svg xmlns=\"http://www.w3.org/2000/svg\" height=\"24px\" viewBox=\"0 -960 960 960\">\n",
              "    <path d=\"M120-120v-720h720v720H120Zm60-500h600v-160H180v160Zm220 220h160v-160H400v160Zm0 220h160v-160H400v160ZM180-400h160v-160H180v160Zm440 0h160v-160H620v160ZM180-180h160v-160H180v160Zm440 0h160v-160H620v160Z\"/>\n",
              "  </svg>\n",
              "    </button>\n",
              "\n",
              "  <style>\n",
              "    .colab-df-container {\n",
              "      display:flex;\n",
              "      gap: 12px;\n",
              "    }\n",
              "\n",
              "    .colab-df-convert {\n",
              "      background-color: #E8F0FE;\n",
              "      border: none;\n",
              "      border-radius: 50%;\n",
              "      cursor: pointer;\n",
              "      display: none;\n",
              "      fill: #1967D2;\n",
              "      height: 32px;\n",
              "      padding: 0 0 0 0;\n",
              "      width: 32px;\n",
              "    }\n",
              "\n",
              "    .colab-df-convert:hover {\n",
              "      background-color: #E2EBFA;\n",
              "      box-shadow: 0px 1px 2px rgba(60, 64, 67, 0.3), 0px 1px 3px 1px rgba(60, 64, 67, 0.15);\n",
              "      fill: #174EA6;\n",
              "    }\n",
              "\n",
              "    .colab-df-buttons div {\n",
              "      margin-bottom: 4px;\n",
              "    }\n",
              "\n",
              "    [theme=dark] .colab-df-convert {\n",
              "      background-color: #3B4455;\n",
              "      fill: #D2E3FC;\n",
              "    }\n",
              "\n",
              "    [theme=dark] .colab-df-convert:hover {\n",
              "      background-color: #434B5C;\n",
              "      box-shadow: 0px 1px 3px 1px rgba(0, 0, 0, 0.15);\n",
              "      filter: drop-shadow(0px 1px 2px rgba(0, 0, 0, 0.3));\n",
              "      fill: #FFFFFF;\n",
              "    }\n",
              "  </style>\n",
              "\n",
              "    <script>\n",
              "      const buttonEl =\n",
              "        document.querySelector('#df-a449ff70-9441-4615-9870-a0daf5e56ada button.colab-df-convert');\n",
              "      buttonEl.style.display =\n",
              "        google.colab.kernel.accessAllowed ? 'block' : 'none';\n",
              "\n",
              "      async function convertToInteractive(key) {\n",
              "        const element = document.querySelector('#df-a449ff70-9441-4615-9870-a0daf5e56ada');\n",
              "        const dataTable =\n",
              "          await google.colab.kernel.invokeFunction('convertToInteractive',\n",
              "                                                    [key], {});\n",
              "        if (!dataTable) return;\n",
              "\n",
              "        const docLinkHtml = 'Like what you see? Visit the ' +\n",
              "          '<a target=\"_blank\" href=https://colab.research.google.com/notebooks/data_table.ipynb>data table notebook</a>'\n",
              "          + ' to learn more about interactive tables.';\n",
              "        element.innerHTML = '';\n",
              "        dataTable['output_type'] = 'display_data';\n",
              "        await google.colab.output.renderOutput(dataTable, element);\n",
              "        const docLink = document.createElement('div');\n",
              "        docLink.innerHTML = docLinkHtml;\n",
              "        element.appendChild(docLink);\n",
              "      }\n",
              "    </script>\n",
              "  </div>\n",
              "\n",
              "\n",
              "<div id=\"df-1e0366a0-29f3-424c-b7f1-cd33753db433\">\n",
              "  <button class=\"colab-df-quickchart\" onclick=\"quickchart('df-1e0366a0-29f3-424c-b7f1-cd33753db433')\"\n",
              "            title=\"Suggest charts\"\n",
              "            style=\"display:none;\">\n",
              "\n",
              "<svg xmlns=\"http://www.w3.org/2000/svg\" height=\"24px\"viewBox=\"0 0 24 24\"\n",
              "     width=\"24px\">\n",
              "    <g>\n",
              "        <path d=\"M19 3H5c-1.1 0-2 .9-2 2v14c0 1.1.9 2 2 2h14c1.1 0 2-.9 2-2V5c0-1.1-.9-2-2-2zM9 17H7v-7h2v7zm4 0h-2V7h2v10zm4 0h-2v-4h2v4z\"/>\n",
              "    </g>\n",
              "</svg>\n",
              "  </button>\n",
              "\n",
              "<style>\n",
              "  .colab-df-quickchart {\n",
              "      --bg-color: #E8F0FE;\n",
              "      --fill-color: #1967D2;\n",
              "      --hover-bg-color: #E2EBFA;\n",
              "      --hover-fill-color: #174EA6;\n",
              "      --disabled-fill-color: #AAA;\n",
              "      --disabled-bg-color: #DDD;\n",
              "  }\n",
              "\n",
              "  [theme=dark] .colab-df-quickchart {\n",
              "      --bg-color: #3B4455;\n",
              "      --fill-color: #D2E3FC;\n",
              "      --hover-bg-color: #434B5C;\n",
              "      --hover-fill-color: #FFFFFF;\n",
              "      --disabled-bg-color: #3B4455;\n",
              "      --disabled-fill-color: #666;\n",
              "  }\n",
              "\n",
              "  .colab-df-quickchart {\n",
              "    background-color: var(--bg-color);\n",
              "    border: none;\n",
              "    border-radius: 50%;\n",
              "    cursor: pointer;\n",
              "    display: none;\n",
              "    fill: var(--fill-color);\n",
              "    height: 32px;\n",
              "    padding: 0;\n",
              "    width: 32px;\n",
              "  }\n",
              "\n",
              "  .colab-df-quickchart:hover {\n",
              "    background-color: var(--hover-bg-color);\n",
              "    box-shadow: 0 1px 2px rgba(60, 64, 67, 0.3), 0 1px 3px 1px rgba(60, 64, 67, 0.15);\n",
              "    fill: var(--button-hover-fill-color);\n",
              "  }\n",
              "\n",
              "  .colab-df-quickchart-complete:disabled,\n",
              "  .colab-df-quickchart-complete:disabled:hover {\n",
              "    background-color: var(--disabled-bg-color);\n",
              "    fill: var(--disabled-fill-color);\n",
              "    box-shadow: none;\n",
              "  }\n",
              "\n",
              "  .colab-df-spinner {\n",
              "    border: 2px solid var(--fill-color);\n",
              "    border-color: transparent;\n",
              "    border-bottom-color: var(--fill-color);\n",
              "    animation:\n",
              "      spin 1s steps(1) infinite;\n",
              "  }\n",
              "\n",
              "  @keyframes spin {\n",
              "    0% {\n",
              "      border-color: transparent;\n",
              "      border-bottom-color: var(--fill-color);\n",
              "      border-left-color: var(--fill-color);\n",
              "    }\n",
              "    20% {\n",
              "      border-color: transparent;\n",
              "      border-left-color: var(--fill-color);\n",
              "      border-top-color: var(--fill-color);\n",
              "    }\n",
              "    30% {\n",
              "      border-color: transparent;\n",
              "      border-left-color: var(--fill-color);\n",
              "      border-top-color: var(--fill-color);\n",
              "      border-right-color: var(--fill-color);\n",
              "    }\n",
              "    40% {\n",
              "      border-color: transparent;\n",
              "      border-right-color: var(--fill-color);\n",
              "      border-top-color: var(--fill-color);\n",
              "    }\n",
              "    60% {\n",
              "      border-color: transparent;\n",
              "      border-right-color: var(--fill-color);\n",
              "    }\n",
              "    80% {\n",
              "      border-color: transparent;\n",
              "      border-right-color: var(--fill-color);\n",
              "      border-bottom-color: var(--fill-color);\n",
              "    }\n",
              "    90% {\n",
              "      border-color: transparent;\n",
              "      border-bottom-color: var(--fill-color);\n",
              "    }\n",
              "  }\n",
              "</style>\n",
              "\n",
              "  <script>\n",
              "    async function quickchart(key) {\n",
              "      const quickchartButtonEl =\n",
              "        document.querySelector('#' + key + ' button');\n",
              "      quickchartButtonEl.disabled = true;  // To prevent multiple clicks.\n",
              "      quickchartButtonEl.classList.add('colab-df-spinner');\n",
              "      try {\n",
              "        const charts = await google.colab.kernel.invokeFunction(\n",
              "            'suggestCharts', [key], {});\n",
              "      } catch (error) {\n",
              "        console.error('Error during call to suggestCharts:', error);\n",
              "      }\n",
              "      quickchartButtonEl.classList.remove('colab-df-spinner');\n",
              "      quickchartButtonEl.classList.add('colab-df-quickchart-complete');\n",
              "    }\n",
              "    (() => {\n",
              "      let quickchartButtonEl =\n",
              "        document.querySelector('#df-1e0366a0-29f3-424c-b7f1-cd33753db433 button');\n",
              "      quickchartButtonEl.style.display =\n",
              "        google.colab.kernel.accessAllowed ? 'block' : 'none';\n",
              "    })();\n",
              "  </script>\n",
              "</div>\n",
              "    </div>\n",
              "  </div>\n"
            ],
            "application/vnd.google.colaboratory.intrinsic+json": {
              "type": "dataframe",
              "summary": "{\n  \"name\": \"pd\",\n  \"rows\": 9,\n  \"fields\": [\n    {\n      \"column\": 0.6,\n      \"properties\": {\n        \"dtype\": \"number\",\n        \"std\": 31338.671179799403,\n        \"min\": 1209.566906377499,\n        \"max\": 97974.91941657741,\n        \"num_unique_values\": 9,\n        \"samples\": [\n          1530.858115884022,\n          24493.729854144352,\n          2721.525539349372\n        ],\n        \"semantic_type\": \"\",\n        \"description\": \"\"\n      }\n    },\n    {\n      \"column\": 0.65,\n      \"properties\": {\n        \"dtype\": \"number\",\n        \"std\": 35187.36182334149,\n        \"min\": 1358.1133718164663,\n        \"max\": 110007.18311713375,\n        \"num_unique_values\": 9,\n        \"samples\": [\n          1718.862236205215,\n          27501.79577928344,\n          3055.755086587048\n        ],\n        \"semantic_type\": \"\",\n        \"description\": \"\"\n      }\n    },\n    {\n      \"column\": 0.7000000000000001,\n      \"properties\": {\n        \"dtype\": \"number\",\n        \"std\": 39484.467649498605,\n        \"min\": 1523.9671494288345,\n        \"max\": 123441.33910373559,\n        \"num_unique_values\": 9,\n        \"samples\": [\n          1928.7709234958686,\n          30860.334775933898,\n          3428.9260862148767\n        ],\n        \"semantic_type\": \"\",\n        \"description\": \"\"\n      }\n    },\n    {\n      \"column\": 0.7500000000000001,\n      \"properties\": {\n        \"dtype\": \"number\",\n        \"std\": 44399.37027156664,\n        \"min\": 1713.6657976457225,\n        \"max\": 138806.9296093035,\n        \"num_unique_values\": 9,\n        \"samples\": [\n          2168.8582751453673,\n          34701.73240232588,\n          3855.7480447028747\n        ],\n        \"semantic_type\": \"\",\n        \"description\": \"\"\n      }\n    },\n    {\n      \"column\": 0.8000000000000002,\n      \"properties\": {\n        \"dtype\": \"number\",\n        \"std\": 50211.51588371474,\n        \"min\": 1937.994996135578,\n        \"max\": 156977.5946869818,\n        \"num_unique_values\": 9,\n        \"samples\": [\n          2452.774916984091,\n          39244.39867174545,\n          4360.488741305049\n        ],\n        \"semantic_type\": \"\",\n        \"description\": \"\"\n      }\n    },\n    {\n      \"column\": 0.8500000000000002,\n      \"properties\": {\n        \"dtype\": \"number\",\n        \"std\": 57437.360494379136,\n        \"min\": 2216.8882032387455,\n        \"max\": 179567.94446233835,\n        \"num_unique_values\": 9,\n        \"samples\": [\n          2805.7491322240367,\n          44891.98611558459,\n          4987.998457287175\n        ],\n        \"semantic_type\": \"\",\n        \"description\": \"\"\n      }\n    },\n    {\n      \"column\": 0.9000000000000002,\n      \"properties\": {\n        \"dtype\": \"number\",\n        \"std\": 67218.97363741302,\n        \"min\": 2594.425447269292,\n        \"max\": 210148.4612288126,\n        \"num_unique_values\": 9,\n        \"samples\": [\n          3283.569706700197,\n          52537.11530720315,\n          5837.457256355905\n        ],\n        \"semantic_type\": \"\",\n        \"description\": \"\"\n      }\n    },\n    {\n      \"column\": 0.9500000000000003,\n      \"properties\": {\n        \"dtype\": \"number\",\n        \"std\": 83130.85564584912,\n        \"min\": 3208.570373362838,\n        \"max\": 259894.20024238984,\n        \"num_unique_values\": 9,\n        \"samples\": [\n          4060.846878787341,\n          64973.55006059746,\n          7219.283340066383\n        ],\n        \"semantic_type\": \"\",\n        \"description\": \"\"\n      }\n    }\n  ]\n}"
            }
          },
          "metadata": {},
          "execution_count": 16
        }
      ],
      "source": [
        "mde_grid = np.arange(0.01, 0.1, 0.01).reshape(-1, 1)  # относительный MDE\n",
        "beta_grid = np.arange(0.6, 1, 0.05)  # мощность\n",
        "alpha = 0.05 # выбранный теоретический уровень значимости\n",
        "\n",
        "# Дисперсия (варианса) относительных изменений\n",
        "var = 1  # дисперсия, расчет зависит от выбранного типа теста: абсолютный или относительный\n",
        "\n",
        "sample_sizes = get_sample_size(alpha, beta_grid, mde_grid, var, two_sided = True)\n",
        "pd.DataFrame(sample_sizes, columns=beta_grid.reshape(-1), index=mde_grid.reshape(-1))"
      ]
    },
    {
      "cell_type": "markdown",
      "metadata": {
        "id": "ayHzW9KH-YCS"
      },
      "source": [
        "**Ответ:** немного искусственная таблица, я взяла var = 1, потому что при других значениях mde был огромный."
      ]
    },
    {
      "cell_type": "markdown",
      "metadata": {
        "id": "DwcI5HVVAkXt"
      },
      "source": [
        "Для выбранного критерия проведите АА-тест по историческим данным. Если исторических данных оказалось недостаточно для вашей модели, придумайте способ решения проблемы."
      ]
    },
    {
      "cell_type": "code",
      "execution_count": 22,
      "metadata": {
        "id": "kOuYrVw2_9md"
      },
      "outputs": [],
      "source": [
        "sample_size = len(data['Glucose'])//2\n",
        "mde = 20\n",
        "alpha = 0.05"
      ]
    },
    {
      "cell_type": "code",
      "execution_count": 33,
      "metadata": {
        "id": "TPg7tfjyDkAy",
        "colab": {
          "base_uri": "https://localhost:8080/"
        },
        "outputId": "8aeddd06-2a6c-4ed4-e989-ae8004f67f8a"
      },
      "outputs": [
        {
          "output_type": "stream",
          "name": "stderr",
          "text": [
            "100%|██████████| 2000/2000 [00:02<00:00, 709.79it/s]\n"
          ]
        }
      ],
      "source": [
        "p_vals = []\n",
        "\n",
        "for i in tqdm(range(2000)):\n",
        "\n",
        "    sample1, sample2 = np.random.choice(data['Glucose'], (2, sample_size), replace=False)\n",
        "\n",
        "    p_val = sps.mannwhitneyu(sample1, sample2, alternative='two-sided')\n",
        "    p_vals.append(p_val)\n",
        "\n",
        "p_vals = np.array(p_vals)"
      ]
    },
    {
      "cell_type": "code",
      "execution_count": 34,
      "metadata": {
        "id": "Qe8lIpNPEoxt"
      },
      "outputs": [],
      "source": [
        "def draw_interval(\n",
        "    real_alpha, left_bound, right_bound,\n",
        "    alpha=0.05, new_fig=True\n",
        "):\n",
        "    '''\n",
        "    Отрисовка интервала для вероятности отвержения критерия\n",
        "\n",
        "    Аргументы:\n",
        "    real_alpha -- оценка реального уровня значимости\n",
        "    left_bound, right_bound -- границы дов. интервала\n",
        "    alpha -- теоретический уровень значимости\n",
        "    new_fig -- coздавать ли новую matplotlib figure\n",
        "    '''\n",
        "\n",
        "    if new_fig:\n",
        "        plt.figure(figsize=(7, 3.5))\n",
        "\n",
        "    plt.hlines(0, 0, 1,\n",
        "               color='black', lw=2, alpha=0.6)\n",
        "    plt.vlines(alpha, -1, 1,\n",
        "               color='red', lw=2, linestyle='--', alpha=0.6)\n",
        "    plt.fill_between([left_bound, right_bound], [0.1]*2, [-0.1]*2,\n",
        "                     color='green', alpha=0.6)\n",
        "    plt.scatter(real_alpha, 0, s=300, marker='*', color='red')\n",
        "    plt.xlim((min(alpha, left_bound)-1e-3, max(alpha, right_bound)+1e-3))\n",
        "    plt.title(\n",
        "            f'Доля отвержений = {100*real_alpha:.2f}%, '\n",
        "            f'интервал ({100*left_bound:.2f}%, {100*right_bound:.2f}%)'\n",
        "        )\n",
        "    plt.ylim((-0.5, 0.5))\n",
        "    plt.yticks([])"
      ]
    },
    {
      "cell_type": "code",
      "execution_count": 35,
      "metadata": {
        "id": "gCkan5fPE0Ro",
        "colab": {
          "base_uri": "https://localhost:8080/",
          "height": 380
        },
        "outputId": "630da6b1-ec2c-4ccd-e72a-f761f8e57923"
      },
      "outputs": [
        {
          "output_type": "stream",
          "name": "stdout",
          "text": [
            "Реальный уровень значимости: 0.02\n"
          ]
        },
        {
          "output_type": "display_data",
          "data": {
            "text/plain": [
              "<Figure size 700x350 with 1 Axes>"
            ],
            "image/png": "[encoded data removed]"
          },
          "metadata": {}
        }
      ],
      "source": [
        "real_alpha = (p_vals < alpha).mean()\n",
        "print(f'Реальный уровень значимости: {real_alpha.round(2)}')\n",
        "left_alpha, right_alpha = proportion_confint((p_vals < alpha).sum(), len(p_vals), method='wilson')\n",
        "draw_interval(real_alpha, left_alpha, right_alpha, alpha=alpha)"
      ]
    },
    {
      "cell_type": "markdown",
      "metadata": {
        "id": "kQ687217fORS"
      },
      "source": [
        "Посмотрите также на гистограмму p-value"
      ]
    },
    {
      "cell_type": "code",
      "execution_count": 36,
      "metadata": {
        "id": "2-fHP_TCfU33",
        "colab": {
          "base_uri": "https://localhost:8080/",
          "height": 556
        },
        "outputId": "0d86b30e-da1a-4344-ae04-932984415273"
      },
      "outputs": [
        {
          "output_type": "display_data",
          "data": {
            "text/plain": [
              "<Figure size 1000x600 with 1 Axes>"
            ],
            "image/png": "[encoded data removed]"
          },
          "metadata": {}
        }
      ],
      "source": [
        "plt.figure(figsize=(10, 6))\n",
        "plt.hist(p_vals, bins=30, edgecolor='k', alpha=0.7)\n",
        "plt.xlabel('p-value')\n",
        "plt.show()"
      ]
    },
    {
      "cell_type": "markdown",
      "metadata": {
        "id": "UE9wBtriHsaZ"
      },
      "source": [
        "Какие выводы о валидности выбранного критерия вы можете сделать?\n",
        "\n",
        "**Ответ:** критерий не валиден, но я не очень понимаю, в чем проблема, ttest нам не подойдёт, потому что у нас нет нормального распределения.\n",
        "Проверьте также мощность критерия на выбранном `MDE`.\n"
      ]
    },
    {
      "cell_type": "code",
      "execution_count": 30,
      "metadata": {
        "id": "_ZOMPP6YHqJX",
        "colab": {
          "base_uri": "https://localhost:8080/"
        },
        "outputId": "3d46f34f-c50d-42b4-f52b-5f4c3acd77b4"
      },
      "outputs": [
        {
          "output_type": "stream",
          "name": "stderr",
          "text": [
            "100%|██████████| 2000/2000 [00:02<00:00, 743.00it/s]\n"
          ]
        }
      ],
      "source": [
        "pvals = []\n",
        "\n",
        "for _ in tqdm(range(2000)):\n",
        "    sample1, sample2 = np.random.choice(data['Glucose'], (2, sample_size), replace=False)\n",
        "\n",
        "    # группа с заданным эффектом\n",
        "    sample2 = sample2 + sps.norm.rvs(size=len(sample2), scale=10)\n",
        "    pvals.append(sps.mannwhitneyu(sample1, sample2, alternative='two-sided') )\n",
        "pvals = np.array(pvals)"
      ]
    },
    {
      "cell_type": "code",
      "execution_count": 31,
      "metadata": {
        "id": "eBL4O6CPIchI",
        "colab": {
          "base_uri": "https://localhost:8080/"
        },
        "outputId": "e52c0eae-21b5-4a87-b6c6-9eededa0430a"
      },
      "outputs": [
        {
          "output_type": "stream",
          "name": "stdout",
          "text": [
            "Реальная мощность критерия: 0.023\n"
          ]
        }
      ],
      "source": [
        "print(f'Реальная мощность критерия: {(pvals < alpha).mean().round(3)}')"
      ]
    },
    {
      "cell_type": "markdown",
      "metadata": {
        "id": "kuMtUTWK3ncc"
      },
      "source": [
        "**Итоговый вывод по задаче:** делать дизайн А/В-теста непросто, нужно верно выбрать предполагаемый минимальный детектируемый эффект, достижимый размер выборки, надо делать много разных анализов, а перед экспериментомм провести А/А-тест, у меня это сделать не получилосьм:("
      ]
    }
  ],
  "metadata": {
    "colab": {
      "provenance": []
    },
    "kernelspec": {
      "display_name": "Python 3 (ipykernel)",
      "language": "python",
      "name": "python3"
    },
    "language_info": {
      "codemirror_mode": {
        "name": "ipython",
        "version": 3
      },
      "file_extension": ".py",
      "mimetype": "text/x-python",
      "name": "python",
      "nbconvert_exporter": "python",
      "pygments_lexer": "ipython3",
      "version": "3.10.9"
    }
  },
  "nbformat": 4,
  "nbformat_minor": 0
}