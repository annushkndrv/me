{
  "cells": [
    {
      "cell_type": "markdown",
      "metadata": {
        "id": "9FPTr3p2DL4B"
      },
      "source": [
        "# <a href=\"https://miptstats.github.io/courses/ad_mipt.html\">Phystech@DataScience</a>\n",
        "## Домашнее задание 1\n",
        "\n",
        "**Правила, <font color=\"red\">прочитайте внимательно</font>:**\n",
        "\n",
        "* Выполненную работу нужно отправить телеграм-боту `@miptstats_pds_bot`. Для начала работы с ботом каждый раз отправляйте `/start`. **Работы, присланные иным способом, не принимаются.**\n",
        "* Дедлайн см. в боте. После дедлайна работы не принимаются кроме случаев наличия уважительной причины.\n",
        "* Прислать нужно ноутбук в формате `ipynb`.\n",
        "* Выполнять задание необходимо полностью самостоятельно. **При обнаружении списывания все участники списывания будут сдавать устный зачет.**\n",
        "* Решения, размещенные на каких-либо интернет-ресурсах, не принимаются. Кроме того, публикация решения в открытом доступе может быть приравнена к предоставлении возможности списать.\n",
        "* Для выполнения задания используйте этот ноутбук в качестве основы, ничего не удаляя из него. Можно добавлять необходимое количество ячеек.\n",
        "* Комментарии к решению пишите в markdown-ячейках.\n",
        "* Выполнение задания (ход решения, выводы и пр.) должно быть осуществлено на русском языке.\n",
        "* Если код будет не понятен проверяющему, оценка может быть снижена.\n",
        "* Никакой код из данного задания при проверке запускаться не будет. *Если код студента не выполнен, недописан и т.д., то он не оценивается.*\n",
        "* **Код из рассказанных на занятиях ноутбуков можно использовать без ограничений.**\n",
        "\n",
        "**Правила оформления теоретических задач:**\n",
        "\n",
        "* Решения необходимо прислать одним из следующих способов:\n",
        "  * фотографией в правильной ориентации, где все четко видно, а почерк разборчив,\n",
        "    * отправив ее как файл боту вместе с ноутбуком *или*\n",
        "    * вставив ее в ноутбук посредством `Edit -> Insert Image` (<font color=\"red\">фото, вставленные ссылкой, не принимаются</font>);\n",
        "  * в виде $\\LaTeX$ в markdown-ячейках.\n",
        "* Решения не проверяются, если какое-то требование не выполнено. Особенно внимательно все проверьте в случае выбора второго пункта (вставки фото в ноутбук). <font color=\"red\"><b>Неправильно вставленные фотографии могут не передаться при отправке.</b></font> Для проверки попробуйте переместить `ipynb` в другую папку и открыть его там.\n",
        "* В решениях поясняйте, чем вы пользуетесь, хотя бы кратко. Например, если пользуетесь независимостью, то достаточно подписи вида \"*X и Y незав.*\"\n",
        "* Решение, в котором есть только ответ, и отсутствуют вычисления, оценивается в 0 баллов.\n",
        "\n",
        "**Баллы за задание:**\n",
        "\n",
        "<b><font color=\"blue\">Легкая часть</font></b> (достаточно на \"хор\"):\n",
        "* Задача 1 &mdash;  10 баллов\n",
        "\n",
        "<b><font color=\"orange\">Сложная часть</font></b> (необходимо на \"отл\"):\n",
        "* Задача 2 &mdash;  50 баллов\n",
        "\n",
        "\n",
        "\n",
        "\n",
        "\n",
        "\n",
        "\n",
        "-----"
      ]
    },
    {
      "cell_type": "code",
      "execution_count": null,
      "metadata": {
        "id": "fZ8oK9W9z5Ei"
      },
      "outputs": [],
      "source": [
        "# Bot check\n",
        "\n",
        "# HW_ID: phds_hw1\n",
        "# Бот проверит этот ID и предупредит, если случайно сдать что-то не то.\n",
        "\n",
        "# Status: final\n",
        "# Перед отправкой в финальном решении удали \"not\" в строчке выше.\n",
        "# Так бот проверит, что ты отправляешь финальную версию, а не промежуточную.\n",
        "# Никакие значения в этой ячейке не влияют на факт сдачи работы."
      ]
    },
    {
      "cell_type": "code",
      "execution_count": 3,
      "metadata": {
        "id": "rap_H2mSVrSx",
        "colab": {
          "base_uri": "https://localhost:8080/"
        },
        "outputId": "73ab9f89-1a18-4c9c-dc1b-f204b6ae3fd6"
      },
      "outputs": [
        {
          "output_type": "stream",
          "name": "stdout",
          "text": [
            "Collecting torchviz\n",
            "  Downloading torchviz-0.0.2.tar.gz (4.9 kB)\n",
            "  Preparing metadata (setup.py) ... \u001b[?25l\u001b[?25hdone\n",
            "Requirement already satisfied: torch in /usr/local/lib/python3.10/dist-packages (from torchviz) (2.4.0+cu121)\n",
            "Requirement already satisfied: graphviz in /usr/local/lib/python3.10/dist-packages (from torchviz) (0.20.3)\n",
            "Requirement already satisfied: filelock in /usr/local/lib/python3.10/dist-packages (from torch->torchviz) (3.16.0)\n",
            "Requirement already satisfied: typing-extensions>=4.8.0 in /usr/local/lib/python3.10/dist-packages (from torch->torchviz) (4.12.2)\n",
            "Requirement already satisfied: sympy in /usr/local/lib/python3.10/dist-packages (from torch->torchviz) (1.13.2)\n",
            "Requirement already satisfied: networkx in /usr/local/lib/python3.10/dist-packages (from torch->torchviz) (3.3)\n",
            "Requirement already satisfied: jinja2 in /usr/local/lib/python3.10/dist-packages (from torch->torchviz) (3.1.4)\n",
            "Requirement already satisfied: fsspec in /usr/local/lib/python3.10/dist-packages (from torch->torchviz) (2024.6.1)\n",
            "Requirement already satisfied: MarkupSafe>=2.0 in /usr/local/lib/python3.10/dist-packages (from jinja2->torch->torchviz) (2.1.5)\n",
            "Requirement already satisfied: mpmath<1.4,>=1.1.0 in /usr/local/lib/python3.10/dist-packages (from sympy->torch->torchviz) (1.3.0)\n",
            "Building wheels for collected packages: torchviz\n",
            "  Building wheel for torchviz (setup.py) ... \u001b[?25l\u001b[?25hdone\n",
            "  Created wheel for torchviz: filename=torchviz-0.0.2-py3-none-any.whl size=4132 sha256=090f70fdd9e7c5893c23d43106217e9d660b841ff4bd55feb41c9e8a45ebdb0a\n",
            "  Stored in directory: /root/.cache/pip/wheels/4c/97/88/a02973217949e0db0c9f4346d154085f4725f99c4f15a87094\n",
            "Successfully built torchviz\n",
            "Installing collected packages: torchviz\n",
            "Successfully installed torchviz-0.0.2\n"
          ]
        }
      ],
      "source": [
        "!pip install torchviz"
      ]
    },
    {
      "cell_type": "code",
      "execution_count": 4,
      "metadata": {
        "id": "ESGsfTQiMZ2a"
      },
      "outputs": [],
      "source": [
        "import torchviz\n",
        "\n",
        "import numpy as np\n",
        "import pandas as pd\n",
        "import matplotlib.pyplot as plt\n",
        "import seaborn as sns\n",
        "\n",
        "import torch\n",
        "from torch.autograd import grad\n",
        "from torch import nn\n",
        "from torch.utils.data import Dataset\n",
        "from sklearn.metrics import precision_recall_fscore_support as all_metrics\n",
        "from sklearn.metrics import accuracy_score\n",
        "\n",
        "from collections import defaultdict\n",
        "\n",
        "from sklearn.preprocessing import LabelBinarizer, StandardScaler\n",
        "from sklearn.model_selection import train_test_split\n",
        "\n",
        "from IPython.display import clear_output"
      ]
    },
    {
      "cell_type": "code",
      "execution_count": null,
      "metadata": {
        "id": "8Wh6SdHK56xF"
      },
      "outputs": [],
      "source": [
        "sns.set(palette='Set2', font_scale=1.2)\n",
        "%matplotlib inline"
      ]
    },
    {
      "cell_type": "code",
      "source": [
        "device = f\"cuda\" if torch.cuda.is_available() else \"cpu\"\n",
        "print(device)"
      ],
      "metadata": {
        "id": "-fWSwEcezRvM"
      },
      "execution_count": null,
      "outputs": []
    },
    {
      "cell_type": "markdown",
      "metadata": {
        "id": "8NAj6T0XMX_i"
      },
      "source": [
        "### Задача 1. Дифференцирование\n",
        "\n",
        "Для функции\n",
        "\n",
        "$$ f(x, y, z)=\\left(\\frac{y^4}{1+e^{-x}}\\right)^3 + z$$\n",
        "\n",
        "С помощью Pytorch:\n",
        "\n",
        "- постройте вычислительный граф с возможностью считать производные по x, y.\n",
        "\n",
        "- выведите все узлы полученного графа и их атрибуты (рассмотренные на лекции)\n",
        "\n",
        "- объясните, почему атрибуты принимают такие значения\n",
        "\n",
        "Для точки (1, 3, 2):\n",
        "\n",
        "- посчитайте для функции все возможные первые частные производные методом backward()\n",
        "\n",
        "- посчитайте для функции все возможные вторые частные производные"
      ]
    },
    {
      "cell_type": "code",
      "source": [
        "x = torch.tensor(1, requires_grad=True, dtype=torch.float)\n",
        "y = torch.tensor(3, requires_grad=True, dtype=torch.float)\n",
        "z = torch.tensor(2, requires_grad=True, dtype=torch.float)"
      ],
      "metadata": {
        "id": "eYqbqA5tsL_l"
      },
      "execution_count": null,
      "outputs": []
    },
    {
      "cell_type": "code",
      "source": [
        "f = (y**4/(1+torch.exp(-x)))**3+z\n"
      ],
      "metadata": {
        "id": "9PGhQRj9shTk"
      },
      "execution_count": null,
      "outputs": []
    },
    {
      "cell_type": "code",
      "source": [
        "from torchviz import make_dot\n",
        "make_dot(f, params={'x': x, 'y': y, 'f': f})"
      ],
      "metadata": {
        "colab": {
          "base_uri": "https://localhost:8080/",
          "height": 704
        },
        "id": "W9m-kUeTtBUt",
        "outputId": "d496c60b-3de1-44f3-e06c-e6e4d8422925"
      },
      "execution_count": null,
      "outputs": [
        {
          "output_type": "execute_result",
          "data": {
            "image/svg+xml": "<?xml version=\"1.0\" encoding=\"UTF-8\" standalone=\"no\"?>\n<!DOCTYPE svg PUBLIC \"-//W3C//DTD SVG 1.1//EN\"\n \"http://www.w3.org/Graphics/SVG/1.1/DTD/svg11.dtd\">\n<!-- Generated by graphviz version 2.43.0 (0)\n -->\n<!-- Title: %3 Pages: 1 -->\n<svg width=\"278pt\" height=\"512pt\"\n viewBox=\"0.00 0.00 278.00 512.00\" xmlns=\"http://www.w3.org/2000/svg\" xmlns:xlink=\"http://www.w3.org/1999/xlink\">\n<g id=\"graph0\" class=\"graph\" transform=\"scale(1 1) rotate(0) translate(4 508)\">\n<title>%3</title>\n<polygon fill=\"white\" stroke=\"transparent\" points=\"-4,4 -4,-508 274,-508 274,4 -4,4\"/>\n<!-- 136161754951856 -->\n<g id=\"node1\" class=\"node\">\n<title>136161754951856</title>\n<polygon fill=\"#caff70\" stroke=\"black\" points=\"189.5,-30 135.5,-30 135.5,0 189.5,0 189.5,-30\"/>\n<text text-anchor=\"middle\" x=\"162.5\" y=\"-18\" font-family=\"monospace\" font-size=\"10.00\">f</text>\n<text text-anchor=\"middle\" x=\"162.5\" y=\"-7\" font-family=\"monospace\" font-size=\"10.00\"> ()</text>\n</g>\n<!-- 136161755027568 -->\n<g id=\"node2\" class=\"node\">\n<title>136161755027568</title>\n<polygon fill=\"lightgrey\" stroke=\"black\" points=\"207,-85 118,-85 118,-66 207,-66 207,-85\"/>\n<text text-anchor=\"middle\" x=\"162.5\" y=\"-73\" font-family=\"monospace\" font-size=\"10.00\">AddBackward0</text>\n</g>\n<!-- 136161755027568&#45;&gt;136161754951856 -->\n<g id=\"edge13\" class=\"edge\">\n<title>136161755027568&#45;&gt;136161754951856</title>\n<path fill=\"none\" stroke=\"black\" d=\"M162.5,-65.87C162.5,-59.11 162.5,-49.35 162.5,-40.26\"/>\n<polygon fill=\"black\" stroke=\"black\" points=\"166,-40.11 162.5,-30.11 159,-40.11 166,-40.11\"/>\n</g>\n<!-- 136161755037456 -->\n<g id=\"node3\" class=\"node\">\n<title>136161755037456</title>\n<polygon fill=\"lightgrey\" stroke=\"black\" points=\"151,-140 62,-140 62,-121 151,-121 151,-140\"/>\n<text text-anchor=\"middle\" x=\"106.5\" y=\"-128\" font-family=\"monospace\" font-size=\"10.00\">PowBackward0</text>\n</g>\n<!-- 136161755037456&#45;&gt;136161755027568 -->\n<g id=\"edge1\" class=\"edge\">\n<title>136161755037456&#45;&gt;136161755027568</title>\n<path fill=\"none\" stroke=\"black\" d=\"M115.5,-120.98C123.69,-113.23 136.01,-101.58 145.97,-92.14\"/>\n<polygon fill=\"black\" stroke=\"black\" points=\"148.48,-94.59 153.34,-85.17 143.67,-89.5 148.48,-94.59\"/>\n</g>\n<!-- 136161755027664 -->\n<g id=\"node4\" class=\"node\">\n<title>136161755027664</title>\n<polygon fill=\"lightgrey\" stroke=\"black\" points=\"151,-201 62,-201 62,-182 151,-182 151,-201\"/>\n<text text-anchor=\"middle\" x=\"106.5\" y=\"-189\" font-family=\"monospace\" font-size=\"10.00\">DivBackward0</text>\n</g>\n<!-- 136161755027664&#45;&gt;136161755037456 -->\n<g id=\"edge2\" class=\"edge\">\n<title>136161755027664&#45;&gt;136161755037456</title>\n<path fill=\"none\" stroke=\"black\" d=\"M106.5,-181.79C106.5,-173.6 106.5,-161.06 106.5,-150.55\"/>\n<polygon fill=\"black\" stroke=\"black\" points=\"110,-150.24 106.5,-140.24 103,-150.24 110,-150.24\"/>\n</g>\n<!-- 136161755035872 -->\n<g id=\"node5\" class=\"node\">\n<title>136161755035872</title>\n<polygon fill=\"lightgrey\" stroke=\"black\" points=\"98,-262 9,-262 9,-243 98,-243 98,-262\"/>\n<text text-anchor=\"middle\" x=\"53.5\" y=\"-250\" font-family=\"monospace\" font-size=\"10.00\">PowBackward0</text>\n</g>\n<!-- 136161755035872&#45;&gt;136161755027664 -->\n<g id=\"edge3\" class=\"edge\">\n<title>136161755035872&#45;&gt;136161755027664</title>\n<path fill=\"none\" stroke=\"black\" d=\"M61.32,-242.79C69.31,-233.91 81.89,-219.89 91.76,-208.91\"/>\n<polygon fill=\"black\" stroke=\"black\" points=\"94.57,-211.02 98.65,-201.24 89.36,-206.34 94.57,-211.02\"/>\n</g>\n<!-- 136161755035056 -->\n<g id=\"node6\" class=\"node\">\n<title>136161755035056</title>\n<polygon fill=\"lightgrey\" stroke=\"black\" points=\"101,-317 0,-317 0,-298 101,-298 101,-317\"/>\n<text text-anchor=\"middle\" x=\"50.5\" y=\"-305\" font-family=\"monospace\" font-size=\"10.00\">AccumulateGrad</text>\n</g>\n<!-- 136161755035056&#45;&gt;136161755035872 -->\n<g id=\"edge4\" class=\"edge\">\n<title>136161755035056&#45;&gt;136161755035872</title>\n<path fill=\"none\" stroke=\"black\" d=\"M51,-297.75C51.39,-290.8 51.95,-280.85 52.45,-272.13\"/>\n<polygon fill=\"black\" stroke=\"black\" points=\"55.94,-272.27 53.01,-262.09 48.95,-271.88 55.94,-272.27\"/>\n</g>\n<!-- 136161754953696 -->\n<g id=\"node7\" class=\"node\">\n<title>136161754953696</title>\n<polygon fill=\"lightblue\" stroke=\"black\" points=\"77.5,-383 23.5,-383 23.5,-353 77.5,-353 77.5,-383\"/>\n<text text-anchor=\"middle\" x=\"50.5\" y=\"-371\" font-family=\"monospace\" font-size=\"10.00\">y</text>\n<text text-anchor=\"middle\" x=\"50.5\" y=\"-360\" font-family=\"monospace\" font-size=\"10.00\"> ()</text>\n</g>\n<!-- 136161754953696&#45;&gt;136161755035056 -->\n<g id=\"edge5\" class=\"edge\">\n<title>136161754953696&#45;&gt;136161755035056</title>\n<path fill=\"none\" stroke=\"black\" d=\"M50.5,-352.84C50.5,-345.21 50.5,-335.7 50.5,-327.45\"/>\n<polygon fill=\"black\" stroke=\"black\" points=\"54,-327.27 50.5,-317.27 47,-327.27 54,-327.27\"/>\n</g>\n<!-- 136161755025552 -->\n<g id=\"node8\" class=\"node\">\n<title>136161755025552</title>\n<polygon fill=\"lightgrey\" stroke=\"black\" points=\"206,-262 117,-262 117,-243 206,-243 206,-262\"/>\n<text text-anchor=\"middle\" x=\"161.5\" y=\"-250\" font-family=\"monospace\" font-size=\"10.00\">AddBackward0</text>\n</g>\n<!-- 136161755025552&#45;&gt;136161755027664 -->\n<g id=\"edge6\" class=\"edge\">\n<title>136161755025552&#45;&gt;136161755027664</title>\n<path fill=\"none\" stroke=\"black\" d=\"M153.38,-242.79C145.02,-233.82 131.78,-219.62 121.5,-208.59\"/>\n<polygon fill=\"black\" stroke=\"black\" points=\"124.03,-206.17 114.65,-201.24 118.91,-210.94 124.03,-206.17\"/>\n</g>\n<!-- 136161755026080 -->\n<g id=\"node9\" class=\"node\">\n<title>136161755026080</title>\n<polygon fill=\"lightgrey\" stroke=\"black\" points=\"208,-317 119,-317 119,-298 208,-298 208,-317\"/>\n<text text-anchor=\"middle\" x=\"163.5\" y=\"-305\" font-family=\"monospace\" font-size=\"10.00\">ExpBackward0</text>\n</g>\n<!-- 136161755026080&#45;&gt;136161755025552 -->\n<g id=\"edge7\" class=\"edge\">\n<title>136161755026080&#45;&gt;136161755025552</title>\n<path fill=\"none\" stroke=\"black\" d=\"M163.17,-297.75C162.91,-290.8 162.53,-280.85 162.2,-272.13\"/>\n<polygon fill=\"black\" stroke=\"black\" points=\"165.7,-271.95 161.82,-262.09 158.7,-272.21 165.7,-271.95\"/>\n</g>\n<!-- 136161755030640 -->\n<g id=\"node10\" class=\"node\">\n<title>136161755030640</title>\n<polygon fill=\"lightgrey\" stroke=\"black\" points=\"208,-377.5 119,-377.5 119,-358.5 208,-358.5 208,-377.5\"/>\n<text text-anchor=\"middle\" x=\"163.5\" y=\"-365.5\" font-family=\"monospace\" font-size=\"10.00\">NegBackward0</text>\n</g>\n<!-- 136161755030640&#45;&gt;136161755026080 -->\n<g id=\"edge8\" class=\"edge\">\n<title>136161755030640&#45;&gt;136161755026080</title>\n<path fill=\"none\" stroke=\"black\" d=\"M163.5,-358.37C163.5,-350.25 163.5,-337.81 163.5,-327.39\"/>\n<polygon fill=\"black\" stroke=\"black\" points=\"167,-327.17 163.5,-317.17 160,-327.17 167,-327.17\"/>\n</g>\n<!-- 136161755037552 -->\n<g id=\"node11\" class=\"node\">\n<title>136161755037552</title>\n<polygon fill=\"lightgrey\" stroke=\"black\" points=\"214,-438 113,-438 113,-419 214,-419 214,-438\"/>\n<text text-anchor=\"middle\" x=\"163.5\" y=\"-426\" font-family=\"monospace\" font-size=\"10.00\">AccumulateGrad</text>\n</g>\n<!-- 136161755037552&#45;&gt;136161755030640 -->\n<g id=\"edge9\" class=\"edge\">\n<title>136161755037552&#45;&gt;136161755030640</title>\n<path fill=\"none\" stroke=\"black\" d=\"M163.5,-418.87C163.5,-410.75 163.5,-398.31 163.5,-387.89\"/>\n<polygon fill=\"black\" stroke=\"black\" points=\"167,-387.67 163.5,-377.67 160,-387.67 167,-387.67\"/>\n</g>\n<!-- 136161883272784 -->\n<g id=\"node12\" class=\"node\">\n<title>136161883272784</title>\n<polygon fill=\"lightblue\" stroke=\"black\" points=\"190.5,-504 136.5,-504 136.5,-474 190.5,-474 190.5,-504\"/>\n<text text-anchor=\"middle\" x=\"163.5\" y=\"-492\" font-family=\"monospace\" font-size=\"10.00\">x</text>\n<text text-anchor=\"middle\" x=\"163.5\" y=\"-481\" font-family=\"monospace\" font-size=\"10.00\"> ()</text>\n</g>\n<!-- 136161883272784&#45;&gt;136161755037552 -->\n<g id=\"edge10\" class=\"edge\">\n<title>136161883272784&#45;&gt;136161755037552</title>\n<path fill=\"none\" stroke=\"black\" d=\"M163.5,-473.84C163.5,-466.21 163.5,-456.7 163.5,-448.45\"/>\n<polygon fill=\"black\" stroke=\"black\" points=\"167,-448.27 163.5,-438.27 160,-448.27 167,-448.27\"/>\n</g>\n<!-- 136161755032896 -->\n<g id=\"node13\" class=\"node\">\n<title>136161755032896</title>\n<polygon fill=\"lightgrey\" stroke=\"black\" points=\"270,-140 169,-140 169,-121 270,-121 270,-140\"/>\n<text text-anchor=\"middle\" x=\"219.5\" y=\"-128\" font-family=\"monospace\" font-size=\"10.00\">AccumulateGrad</text>\n</g>\n<!-- 136161755032896&#45;&gt;136161755027568 -->\n<g id=\"edge11\" class=\"edge\">\n<title>136161755032896&#45;&gt;136161755027568</title>\n<path fill=\"none\" stroke=\"black\" d=\"M210.34,-120.98C202,-113.23 189.47,-101.58 179.32,-92.14\"/>\n<polygon fill=\"black\" stroke=\"black\" points=\"181.53,-89.42 171.82,-85.17 176.76,-94.54 181.53,-89.42\"/>\n</g>\n<!-- 136161754953856 -->\n<g id=\"node14\" class=\"node\">\n<title>136161754953856</title>\n<polygon fill=\"lightblue\" stroke=\"black\" points=\"246.5,-207 192.5,-207 192.5,-176 246.5,-176 246.5,-207\"/>\n<text text-anchor=\"middle\" x=\"219.5\" y=\"-183\" font-family=\"monospace\" font-size=\"10.00\"> ()</text>\n</g>\n<!-- 136161754953856&#45;&gt;136161755032896 -->\n<g id=\"edge12\" class=\"edge\">\n<title>136161754953856&#45;&gt;136161755032896</title>\n<path fill=\"none\" stroke=\"black\" d=\"M219.5,-175.92C219.5,-168.22 219.5,-158.69 219.5,-150.43\"/>\n<polygon fill=\"black\" stroke=\"black\" points=\"223,-150.25 219.5,-140.25 216,-150.25 223,-150.25\"/>\n</g>\n</g>\n</svg>\n",
            "text/plain": [
              "<graphviz.graphs.Digraph at 0x7bd6a10a6dd0>"
            ]
          },
          "metadata": {},
          "execution_count": 69
        }
      ]
    },
    {
      "cell_type": "code",
      "source": [
        "f.backward()"
      ],
      "metadata": {
        "id": "wc62yRDAqGH5"
      },
      "execution_count": null,
      "outputs": []
    },
    {
      "cell_type": "code",
      "source": [
        "y.grad"
      ],
      "metadata": {
        "colab": {
          "base_uri": "https://localhost:8080/"
        },
        "id": "ojHG5Z9IqK3M",
        "outputId": "4aecbbee-af23-41a7-9ff4-5ba00e798568"
      },
      "execution_count": null,
      "outputs": [
        {
          "output_type": "execute_result",
          "data": {
            "text/plain": [
              "tensor(830561.2500)"
            ]
          },
          "metadata": {},
          "execution_count": 71
        }
      ]
    },
    {
      "cell_type": "code",
      "source": [
        "x.grad"
      ],
      "metadata": {
        "colab": {
          "base_uri": "https://localhost:8080/"
        },
        "id": "mHZgk5eZqMlH",
        "outputId": "81f0fc20-1426-427c-aa59-5cd786fd4f2e"
      },
      "execution_count": null,
      "outputs": [
        {
          "output_type": "execute_result",
          "data": {
            "text/plain": [
              "tensor(167529.2500)"
            ]
          },
          "metadata": {},
          "execution_count": 72
        }
      ]
    },
    {
      "cell_type": "markdown",
      "source": [
        "Если считать произвводную аналитически, то результат получается другим, вероятно, это связано с накоплением ошибок при округлении."
      ],
      "metadata": {
        "id": "H7einKbX_fcP"
      }
    },
    {
      "cell_type": "code",
      "source": [
        "print(\"Атрибуты х: \", x.requires_grad, x.is_leaf)\n",
        "print(\"Атрибуты у: \", y.requires_grad, y.is_leaf)\n",
        "print(\"Атрибуты z: \", z.requires_grad, z.is_leaf)\n",
        "print(\"Атрибуты f: \", f.requires_grad, f.is_leaf)"
      ],
      "metadata": {
        "colab": {
          "base_uri": "https://localhost:8080/"
        },
        "id": "q7-quakX4TVy",
        "outputId": "e2bc54e1-1288-4821-c2b1-3062db2b27a4"
      },
      "execution_count": null,
      "outputs": [
        {
          "output_type": "stream",
          "name": "stdout",
          "text": [
            "Атрибуты х:  True True\n",
            "Атрибуты у:  True True\n",
            "Атрибуты z:  True True\n",
            "Атрибуты f:  True False\n"
          ]
        }
      ]
    },
    {
      "cell_type": "markdown",
      "source": [
        "x, y, z являются листьями графа, а f - нет, он был создан в результате работы над другими тензорами"
      ],
      "metadata": {
        "id": "Fl6Npz4GiV0x"
      }
    },
    {
      "cell_type": "code",
      "source": [
        "print(\"Первая производная по  x: \", x.grad.item())\n",
        "print(\"Первая производная по  y: \", y.grad.item())\n",
        "print(\"Первая производная по  z: \", z.grad.item())"
      ],
      "metadata": {
        "colab": {
          "base_uri": "https://localhost:8080/"
        },
        "id": "QzPtD32rutfg",
        "outputId": "52cbfa67-eea9-4633-b005-5fcfe55fb929"
      },
      "execution_count": null,
      "outputs": [
        {
          "output_type": "stream",
          "name": "stdout",
          "text": [
            "Первая производная по  x:  167529.25\n",
            "Первая производная по  y:  830561.25\n",
            "Первая производная по  z:  1.0\n"
          ]
        }
      ]
    },
    {
      "cell_type": "code",
      "source": [
        "x_grad = x.grad.clone().detach().requires_grad_()\n",
        "y_grad = y.grad.clone().detach().requires_grad_()\n",
        "z_grad = z.grad.clone().detach().requires_grad_()\n",
        "\n",
        "x.grad.zero_()\n",
        "y.grad.zero_()\n",
        "z.grad.zero_()\n",
        "\n",
        "\n",
        "x_grad.backward(retain_graph=True)\n",
        "y_grad.backward(retain_graph=True)\n",
        "z_grad.backward(retain_graph=True)\n",
        "\n",
        "print(\"Вторая производная по x: \", x_grad.grad.item())\n",
        "print(\"Вторая производная по y: \", y_grad.grad.item())\n",
        "print(\"Вторая производная по x: \", z_grad.grad.item())"
      ],
      "metadata": {
        "colab": {
          "base_uri": "https://localhost:8080/"
        },
        "id": "ZN-1SBKNsvUu",
        "outputId": "40158a5c-a2e2-4bd3-9a3b-4fa8e919e369"
      },
      "execution_count": null,
      "outputs": [
        {
          "output_type": "stream",
          "name": "stdout",
          "text": [
            "Вторая производная по x:  1.0\n",
            "Вторая производная по y:  1.0\n",
            "Вторая производная по x:  1.0\n"
          ]
        }
      ]
    },
    {
      "cell_type": "markdown",
      "metadata": {
        "id": "QgHTXFWmbN12"
      },
      "source": [
        "### Задача 2.\n",
        "#### Профиль физика\n",
        "\n",
        "Скачайте [датасет](https://disk.yandex.ru/d/LighhESdTbYk6Q), описывающий распады Z-бозонов двух типов: `Zee`и `Zmumu`. Создайте и обучите нейросеть, разделяющую эти два класса.\n",
        "\n",
        "[Описание датасета](https://www.kaggle.com/datasets/omidbaghchehsaraei/identification-of-two-modes-of-z-boson?resource=download)"
      ]
    },
    {
      "cell_type": "code",
      "execution_count": null,
      "metadata": {
        "id": "vI9D4y7c5DDZ"
      },
      "outputs": [],
      "source": []
    },
    {
      "cell_type": "markdown",
      "metadata": {
        "id": "4E3mrI6BNF4r"
      },
      "source": [
        "Удалите столбцы 'Unnamed: 0\t', 'Run' и 'Event', так как это не физические величины. Удалите строки, где есть пропуски, если таковые имеются."
      ]
    },
    {
      "cell_type": "code",
      "execution_count": null,
      "metadata": {
        "id": "tzeizPZ_5EJm"
      },
      "outputs": [],
      "source": []
    },
    {
      "cell_type": "markdown",
      "metadata": {
        "id": "n_o6oH0yPiAp"
      },
      "source": [
        "Убедитесь, что классы сбалансированны."
      ]
    },
    {
      "cell_type": "code",
      "execution_count": null,
      "metadata": {
        "id": "5hlQ_2zNN8E4"
      },
      "outputs": [],
      "source": []
    },
    {
      "cell_type": "markdown",
      "metadata": {
        "id": "QzhmUYMtSWnx"
      },
      "source": [
        "Также можно как-нибудь взглянуть на признаки. Возможно, не все они вносят вклад в разделение классов. Не забудьте преобразовать таргет (столбец 'class') к формату 0 и 1. Вам может пригодиться `sklearn.preprocessing.LabelBinarizer`."
      ]
    },
    {
      "cell_type": "code",
      "execution_count": null,
      "metadata": {
        "id": "1n3nydGn95LD"
      },
      "outputs": [],
      "source": []
    },
    {
      "cell_type": "markdown",
      "metadata": {
        "id": "dVf3uScx95tj"
      },
      "source": [
        "**Далее идёт предобработка биологического датасета, которую можно удалить, если вы работаете с физическим. После этого блока (см. ниже) идёт общая часть с созданием, обучением и тестированием нейросети.**"
      ]
    },
    {
      "cell_type": "markdown",
      "metadata": {
        "id": "uehpM9ZNRRKo"
      },
      "source": [
        "#### Профиль биология\n",
        "\n",
        "Скачайте [датасет](https://disk.yandex.ru/d/FVoQGn5q1td7Vw), описывающий влияние курения и алкоголя на человека. Создайте и обучите нейросеть, разделяющую эти два класса.\n",
        "\n",
        "[Описание датасета](https://www.kaggle.com/datasets/sooyoungher/smoking-drinking-dataset)"
      ]
    },
    {
      "cell_type": "code",
      "execution_count": 5,
      "metadata": {
        "id": "P2EAzmxq8XPM",
        "colab": {
          "base_uri": "https://localhost:8080/",
          "height": 256
        },
        "outputId": "f3a0a1b5-56f8-4820-b1a7-79ae7ed83eaf"
      },
      "outputs": [
        {
          "output_type": "execute_result",
          "data": {
            "text/plain": [
              "    sex  age  height  weight  waistline  sight_left  sight_right  hear_left  \\\n",
              "0  Male   35     170      75       90.0         1.0          1.0        1.0   \n",
              "1  Male   30     180      80       89.0         0.9          1.2        1.0   \n",
              "2  Male   40     165      75       91.0         1.2          1.5        1.0   \n",
              "3  Male   50     175      80       91.0         1.5          1.2        1.0   \n",
              "4  Male   50     165      60       80.0         1.0          1.2        1.0   \n",
              "\n",
              "   hear_right    SBP  ...  LDL_chole  triglyceride  hemoglobin  urine_protein  \\\n",
              "0         1.0  120.0  ...      126.0          92.0        17.1            1.0   \n",
              "1         1.0  130.0  ...      148.0         121.0        15.8            1.0   \n",
              "2         1.0  120.0  ...       74.0         104.0        15.8            1.0   \n",
              "3         1.0  145.0  ...      104.0         106.0        17.6            1.0   \n",
              "4         1.0  138.0  ...      117.0         104.0        13.8            1.0   \n",
              "\n",
              "   serum_creatinine  SGOT_AST  SGOT_ALT  gamma_GTP  SMK_stat_type_cd  DRK_YN  \n",
              "0               1.0      21.0      35.0       40.0               1.0       Y  \n",
              "1               0.9      20.0      36.0       27.0               3.0       N  \n",
              "2               0.9      47.0      32.0       68.0               1.0       N  \n",
              "3               1.1      29.0      34.0       18.0               1.0       N  \n",
              "4               0.8      19.0      12.0       25.0               1.0       N  \n",
              "\n",
              "[5 rows x 24 columns]"
            ],
            "text/html": [
              "\n",
              "  <div id=\"df-f4e49bce-ab6d-4710-b230-e6945884bcd0\" class=\"colab-df-container\">\n",
              "    <div>\n",
              "<style scoped>\n",
              "    .dataframe tbody tr th:only-of-type {\n",
              "        vertical-align: middle;\n",
              "    }\n",
              "\n",
              "    .dataframe tbody tr th {\n",
              "        vertical-align: top;\n",
              "    }\n",
              "\n",
              "    .dataframe thead th {\n",
              "        text-align: right;\n",
              "    }\n",
              "</style>\n",
              "<table border=\"1\" class=\"dataframe\">\n",
              "  <thead>\n",
              "    <tr style=\"text-align: right;\">\n",
              "      <th></th>\n",
              "      <th>sex</th>\n",
              "      <th>age</th>\n",
              "      <th>height</th>\n",
              "      <th>weight</th>\n",
              "      <th>waistline</th>\n",
              "      <th>sight_left</th>\n",
              "      <th>sight_right</th>\n",
              "      <th>hear_left</th>\n",
              "      <th>hear_right</th>\n",
              "      <th>SBP</th>\n",
              "      <th>...</th>\n",
              "      <th>LDL_chole</th>\n",
              "      <th>triglyceride</th>\n",
              "      <th>hemoglobin</th>\n",
              "      <th>urine_protein</th>\n",
              "      <th>serum_creatinine</th>\n",
              "      <th>SGOT_AST</th>\n",
              "      <th>SGOT_ALT</th>\n",
              "      <th>gamma_GTP</th>\n",
              "      <th>SMK_stat_type_cd</th>\n",
              "      <th>DRK_YN</th>\n",
              "    </tr>\n",
              "  </thead>\n",
              "  <tbody>\n",
              "    <tr>\n",
              "      <th>0</th>\n",
              "      <td>Male</td>\n",
              "      <td>35</td>\n",
              "      <td>170</td>\n",
              "      <td>75</td>\n",
              "      <td>90.0</td>\n",
              "      <td>1.0</td>\n",
              "      <td>1.0</td>\n",
              "      <td>1.0</td>\n",
              "      <td>1.0</td>\n",
              "      <td>120.0</td>\n",
              "      <td>...</td>\n",
              "      <td>126.0</td>\n",
              "      <td>92.0</td>\n",
              "      <td>17.1</td>\n",
              "      <td>1.0</td>\n",
              "      <td>1.0</td>\n",
              "      <td>21.0</td>\n",
              "      <td>35.0</td>\n",
              "      <td>40.0</td>\n",
              "      <td>1.0</td>\n",
              "      <td>Y</td>\n",
              "    </tr>\n",
              "    <tr>\n",
              "      <th>1</th>\n",
              "      <td>Male</td>\n",
              "      <td>30</td>\n",
              "      <td>180</td>\n",
              "      <td>80</td>\n",
              "      <td>89.0</td>\n",
              "      <td>0.9</td>\n",
              "      <td>1.2</td>\n",
              "      <td>1.0</td>\n",
              "      <td>1.0</td>\n",
              "      <td>130.0</td>\n",
              "      <td>...</td>\n",
              "      <td>148.0</td>\n",
              "      <td>121.0</td>\n",
              "      <td>15.8</td>\n",
              "      <td>1.0</td>\n",
              "      <td>0.9</td>\n",
              "      <td>20.0</td>\n",
              "      <td>36.0</td>\n",
              "      <td>27.0</td>\n",
              "      <td>3.0</td>\n",
              "      <td>N</td>\n",
              "    </tr>\n",
              "    <tr>\n",
              "      <th>2</th>\n",
              "      <td>Male</td>\n",
              "      <td>40</td>\n",
              "      <td>165</td>\n",
              "      <td>75</td>\n",
              "      <td>91.0</td>\n",
              "      <td>1.2</td>\n",
              "      <td>1.5</td>\n",
              "      <td>1.0</td>\n",
              "      <td>1.0</td>\n",
              "      <td>120.0</td>\n",
              "      <td>...</td>\n",
              "      <td>74.0</td>\n",
              "      <td>104.0</td>\n",
              "      <td>15.8</td>\n",
              "      <td>1.0</td>\n",
              "      <td>0.9</td>\n",
              "      <td>47.0</td>\n",
              "      <td>32.0</td>\n",
              "      <td>68.0</td>\n",
              "      <td>1.0</td>\n",
              "      <td>N</td>\n",
              "    </tr>\n",
              "    <tr>\n",
              "      <th>3</th>\n",
              "      <td>Male</td>\n",
              "      <td>50</td>\n",
              "      <td>175</td>\n",
              "      <td>80</td>\n",
              "      <td>91.0</td>\n",
              "      <td>1.5</td>\n",
              "      <td>1.2</td>\n",
              "      <td>1.0</td>\n",
              "      <td>1.0</td>\n",
              "      <td>145.0</td>\n",
              "      <td>...</td>\n",
              "      <td>104.0</td>\n",
              "      <td>106.0</td>\n",
              "      <td>17.6</td>\n",
              "      <td>1.0</td>\n",
              "      <td>1.1</td>\n",
              "      <td>29.0</td>\n",
              "      <td>34.0</td>\n",
              "      <td>18.0</td>\n",
              "      <td>1.0</td>\n",
              "      <td>N</td>\n",
              "    </tr>\n",
              "    <tr>\n",
              "      <th>4</th>\n",
              "      <td>Male</td>\n",
              "      <td>50</td>\n",
              "      <td>165</td>\n",
              "      <td>60</td>\n",
              "      <td>80.0</td>\n",
              "      <td>1.0</td>\n",
              "      <td>1.2</td>\n",
              "      <td>1.0</td>\n",
              "      <td>1.0</td>\n",
              "      <td>138.0</td>\n",
              "      <td>...</td>\n",
              "      <td>117.0</td>\n",
              "      <td>104.0</td>\n",
              "      <td>13.8</td>\n",
              "      <td>1.0</td>\n",
              "      <td>0.8</td>\n",
              "      <td>19.0</td>\n",
              "      <td>12.0</td>\n",
              "      <td>25.0</td>\n",
              "      <td>1.0</td>\n",
              "      <td>N</td>\n",
              "    </tr>\n",
              "  </tbody>\n",
              "</table>\n",
              "<p>5 rows × 24 columns</p>\n",
              "</div>\n",
              "    <div class=\"colab-df-buttons\">\n",
              "\n",
              "  <div class=\"colab-df-container\">\n",
              "    <button class=\"colab-df-convert\" onclick=\"convertToInteractive('df-f4e49bce-ab6d-4710-b230-e6945884bcd0')\"\n",
              "            title=\"Convert this dataframe to an interactive table.\"\n",
              "            style=\"display:none;\">\n",
              "\n",
              "  <svg xmlns=\"http://www.w3.org/2000/svg\" height=\"24px\" viewBox=\"0 -960 960 960\">\n",
              "    <path d=\"M120-120v-720h720v720H120Zm60-500h600v-160H180v160Zm220 220h160v-160H400v160Zm0 220h160v-160H400v160ZM180-400h160v-160H180v160Zm440 0h160v-160H620v160ZM180-180h160v-160H180v160Zm440 0h160v-160H620v160Z\"/>\n",
              "  </svg>\n",
              "    </button>\n",
              "\n",
              "  <style>\n",
              "    .colab-df-container {\n",
              "      display:flex;\n",
              "      gap: 12px;\n",
              "    }\n",
              "\n",
              "    .colab-df-convert {\n",
              "      background-color: #E8F0FE;\n",
              "      border: none;\n",
              "      border-radius: 50%;\n",
              "      cursor: pointer;\n",
              "      display: none;\n",
              "      fill: #1967D2;\n",
              "      height: 32px;\n",
              "      padding: 0 0 0 0;\n",
              "      width: 32px;\n",
              "    }\n",
              "\n",
              "    .colab-df-convert:hover {\n",
              "      background-color: #E2EBFA;\n",
              "      box-shadow: 0px 1px 2px rgba(60, 64, 67, 0.3), 0px 1px 3px 1px rgba(60, 64, 67, 0.15);\n",
              "      fill: #174EA6;\n",
              "    }\n",
              "\n",
              "    .colab-df-buttons div {\n",
              "      margin-bottom: 4px;\n",
              "    }\n",
              "\n",
              "    [theme=dark] .colab-df-convert {\n",
              "      background-color: #3B4455;\n",
              "      fill: #D2E3FC;\n",
              "    }\n",
              "\n",
              "    [theme=dark] .colab-df-convert:hover {\n",
              "      background-color: #434B5C;\n",
              "      box-shadow: 0px 1px 3px 1px rgba(0, 0, 0, 0.15);\n",
              "      filter: drop-shadow(0px 1px 2px rgba(0, 0, 0, 0.3));\n",
              "      fill: #FFFFFF;\n",
              "    }\n",
              "  </style>\n",
              "\n",
              "    <script>\n",
              "      const buttonEl =\n",
              "        document.querySelector('#df-f4e49bce-ab6d-4710-b230-e6945884bcd0 button.colab-df-convert');\n",
              "      buttonEl.style.display =\n",
              "        google.colab.kernel.accessAllowed ? 'block' : 'none';\n",
              "\n",
              "      async function convertToInteractive(key) {\n",
              "        const element = document.querySelector('#df-f4e49bce-ab6d-4710-b230-e6945884bcd0');\n",
              "        const dataTable =\n",
              "          await google.colab.kernel.invokeFunction('convertToInteractive',\n",
              "                                                    [key], {});\n",
              "        if (!dataTable) return;\n",
              "\n",
              "        const docLinkHtml = 'Like what you see? Visit the ' +\n",
              "          '<a target=\"_blank\" href=https://colab.research.google.com/notebooks/data_table.ipynb>data table notebook</a>'\n",
              "          + ' to learn more about interactive tables.';\n",
              "        element.innerHTML = '';\n",
              "        dataTable['output_type'] = 'display_data';\n",
              "        await google.colab.output.renderOutput(dataTable, element);\n",
              "        const docLink = document.createElement('div');\n",
              "        docLink.innerHTML = docLinkHtml;\n",
              "        element.appendChild(docLink);\n",
              "      }\n",
              "    </script>\n",
              "  </div>\n",
              "\n",
              "\n",
              "<div id=\"df-d0ee7bc8-dc9c-4d85-90b7-07bbc22913bf\">\n",
              "  <button class=\"colab-df-quickchart\" onclick=\"quickchart('df-d0ee7bc8-dc9c-4d85-90b7-07bbc22913bf')\"\n",
              "            title=\"Suggest charts\"\n",
              "            style=\"display:none;\">\n",
              "\n",
              "<svg xmlns=\"http://www.w3.org/2000/svg\" height=\"24px\"viewBox=\"0 0 24 24\"\n",
              "     width=\"24px\">\n",
              "    <g>\n",
              "        <path d=\"M19 3H5c-1.1 0-2 .9-2 2v14c0 1.1.9 2 2 2h14c1.1 0 2-.9 2-2V5c0-1.1-.9-2-2-2zM9 17H7v-7h2v7zm4 0h-2V7h2v10zm4 0h-2v-4h2v4z\"/>\n",
              "    </g>\n",
              "</svg>\n",
              "  </button>\n",
              "\n",
              "<style>\n",
              "  .colab-df-quickchart {\n",
              "      --bg-color: #E8F0FE;\n",
              "      --fill-color: #1967D2;\n",
              "      --hover-bg-color: #E2EBFA;\n",
              "      --hover-fill-color: #174EA6;\n",
              "      --disabled-fill-color: #AAA;\n",
              "      --disabled-bg-color: #DDD;\n",
              "  }\n",
              "\n",
              "  [theme=dark] .colab-df-quickchart {\n",
              "      --bg-color: #3B4455;\n",
              "      --fill-color: #D2E3FC;\n",
              "      --hover-bg-color: #434B5C;\n",
              "      --hover-fill-color: #FFFFFF;\n",
              "      --disabled-bg-color: #3B4455;\n",
              "      --disabled-fill-color: #666;\n",
              "  }\n",
              "\n",
              "  .colab-df-quickchart {\n",
              "    background-color: var(--bg-color);\n",
              "    border: none;\n",
              "    border-radius: 50%;\n",
              "    cursor: pointer;\n",
              "    display: none;\n",
              "    fill: var(--fill-color);\n",
              "    height: 32px;\n",
              "    padding: 0;\n",
              "    width: 32px;\n",
              "  }\n",
              "\n",
              "  .colab-df-quickchart:hover {\n",
              "    background-color: var(--hover-bg-color);\n",
              "    box-shadow: 0 1px 2px rgba(60, 64, 67, 0.3), 0 1px 3px 1px rgba(60, 64, 67, 0.15);\n",
              "    fill: var(--button-hover-fill-color);\n",
              "  }\n",
              "\n",
              "  .colab-df-quickchart-complete:disabled,\n",
              "  .colab-df-quickchart-complete:disabled:hover {\n",
              "    background-color: var(--disabled-bg-color);\n",
              "    fill: var(--disabled-fill-color);\n",
              "    box-shadow: none;\n",
              "  }\n",
              "\n",
              "  .colab-df-spinner {\n",
              "    border: 2px solid var(--fill-color);\n",
              "    border-color: transparent;\n",
              "    border-bottom-color: var(--fill-color);\n",
              "    animation:\n",
              "      spin 1s steps(1) infinite;\n",
              "  }\n",
              "\n",
              "  @keyframes spin {\n",
              "    0% {\n",
              "      border-color: transparent;\n",
              "      border-bottom-color: var(--fill-color);\n",
              "      border-left-color: var(--fill-color);\n",
              "    }\n",
              "    20% {\n",
              "      border-color: transparent;\n",
              "      border-left-color: var(--fill-color);\n",
              "      border-top-color: var(--fill-color);\n",
              "    }\n",
              "    30% {\n",
              "      border-color: transparent;\n",
              "      border-left-color: var(--fill-color);\n",
              "      border-top-color: var(--fill-color);\n",
              "      border-right-color: var(--fill-color);\n",
              "    }\n",
              "    40% {\n",
              "      border-color: transparent;\n",
              "      border-right-color: var(--fill-color);\n",
              "      border-top-color: var(--fill-color);\n",
              "    }\n",
              "    60% {\n",
              "      border-color: transparent;\n",
              "      border-right-color: var(--fill-color);\n",
              "    }\n",
              "    80% {\n",
              "      border-color: transparent;\n",
              "      border-right-color: var(--fill-color);\n",
              "      border-bottom-color: var(--fill-color);\n",
              "    }\n",
              "    90% {\n",
              "      border-color: transparent;\n",
              "      border-bottom-color: var(--fill-color);\n",
              "    }\n",
              "  }\n",
              "</style>\n",
              "\n",
              "  <script>\n",
              "    async function quickchart(key) {\n",
              "      const quickchartButtonEl =\n",
              "        document.querySelector('#' + key + ' button');\n",
              "      quickchartButtonEl.disabled = true;  // To prevent multiple clicks.\n",
              "      quickchartButtonEl.classList.add('colab-df-spinner');\n",
              "      try {\n",
              "        const charts = await google.colab.kernel.invokeFunction(\n",
              "            'suggestCharts', [key], {});\n",
              "      } catch (error) {\n",
              "        console.error('Error during call to suggestCharts:', error);\n",
              "      }\n",
              "      quickchartButtonEl.classList.remove('colab-df-spinner');\n",
              "      quickchartButtonEl.classList.add('colab-df-quickchart-complete');\n",
              "    }\n",
              "    (() => {\n",
              "      let quickchartButtonEl =\n",
              "        document.querySelector('#df-d0ee7bc8-dc9c-4d85-90b7-07bbc22913bf button');\n",
              "      quickchartButtonEl.style.display =\n",
              "        google.colab.kernel.accessAllowed ? 'block' : 'none';\n",
              "    })();\n",
              "  </script>\n",
              "</div>\n",
              "    </div>\n",
              "  </div>\n"
            ],
            "application/vnd.google.colaboratory.intrinsic+json": {
              "type": "dataframe",
              "variable_name": "df"
            }
          },
          "metadata": {},
          "execution_count": 5
        }
      ],
      "source": [
        "df = pd.read_csv('/content/smoking_driking_dataset_Ver01.csv')\n",
        "df.head()"
      ]
    },
    {
      "cell_type": "code",
      "source": [
        "data = df.iloc[:, :-2]\n",
        "target_smoking = df [\"SMK_stat_type_cd\"]\n",
        "target_drinking = df [\"DRK_YN\"]"
      ],
      "metadata": {
        "id": "VUhmmWa71MXW"
      },
      "execution_count": 6,
      "outputs": []
    },
    {
      "cell_type": "markdown",
      "metadata": {
        "id": "3qHvZ5Ouuspf"
      },
      "source": [
        "Проанализируйте датасет, разделяя его по:\n",
        "* курит &mdash; 3\n",
        "* курил, но бросил &mdash; 2\n",
        "* никогда не курил &mdash; 1"
      ]
    },
    {
      "cell_type": "code",
      "execution_count": 7,
      "metadata": {
        "id": "hVEQpUT19Lmb",
        "colab": {
          "base_uri": "https://localhost:8080/",
          "height": 611
        },
        "outputId": "3997ca2c-71e6-474a-be22-4a6aa6031f6c"
      },
      "outputs": [
        {
          "output_type": "stream",
          "name": "stdout",
          "text": [
            "SMK_stat_type_cd\n",
            "1.0    602441\n",
            "3.0    213954\n",
            "2.0    174951\n",
            "Name: count, dtype: int64\n"
          ]
        },
        {
          "output_type": "display_data",
          "data": {
            "text/plain": [
              "<Figure size 1000x600 with 1 Axes>"
            ],
            "image/png": "[encoded data removed]"
          },
          "metadata": {}
        }
      ],
      "source": [
        "print(df[\"SMK_stat_type_cd\"].value_counts())\n",
        "plt.figure(figsize=(10, 6))\n",
        "plt.hist(df[\"SMK_stat_type_cd\"], bins=[1, 2, 3, 4], edgecolor='black', alpha=0.7)\n",
        "plt.xticks([1.5, 2.5, 3.5], ['Никогда не курил', 'Курил, но бросил ', 'Курит'])\n",
        "plt.ylabel('Количество людей')\n",
        "plt.show()"
      ]
    },
    {
      "cell_type": "markdown",
      "metadata": {
        "id": "9f4jgeTtk59Q"
      },
      "source": [
        "Попробуем классифицировать людей с плохими привычками и без них. Для этого создайте дополнительный столбец в таблице, который будет содержать информацию о том, имеет ли человек вредные привычки или нет."
      ]
    },
    {
      "cell_type": "code",
      "execution_count": 8,
      "metadata": {
        "id": "dhV6WxMG9ZB7",
        "colab": {
          "base_uri": "https://localhost:8080/",
          "height": 256
        },
        "outputId": "06f992bf-0e0c-4e61-cd6a-e7d223b77e21"
      },
      "outputs": [
        {
          "output_type": "execute_result",
          "data": {
            "text/plain": [
              "   sex  age  height  weight  waistline  sight_left  sight_right  hear_left  \\\n",
              "0    2   35     170      75       90.0         1.0          1.0        1.0   \n",
              "1    2   30     180      80       89.0         0.9          1.2        1.0   \n",
              "2    2   40     165      75       91.0         1.2          1.5        1.0   \n",
              "3    2   50     175      80       91.0         1.5          1.2        1.0   \n",
              "4    2   50     165      60       80.0         1.0          1.2        1.0   \n",
              "\n",
              "   hear_right    SBP  ...  triglyceride  hemoglobin  urine_protein  \\\n",
              "0         1.0  120.0  ...          92.0        17.1            1.0   \n",
              "1         1.0  130.0  ...         121.0        15.8            1.0   \n",
              "2         1.0  120.0  ...         104.0        15.8            1.0   \n",
              "3         1.0  145.0  ...         106.0        17.6            1.0   \n",
              "4         1.0  138.0  ...         104.0        13.8            1.0   \n",
              "\n",
              "   serum_creatinine  SGOT_AST  SGOT_ALT  gamma_GTP  SMK_stat_type_cd  DRK_YN  \\\n",
              "0               1.0      21.0      35.0       40.0               1.0       2   \n",
              "1               0.9      20.0      36.0       27.0               3.0       1   \n",
              "2               0.9      47.0      32.0       68.0               1.0       1   \n",
              "3               1.1      29.0      34.0       18.0               1.0       1   \n",
              "4               0.8      19.0      12.0       25.0               1.0       1   \n",
              "\n",
              "   has_bad_habits  \n",
              "0               1  \n",
              "1               1  \n",
              "2               0  \n",
              "3               0  \n",
              "4               0  \n",
              "\n",
              "[5 rows x 25 columns]"
            ],
            "text/html": [
              "\n",
              "  <div id=\"df-a6a53169-36ab-409a-9e88-a28a8185dbc4\" class=\"colab-df-container\">\n",
              "    <div>\n",
              "<style scoped>\n",
              "    .dataframe tbody tr th:only-of-type {\n",
              "        vertical-align: middle;\n",
              "    }\n",
              "\n",
              "    .dataframe tbody tr th {\n",
              "        vertical-align: top;\n",
              "    }\n",
              "\n",
              "    .dataframe thead th {\n",
              "        text-align: right;\n",
              "    }\n",
              "</style>\n",
              "<table border=\"1\" class=\"dataframe\">\n",
              "  <thead>\n",
              "    <tr style=\"text-align: right;\">\n",
              "      <th></th>\n",
              "      <th>sex</th>\n",
              "      <th>age</th>\n",
              "      <th>height</th>\n",
              "      <th>weight</th>\n",
              "      <th>waistline</th>\n",
              "      <th>sight_left</th>\n",
              "      <th>sight_right</th>\n",
              "      <th>hear_left</th>\n",
              "      <th>hear_right</th>\n",
              "      <th>SBP</th>\n",
              "      <th>...</th>\n",
              "      <th>triglyceride</th>\n",
              "      <th>hemoglobin</th>\n",
              "      <th>urine_protein</th>\n",
              "      <th>serum_creatinine</th>\n",
              "      <th>SGOT_AST</th>\n",
              "      <th>SGOT_ALT</th>\n",
              "      <th>gamma_GTP</th>\n",
              "      <th>SMK_stat_type_cd</th>\n",
              "      <th>DRK_YN</th>\n",
              "      <th>has_bad_habits</th>\n",
              "    </tr>\n",
              "  </thead>\n",
              "  <tbody>\n",
              "    <tr>\n",
              "      <th>0</th>\n",
              "      <td>2</td>\n",
              "      <td>35</td>\n",
              "      <td>170</td>\n",
              "      <td>75</td>\n",
              "      <td>90.0</td>\n",
              "      <td>1.0</td>\n",
              "      <td>1.0</td>\n",
              "      <td>1.0</td>\n",
              "      <td>1.0</td>\n",
              "      <td>120.0</td>\n",
              "      <td>...</td>\n",
              "      <td>92.0</td>\n",
              "      <td>17.1</td>\n",
              "      <td>1.0</td>\n",
              "      <td>1.0</td>\n",
              "      <td>21.0</td>\n",
              "      <td>35.0</td>\n",
              "      <td>40.0</td>\n",
              "      <td>1.0</td>\n",
              "      <td>2</td>\n",
              "      <td>1</td>\n",
              "    </tr>\n",
              "    <tr>\n",
              "      <th>1</th>\n",
              "      <td>2</td>\n",
              "      <td>30</td>\n",
              "      <td>180</td>\n",
              "      <td>80</td>\n",
              "      <td>89.0</td>\n",
              "      <td>0.9</td>\n",
              "      <td>1.2</td>\n",
              "      <td>1.0</td>\n",
              "      <td>1.0</td>\n",
              "      <td>130.0</td>\n",
              "      <td>...</td>\n",
              "      <td>121.0</td>\n",
              "      <td>15.8</td>\n",
              "      <td>1.0</td>\n",
              "      <td>0.9</td>\n",
              "      <td>20.0</td>\n",
              "      <td>36.0</td>\n",
              "      <td>27.0</td>\n",
              "      <td>3.0</td>\n",
              "      <td>1</td>\n",
              "      <td>1</td>\n",
              "    </tr>\n",
              "    <tr>\n",
              "      <th>2</th>\n",
              "      <td>2</td>\n",
              "      <td>40</td>\n",
              "      <td>165</td>\n",
              "      <td>75</td>\n",
              "      <td>91.0</td>\n",
              "      <td>1.2</td>\n",
              "      <td>1.5</td>\n",
              "      <td>1.0</td>\n",
              "      <td>1.0</td>\n",
              "      <td>120.0</td>\n",
              "      <td>...</td>\n",
              "      <td>104.0</td>\n",
              "      <td>15.8</td>\n",
              "      <td>1.0</td>\n",
              "      <td>0.9</td>\n",
              "      <td>47.0</td>\n",
              "      <td>32.0</td>\n",
              "      <td>68.0</td>\n",
              "      <td>1.0</td>\n",
              "      <td>1</td>\n",
              "      <td>0</td>\n",
              "    </tr>\n",
              "    <tr>\n",
              "      <th>3</th>\n",
              "      <td>2</td>\n",
              "      <td>50</td>\n",
              "      <td>175</td>\n",
              "      <td>80</td>\n",
              "      <td>91.0</td>\n",
              "      <td>1.5</td>\n",
              "      <td>1.2</td>\n",
              "      <td>1.0</td>\n",
              "      <td>1.0</td>\n",
              "      <td>145.0</td>\n",
              "      <td>...</td>\n",
              "      <td>106.0</td>\n",
              "      <td>17.6</td>\n",
              "      <td>1.0</td>\n",
              "      <td>1.1</td>\n",
              "      <td>29.0</td>\n",
              "      <td>34.0</td>\n",
              "      <td>18.0</td>\n",
              "      <td>1.0</td>\n",
              "      <td>1</td>\n",
              "      <td>0</td>\n",
              "    </tr>\n",
              "    <tr>\n",
              "      <th>4</th>\n",
              "      <td>2</td>\n",
              "      <td>50</td>\n",
              "      <td>165</td>\n",
              "      <td>60</td>\n",
              "      <td>80.0</td>\n",
              "      <td>1.0</td>\n",
              "      <td>1.2</td>\n",
              "      <td>1.0</td>\n",
              "      <td>1.0</td>\n",
              "      <td>138.0</td>\n",
              "      <td>...</td>\n",
              "      <td>104.0</td>\n",
              "      <td>13.8</td>\n",
              "      <td>1.0</td>\n",
              "      <td>0.8</td>\n",
              "      <td>19.0</td>\n",
              "      <td>12.0</td>\n",
              "      <td>25.0</td>\n",
              "      <td>1.0</td>\n",
              "      <td>1</td>\n",
              "      <td>0</td>\n",
              "    </tr>\n",
              "  </tbody>\n",
              "</table>\n",
              "<p>5 rows × 25 columns</p>\n",
              "</div>\n",
              "    <div class=\"colab-df-buttons\">\n",
              "\n",
              "  <div class=\"colab-df-container\">\n",
              "    <button class=\"colab-df-convert\" onclick=\"convertToInteractive('df-a6a53169-36ab-409a-9e88-a28a8185dbc4')\"\n",
              "            title=\"Convert this dataframe to an interactive table.\"\n",
              "            style=\"display:none;\">\n",
              "\n",
              "  <svg xmlns=\"http://www.w3.org/2000/svg\" height=\"24px\" viewBox=\"0 -960 960 960\">\n",
              "    <path d=\"M120-120v-720h720v720H120Zm60-500h600v-160H180v160Zm220 220h160v-160H400v160Zm0 220h160v-160H400v160ZM180-400h160v-160H180v160Zm440 0h160v-160H620v160ZM180-180h160v-160H180v160Zm440 0h160v-160H620v160Z\"/>\n",
              "  </svg>\n",
              "    </button>\n",
              "\n",
              "  <style>\n",
              "    .colab-df-container {\n",
              "      display:flex;\n",
              "      gap: 12px;\n",
              "    }\n",
              "\n",
              "    .colab-df-convert {\n",
              "      background-color: #E8F0FE;\n",
              "      border: none;\n",
              "      border-radius: 50%;\n",
              "      cursor: pointer;\n",
              "      display: none;\n",
              "      fill: #1967D2;\n",
              "      height: 32px;\n",
              "      padding: 0 0 0 0;\n",
              "      width: 32px;\n",
              "    }\n",
              "\n",
              "    .colab-df-convert:hover {\n",
              "      background-color: #E2EBFA;\n",
              "      box-shadow: 0px 1px 2px rgba(60, 64, 67, 0.3), 0px 1px 3px 1px rgba(60, 64, 67, 0.15);\n",
              "      fill: #174EA6;\n",
              "    }\n",
              "\n",
              "    .colab-df-buttons div {\n",
              "      margin-bottom: 4px;\n",
              "    }\n",
              "\n",
              "    [theme=dark] .colab-df-convert {\n",
              "      background-color: #3B4455;\n",
              "      fill: #D2E3FC;\n",
              "    }\n",
              "\n",
              "    [theme=dark] .colab-df-convert:hover {\n",
              "      background-color: #434B5C;\n",
              "      box-shadow: 0px 1px 3px 1px rgba(0, 0, 0, 0.15);\n",
              "      filter: drop-shadow(0px 1px 2px rgba(0, 0, 0, 0.3));\n",
              "      fill: #FFFFFF;\n",
              "    }\n",
              "  </style>\n",
              "\n",
              "    <script>\n",
              "      const buttonEl =\n",
              "        document.querySelector('#df-a6a53169-36ab-409a-9e88-a28a8185dbc4 button.colab-df-convert');\n",
              "      buttonEl.style.display =\n",
              "        google.colab.kernel.accessAllowed ? 'block' : 'none';\n",
              "\n",
              "      async function convertToInteractive(key) {\n",
              "        const element = document.querySelector('#df-a6a53169-36ab-409a-9e88-a28a8185dbc4');\n",
              "        const dataTable =\n",
              "          await google.colab.kernel.invokeFunction('convertToInteractive',\n",
              "                                                    [key], {});\n",
              "        if (!dataTable) return;\n",
              "\n",
              "        const docLinkHtml = 'Like what you see? Visit the ' +\n",
              "          '<a target=\"_blank\" href=https://colab.research.google.com/notebooks/data_table.ipynb>data table notebook</a>'\n",
              "          + ' to learn more about interactive tables.';\n",
              "        element.innerHTML = '';\n",
              "        dataTable['output_type'] = 'display_data';\n",
              "        await google.colab.output.renderOutput(dataTable, element);\n",
              "        const docLink = document.createElement('div');\n",
              "        docLink.innerHTML = docLinkHtml;\n",
              "        element.appendChild(docLink);\n",
              "      }\n",
              "    </script>\n",
              "  </div>\n",
              "\n",
              "\n",
              "<div id=\"df-19b68d2b-4356-48dd-b271-6ea6429bf8a6\">\n",
              "  <button class=\"colab-df-quickchart\" onclick=\"quickchart('df-19b68d2b-4356-48dd-b271-6ea6429bf8a6')\"\n",
              "            title=\"Suggest charts\"\n",
              "            style=\"display:none;\">\n",
              "\n",
              "<svg xmlns=\"http://www.w3.org/2000/svg\" height=\"24px\"viewBox=\"0 0 24 24\"\n",
              "     width=\"24px\">\n",
              "    <g>\n",
              "        <path d=\"M19 3H5c-1.1 0-2 .9-2 2v14c0 1.1.9 2 2 2h14c1.1 0 2-.9 2-2V5c0-1.1-.9-2-2-2zM9 17H7v-7h2v7zm4 0h-2V7h2v10zm4 0h-2v-4h2v4z\"/>\n",
              "    </g>\n",
              "</svg>\n",
              "  </button>\n",
              "\n",
              "<style>\n",
              "  .colab-df-quickchart {\n",
              "      --bg-color: #E8F0FE;\n",
              "      --fill-color: #1967D2;\n",
              "      --hover-bg-color: #E2EBFA;\n",
              "      --hover-fill-color: #174EA6;\n",
              "      --disabled-fill-color: #AAA;\n",
              "      --disabled-bg-color: #DDD;\n",
              "  }\n",
              "\n",
              "  [theme=dark] .colab-df-quickchart {\n",
              "      --bg-color: #3B4455;\n",
              "      --fill-color: #D2E3FC;\n",
              "      --hover-bg-color: #434B5C;\n",
              "      --hover-fill-color: #FFFFFF;\n",
              "      --disabled-bg-color: #3B4455;\n",
              "      --disabled-fill-color: #666;\n",
              "  }\n",
              "\n",
              "  .colab-df-quickchart {\n",
              "    background-color: var(--bg-color);\n",
              "    border: none;\n",
              "    border-radius: 50%;\n",
              "    cursor: pointer;\n",
              "    display: none;\n",
              "    fill: var(--fill-color);\n",
              "    height: 32px;\n",
              "    padding: 0;\n",
              "    width: 32px;\n",
              "  }\n",
              "\n",
              "  .colab-df-quickchart:hover {\n",
              "    background-color: var(--hover-bg-color);\n",
              "    box-shadow: 0 1px 2px rgba(60, 64, 67, 0.3), 0 1px 3px 1px rgba(60, 64, 67, 0.15);\n",
              "    fill: var(--button-hover-fill-color);\n",
              "  }\n",
              "\n",
              "  .colab-df-quickchart-complete:disabled,\n",
              "  .colab-df-quickchart-complete:disabled:hover {\n",
              "    background-color: var(--disabled-bg-color);\n",
              "    fill: var(--disabled-fill-color);\n",
              "    box-shadow: none;\n",
              "  }\n",
              "\n",
              "  .colab-df-spinner {\n",
              "    border: 2px solid var(--fill-color);\n",
              "    border-color: transparent;\n",
              "    border-bottom-color: var(--fill-color);\n",
              "    animation:\n",
              "      spin 1s steps(1) infinite;\n",
              "  }\n",
              "\n",
              "  @keyframes spin {\n",
              "    0% {\n",
              "      border-color: transparent;\n",
              "      border-bottom-color: var(--fill-color);\n",
              "      border-left-color: var(--fill-color);\n",
              "    }\n",
              "    20% {\n",
              "      border-color: transparent;\n",
              "      border-left-color: var(--fill-color);\n",
              "      border-top-color: var(--fill-color);\n",
              "    }\n",
              "    30% {\n",
              "      border-color: transparent;\n",
              "      border-left-color: var(--fill-color);\n",
              "      border-top-color: var(--fill-color);\n",
              "      border-right-color: var(--fill-color);\n",
              "    }\n",
              "    40% {\n",
              "      border-color: transparent;\n",
              "      border-right-color: var(--fill-color);\n",
              "      border-top-color: var(--fill-color);\n",
              "    }\n",
              "    60% {\n",
              "      border-color: transparent;\n",
              "      border-right-color: var(--fill-color);\n",
              "    }\n",
              "    80% {\n",
              "      border-color: transparent;\n",
              "      border-right-color: var(--fill-color);\n",
              "      border-bottom-color: var(--fill-color);\n",
              "    }\n",
              "    90% {\n",
              "      border-color: transparent;\n",
              "      border-bottom-color: var(--fill-color);\n",
              "    }\n",
              "  }\n",
              "</style>\n",
              "\n",
              "  <script>\n",
              "    async function quickchart(key) {\n",
              "      const quickchartButtonEl =\n",
              "        document.querySelector('#' + key + ' button');\n",
              "      quickchartButtonEl.disabled = true;  // To prevent multiple clicks.\n",
              "      quickchartButtonEl.classList.add('colab-df-spinner');\n",
              "      try {\n",
              "        const charts = await google.colab.kernel.invokeFunction(\n",
              "            'suggestCharts', [key], {});\n",
              "      } catch (error) {\n",
              "        console.error('Error during call to suggestCharts:', error);\n",
              "      }\n",
              "      quickchartButtonEl.classList.remove('colab-df-spinner');\n",
              "      quickchartButtonEl.classList.add('colab-df-quickchart-complete');\n",
              "    }\n",
              "    (() => {\n",
              "      let quickchartButtonEl =\n",
              "        document.querySelector('#df-19b68d2b-4356-48dd-b271-6ea6429bf8a6 button');\n",
              "      quickchartButtonEl.style.display =\n",
              "        google.colab.kernel.accessAllowed ? 'block' : 'none';\n",
              "    })();\n",
              "  </script>\n",
              "</div>\n",
              "    </div>\n",
              "  </div>\n"
            ],
            "application/vnd.google.colaboratory.intrinsic+json": {
              "type": "dataframe",
              "variable_name": "df"
            }
          },
          "metadata": {},
          "execution_count": 8
        }
      ],
      "source": [
        "df[\"DRK_YN\"] = target_drinking.apply(lambda x: 1 if x == 'N' else 2)\n",
        "df[\"sex\"] = target_drinking.apply(lambda x: 1 if x == 'Male' else 2)\n",
        "df['has_bad_habits'] = df.apply(lambda row: 1 if row[\"SMK_stat_type_cd\"] > 2 or row[\"DRK_YN\"] > 1 else 0, axis=1)\n",
        "\n",
        "df.head()"
      ]
    },
    {
      "cell_type": "markdown",
      "metadata": {
        "id": "G9-eDwLSnPbd"
      },
      "source": [
        "Теперь смотрим на разделение по привычкам"
      ]
    },
    {
      "cell_type": "code",
      "execution_count": 9,
      "metadata": {
        "id": "JeBMMW8H9dkD",
        "colab": {
          "base_uri": "https://localhost:8080/",
          "height": 542
        },
        "outputId": "a1595007-a317-4bab-b793-9369e485671c"
      },
      "outputs": [
        {
          "output_type": "display_data",
          "data": {
            "text/plain": [
              "<Figure size 1000x600 with 1 Axes>"
            ],
            "image/png": "[encoded data removed]"
          },
          "metadata": {}
        }
      ],
      "source": [
        "df['habit_category'] = df.apply(lambda row: 'Пьют и курят' if row[\"SMK_stat_type_cd\"] > 1 and row[\"DRK_YN\"] > 1 else ('Курят' if row[\"SMK_stat_type_cd\"] > 1 else ('Пьют' if row[\"DRK_YN\"] > 1 else 'Нет вредных привычек')), axis=1)\n",
        "plt.figure(figsize=(10, 6))\n",
        "df['habit_category'].value_counts().plot(kind='bar', color=['lightblue', 'yellow', 'lightgreen', 'pink'])\n",
        "plt.ylabel('Количество людей')\n",
        "plt.xlabel('Категория привычки')\n",
        "plt.xticks(rotation=0)\n",
        "plt.show()"
      ]
    },
    {
      "cell_type": "markdown",
      "metadata": {
        "id": "gLKIv5opel5K"
      },
      "source": [
        "Какие признаки вы бы использовали для разделения людей по классам? Выберите эти столбцы и создайте наборы train и test с помощью функции train_test_split, а также выделите набор данных для валидации при обучении."
      ]
    },
    {
      "cell_type": "code",
      "execution_count": 10,
      "metadata": {
        "id": "bcUqqdZxcwN-"
      },
      "outputs": [],
      "source": [
        "needed_columns = [\"sex\", \"age\", \"height\", \"weight\", \"waistline\", \"sight_left\", \"sight_right\", \"hear_left\", \"hear_right\"]\n",
        "y = df['has_bad_habits']\n",
        "X = df[needed_columns]\n",
        "X_train, X_test, y_train, y_test = train_test_split(X, y, test_size=0.2, random_state=42)\n",
        "X_train, X_val, y_train, y_val = train_test_split(X_train, y_train, test_size=0.25, random_state=42)\n"
      ]
    },
    {
      "cell_type": "markdown",
      "metadata": {
        "id": "xuPQOf5HAUIA"
      },
      "source": [
        "#### Общая часть"
      ]
    },
    {
      "cell_type": "code",
      "execution_count": 11,
      "metadata": {
        "id": "dPrD9dlrEKLL"
      },
      "outputs": [],
      "source": [
        "class_lim_proba = 0.5 # критерий принадлежности к тому или иному классу"
      ]
    },
    {
      "cell_type": "markdown",
      "metadata": {
        "id": "dW6vXt5FHnW3"
      },
      "source": [
        "Стандартизируйте данные"
      ]
    },
    {
      "cell_type": "code",
      "execution_count": 12,
      "metadata": {
        "id": "gS-c8qg5-jqT"
      },
      "outputs": [],
      "source": [
        "scaler = StandardScaler()\n",
        "X_train = scaler.fit_transform(X_train)\n",
        "X_test = scaler.transform(X_test)"
      ]
    },
    {
      "cell_type": "markdown",
      "metadata": {
        "id": "wQ7gceuzqa3X"
      },
      "source": [
        "Далее сформируйте датасет в pytorch-обертке"
      ]
    },
    {
      "cell_type": "code",
      "execution_count": 18,
      "metadata": {
        "id": "1LpeESL0-xDy"
      },
      "outputs": [],
      "source": [
        "X_train = torch.tensor(np.array(X_train), dtype=torch.float32)\n",
        "y_train = torch.tensor(np.array(y_train), dtype=torch.long)\n",
        "X_test = torch.tensor(np.array(X_test), dtype=torch.float32)\n",
        "y_test = torch.tensor(np.array(y_test), dtype=torch.long)\n",
        "X_val = torch.tensor(np.array(X_val), dtype=torch.float32)\n",
        "y_val = torch.tensor(np.array(y_val), dtype=torch.long)"
      ]
    },
    {
      "cell_type": "markdown",
      "metadata": {
        "id": "ayu3JfBzsqC6"
      },
      "source": [
        "Напишите вспомогательные функции, в одной из которых будет проходить обучение, а во вторй - валидация. Также в отдельной функцией можно описать отрисовку кривых обучения. На одном графике расположите значение функции потерь на трейне и валидации, а на другом -- значение метрики качества на ваш выбор, также для трейна и валидации)"
      ]
    },
    {
      "cell_type": "code",
      "execution_count": 14,
      "metadata": {
        "id": "YJFrPQRAsjGz"
      },
      "outputs": [],
      "source": [
        "def plot_learning_curves(history):\n",
        "    '''\n",
        "    Функция для отображения лосса и метрики во время обучения.\n",
        "    '''\n",
        "    fig = plt.figure(figsize=(20,7))\n",
        "\n",
        "    plt.subplot(1,2,1)\n",
        "    plt.title('Лосс', fontsize=15)\n",
        "    plt.plot(history['loss']['train'], label='train')\n",
        "    plt.plot(history['loss']['val'], label='val')\n",
        "    plt.xlabel('эпоха', fontsize=15)\n",
        "    plt.legend()\n",
        "\n",
        "    plt.subplot(1,2,2)\n",
        "    plt.title('Точность', fontsize=15)\n",
        "    plt.plot(history['acc']['train'], label='train')\n",
        "    plt.plot(history['acc']['val'], label='val')\n",
        "    plt.xlabel('эпоха', fontsize=15)\n",
        "    plt.legend();\n",
        "    plt.show()\n",
        "\n",
        "\n",
        "def train_epoch(model, criterion, opt, batch_generator, X_train, y_train, batch_size, device, class_lim_proba):\n",
        "    model.train(True)\n",
        "    train_loss = 0\n",
        "    train_acc = 0\n",
        "    num_train_batches = len(X_train) // batch_size\n",
        "\n",
        "    for X_batch, y_batch in batch_generator(X_train, y_train, batch_size, device=device):\n",
        "        logits = model(X_batch)\n",
        "        loss = criterion(logits, y_batch)\n",
        "        loss.backward()\n",
        "        opt.step()\n",
        "        opt.zero_grad()\n",
        "\n",
        "        train_loss += loss.detach().cpu().numpy()\n",
        "        y_pred_np = np.argmax(logits.detach().cpu().numpy(), axis=1)\n",
        "        y_batch_np = y_batch.cpu().numpy()\n",
        "        train_acc += (y_batch_np == y_pred_np).sum()\n",
        "\n",
        "    train_loss /= num_train_batches\n",
        "    train_acc /= num_train_batches * batch_size\n",
        "\n",
        "    return train_loss, train_acc\n",
        "\n",
        "def test_epoch(model, criterion, batch_generator, X_val, y_val, batch_size, device, class_lim_proba):\n",
        "    model.eval()\n",
        "    val_loss = 0\n",
        "    val_acc = 0\n",
        "    num_val_batches = len(X_val) // batch_size\n",
        "\n",
        "    with torch.no_grad():\n",
        "        for X_batch, y_batch in batch_generator(X_val, y_val, batch_size, device=device):\n",
        "            logits = model(X_batch)\n",
        "            loss = criterion(logits, y_batch)\n",
        "\n",
        "            val_loss += loss.cpu().numpy().sum()\n",
        "            y_pred_np = np.argmax(logits.cpu().numpy(), axis=1)\n",
        "            y_batch_np = y_batch.cpu().numpy()\n",
        "            val_acc += (y_batch_np == y_pred_np).sum()\n",
        "\n",
        "    val_loss /= num_val_batches\n",
        "    val_acc /= num_val_batches * batch_size\n",
        "\n",
        "    return val_loss, val_acc\n"
      ]
    },
    {
      "cell_type": "markdown",
      "metadata": {
        "id": "-KRqsqFXrOj_"
      },
      "source": [
        "Создание модели"
      ]
    },
    {
      "cell_type": "code",
      "execution_count": 15,
      "metadata": {
        "id": "0TgKtRfVrLpb"
      },
      "outputs": [],
      "source": [
        "class SimpleModel(nn.Module):\n",
        "    def __init__(self):\n",
        "        super(SimpleModel, self).__init__()\n",
        "        self.linear1 = nn.Linear(9, 5)\n",
        "        self.linear2 = nn.Linear(5, 2)\n",
        "\n",
        "    def forward(self, x):\n",
        "        x = self.linear1(nn.Flatten()(x))\n",
        "        x = self.linear2(nn.ReLU()(x))\n",
        "        return x"
      ]
    },
    {
      "cell_type": "markdown",
      "metadata": {
        "id": "EllEx8_atGPX"
      },
      "source": [
        "Обучение"
      ]
    },
    {
      "cell_type": "code",
      "execution_count": 16,
      "metadata": {
        "id": "7Xz9XaHl_7eK"
      },
      "outputs": [],
      "source": [
        "import time\n",
        "def train(\n",
        "    model,\n",
        "    criterion,\n",
        "    optimizer,\n",
        "    X_train, y_train,\n",
        "    X_val, y_val,\n",
        "    num_epochs=100,\n",
        "    batch_size=64,\n",
        "    model_path='model.pth',\n",
        "    device='cuda' if torch.cuda.is_available() else 'cpu'\n",
        "):\n",
        "    \"\"\"\n",
        "    Обучение модели\n",
        "    \"\"\"\n",
        "    model.to(device)\n",
        "    history = defaultdict(lambda: defaultdict(list))\n",
        "    best_val_acc = 0.\n",
        "\n",
        "    for epoch in range(num_epochs):\n",
        "        start_time = time.time()\n",
        "\n",
        "        train_loss, train_acc = train_epoch(model, criterion, optimizer, X_train, y_train, batch_size, device)\n",
        "        val_loss, val_acc = test_epoch(model, criterion, X_val, y_val, batch_size, device)\n",
        "\n",
        "        history['loss']['train'].append(train_loss)\n",
        "        history['acc']['train'].append(train_acc)\n",
        "        history['loss']['val'].append(val_loss)\n",
        "        history['acc']['val'].append(val_acc)\n",
        "\n",
        "        if val_acc > best_val_acc:\n",
        "            torch.save(model.state_dict(), model_path)\n",
        "            best_val_acc = val_acc\n",
        "\n",
        "        print(\"Epoch {} of {} took {:.3f}s\".format(\n",
        "            epoch + 1, num_epochs, time.time() - start_time))\n",
        "        print(\"  training loss (in-iteration): \\t{:.6f}\".format(train_loss))\n",
        "        print(\"  validation loss (in-iteration): \\t{:.6f}\".format(val_loss))\n",
        "        print(\"  training accuracy: \\t\\t\\t{:.2f} %\".format(train_acc * 100))\n",
        "        print(\"  validation accuracy: \\t\\t\\t{:.2f} %\".format(val_acc * 100))\n",
        "\n",
        "    return model, history\n"
      ]
    },
    {
      "cell_type": "code",
      "source": [
        "import torch.optim as optim\n",
        "device = torch.device(\"cuda\" if torch.cuda.is_available() else \"cpu\")\n",
        "model = SimpleModel().to(device)\n",
        "criterion = nn.CrossEntropyLoss()\n",
        "optimizer = optim.SGD(model.parameters(), lr=0.01)\n",
        "\n",
        "num_epochs = 100\n",
        "batch_size = 64\n",
        "class_lim_proba = 0.5\n",
        "\n",
        "history = defaultdict(lambda: defaultdict(list))\n",
        "best_val_acc = 0.\n",
        "\n",
        "for epoch in range(num_epochs):\n",
        "    model.train()\n",
        "    train_loss = 0\n",
        "    train_acc = 0\n",
        "    num_train_batches = len(X_train) // batch_size\n",
        "\n",
        "\n",
        "    indices = np.random.permutation(len(X_train))\n",
        "    X_train_shuffled = X_train[indices]\n",
        "    y_train_shuffled = y_train[indices]\n",
        "\n",
        "    for start in range(0, len(X_train), batch_size):\n",
        "        end = start + batch_size\n",
        "        X_batch = X_train_shuffled[start:end].to(device)\n",
        "        y_batch = y_train_shuffled[start:end].to(device)\n",
        "\n",
        "        optimizer.zero_grad()\n",
        "        logits = model(X_batch)\n",
        "        loss = criterion(logits, y_batch)\n",
        "        loss.backward()\n",
        "        optimizer.step()\n",
        "\n",
        "        train_loss += loss.item()\n",
        "        y_pred = torch.argmax(logits, dim=1)\n",
        "        train_acc += (y_pred == y_batch).sum().item()\n",
        "\n",
        "    train_loss /= num_train_batches\n",
        "    train_acc /= len(X_train)\n",
        "\n",
        "\n",
        "    model.eval()\n",
        "    val_loss = 0\n",
        "    val_acc = 0\n",
        "    num_val_batches = len(X_val) // batch_size\n",
        "\n",
        "    with torch.no_grad():\n",
        "        for start in range(0, len(X_val), batch_size):\n",
        "            end = start + batch_size\n",
        "            X_batch = X_val[start:end].to(device)\n",
        "            y_batch = y_val[start:end].to(device)\n",
        "\n",
        "            logits = model(X_batch)\n",
        "            loss = criterion(logits, y_batch)\n",
        "\n",
        "            val_loss += loss.item()\n",
        "            y_pred = torch.argmax(logits, dim=1)\n",
        "            val_acc += (y_pred == y_batch).sum().item()\n",
        "\n",
        "    val_loss /= num_val_batches\n",
        "    val_acc /= len(X_val)\n",
        "    history['loss']['train'].append(train_loss)\n",
        "    history['acc']['train'].append(train_acc)\n",
        "    history['loss']['val'].append(val_loss)\n",
        "    history['acc']['val'].append(val_acc)\n",
        "\n",
        "    print(f\"Epoch {epoch + 1}/{num_epochs}\")\n",
        "    print(f\"Train Loss: {train_loss:.4f}, Train Acc: {train_acc:.4f}\")\n",
        "    print(f\"Val Loss: {val_loss:.4f}, Val Acc: {val_acc:.4f}\")"
      ],
      "metadata": {
        "colab": {
          "base_uri": "https://localhost:8080/"
        },
        "id": "a3XoHT54Oj_d",
        "outputId": "a63016c9-4781-49f5-aaf8-bc2b6d2c75c5"
      },
      "execution_count": 24,
      "outputs": [
        {
          "output_type": "stream",
          "name": "stdout",
          "text": [
            "Epoch 1/100\n",
            "Train Loss: 0.5778, Train Acc: 0.6996\n",
            "Val Loss: 28.9835, Val Acc: 0.5546\n",
            "Epoch 2/100\n",
            "Train Loss: 0.5687, Train Acc: 0.7088\n",
            "Val Loss: 14.4500, Val Acc: 0.5546\n",
            "Epoch 3/100\n",
            "Train Loss: 0.5664, Train Acc: 0.7105\n",
            "Val Loss: 5.9847, Val Acc: 0.5547\n",
            "Epoch 4/100\n",
            "Train Loss: 0.5648, Train Acc: 0.7116\n",
            "Val Loss: 1.7361, Val Acc: 0.5091\n",
            "Epoch 5/100\n",
            "Train Loss: 0.5640, Train Acc: 0.7123\n",
            "Val Loss: 5.0575, Val Acc: 0.4454\n",
            "Epoch 6/100\n",
            "Train Loss: 0.5636, Train Acc: 0.7126\n",
            "Val Loss: 10.7368, Val Acc: 0.4454\n",
            "Epoch 7/100\n",
            "Train Loss: 0.5634, Train Acc: 0.7123\n",
            "Val Loss: 8.3796, Val Acc: 0.4454\n",
            "Epoch 8/100\n",
            "Train Loss: 0.5632, Train Acc: 0.7124\n",
            "Val Loss: 6.8367, Val Acc: 0.4454\n",
            "Epoch 9/100\n",
            "Train Loss: 0.5632, Train Acc: 0.7125\n",
            "Val Loss: 6.9414, Val Acc: 0.4454\n",
            "Epoch 10/100\n",
            "Train Loss: 0.5632, Train Acc: 0.7125\n",
            "Val Loss: 8.2173, Val Acc: 0.4454\n",
            "Epoch 11/100\n",
            "Train Loss: 0.5632, Train Acc: 0.7125\n",
            "Val Loss: 6.8426, Val Acc: 0.4454\n",
            "Epoch 12/100\n",
            "Train Loss: 0.5632, Train Acc: 0.7126\n",
            "Val Loss: 10.1660, Val Acc: 0.4454\n",
            "Epoch 13/100\n",
            "Train Loss: 0.5632, Train Acc: 0.7125\n",
            "Val Loss: 8.4918, Val Acc: 0.4454\n",
            "Epoch 14/100\n",
            "Train Loss: 0.5632, Train Acc: 0.7123\n",
            "Val Loss: 5.0650, Val Acc: 0.4454\n",
            "Epoch 15/100\n",
            "Train Loss: 0.5632, Train Acc: 0.7126\n",
            "Val Loss: 6.3652, Val Acc: 0.4454\n",
            "Epoch 16/100\n",
            "Train Loss: 0.5632, Train Acc: 0.7125\n",
            "Val Loss: 7.2262, Val Acc: 0.4454\n",
            "Epoch 17/100\n",
            "Train Loss: 0.5631, Train Acc: 0.7126\n",
            "Val Loss: 6.7709, Val Acc: 0.4454\n",
            "Epoch 18/100\n",
            "Train Loss: 0.5631, Train Acc: 0.7124\n",
            "Val Loss: 2.3405, Val Acc: 0.4891\n",
            "Epoch 19/100\n",
            "Train Loss: 0.5631, Train Acc: 0.7124\n",
            "Val Loss: 9.8371, Val Acc: 0.4454\n",
            "Epoch 20/100\n",
            "Train Loss: 0.5631, Train Acc: 0.7124\n",
            "Val Loss: 11.0524, Val Acc: 0.4454\n",
            "Epoch 21/100\n",
            "Train Loss: 0.5631, Train Acc: 0.7125\n",
            "Val Loss: 7.8095, Val Acc: 0.4454\n",
            "Epoch 22/100\n",
            "Train Loss: 0.5631, Train Acc: 0.7124\n",
            "Val Loss: 11.5464, Val Acc: 0.4454\n",
            "Epoch 23/100\n",
            "Train Loss: 0.5631, Train Acc: 0.7127\n",
            "Val Loss: 8.6544, Val Acc: 0.4454\n",
            "Epoch 24/100\n",
            "Train Loss: 0.5632, Train Acc: 0.7125\n",
            "Val Loss: 8.2670, Val Acc: 0.4454\n",
            "Epoch 25/100\n",
            "Train Loss: 0.5631, Train Acc: 0.7126\n",
            "Val Loss: 9.9598, Val Acc: 0.4454\n",
            "Epoch 26/100\n",
            "Train Loss: 0.5632, Train Acc: 0.7126\n",
            "Val Loss: 13.9494, Val Acc: 0.4454\n",
            "Epoch 27/100\n",
            "Train Loss: 0.5632, Train Acc: 0.7125\n",
            "Val Loss: 8.6202, Val Acc: 0.4454\n",
            "Epoch 28/100\n",
            "Train Loss: 0.5631, Train Acc: 0.7126\n",
            "Val Loss: 4.9452, Val Acc: 0.4454\n",
            "Epoch 29/100\n",
            "Train Loss: 0.5631, Train Acc: 0.7126\n",
            "Val Loss: 10.7478, Val Acc: 0.4454\n",
            "Epoch 30/100\n",
            "Train Loss: 0.5631, Train Acc: 0.7125\n",
            "Val Loss: 12.0279, Val Acc: 0.4454\n",
            "Epoch 31/100\n",
            "Train Loss: 0.5631, Train Acc: 0.7126\n",
            "Val Loss: 5.4365, Val Acc: 0.4454\n",
            "Epoch 32/100\n",
            "Train Loss: 0.5631, Train Acc: 0.7124\n",
            "Val Loss: 9.8555, Val Acc: 0.4454\n",
            "Epoch 33/100\n",
            "Train Loss: 0.5631, Train Acc: 0.7125\n",
            "Val Loss: 6.1239, Val Acc: 0.4454\n",
            "Epoch 34/100\n",
            "Train Loss: 0.5631, Train Acc: 0.7125\n",
            "Val Loss: 11.5205, Val Acc: 0.4454\n",
            "Epoch 35/100\n",
            "Train Loss: 0.5631, Train Acc: 0.7125\n",
            "Val Loss: 6.4771, Val Acc: 0.4454\n",
            "Epoch 36/100\n",
            "Train Loss: 0.5631, Train Acc: 0.7125\n",
            "Val Loss: 4.8216, Val Acc: 0.4454\n",
            "Epoch 37/100\n",
            "Train Loss: 0.5631, Train Acc: 0.7126\n",
            "Val Loss: 4.5420, Val Acc: 0.4454\n",
            "Epoch 38/100\n",
            "Train Loss: 0.5631, Train Acc: 0.7125\n",
            "Val Loss: 5.3652, Val Acc: 0.4454\n",
            "Epoch 39/100\n",
            "Train Loss: 0.5631, Train Acc: 0.7124\n",
            "Val Loss: 4.0459, Val Acc: 0.4454\n",
            "Epoch 40/100\n",
            "Train Loss: 0.5631, Train Acc: 0.7125\n",
            "Val Loss: 9.0199, Val Acc: 0.4454\n",
            "Epoch 41/100\n",
            "Train Loss: 0.5631, Train Acc: 0.7125\n",
            "Val Loss: 8.6458, Val Acc: 0.4454\n",
            "Epoch 42/100\n",
            "Train Loss: 0.5631, Train Acc: 0.7125\n",
            "Val Loss: 3.6894, Val Acc: 0.4503\n",
            "Epoch 43/100\n",
            "Train Loss: 0.5631, Train Acc: 0.7125\n",
            "Val Loss: 6.5068, Val Acc: 0.4454\n",
            "Epoch 44/100\n",
            "Train Loss: 0.5631, Train Acc: 0.7126\n",
            "Val Loss: 6.1919, Val Acc: 0.4454\n",
            "Epoch 45/100\n",
            "Train Loss: 0.5631, Train Acc: 0.7126\n",
            "Val Loss: 1.4347, Val Acc: 0.5502\n",
            "Epoch 46/100\n",
            "Train Loss: 0.5631, Train Acc: 0.7125\n",
            "Val Loss: 8.8588, Val Acc: 0.4454\n",
            "Epoch 47/100\n",
            "Train Loss: 0.5631, Train Acc: 0.7124\n",
            "Val Loss: 2.8193, Val Acc: 0.4691\n",
            "Epoch 48/100\n",
            "Train Loss: 0.5631, Train Acc: 0.7126\n",
            "Val Loss: 4.6568, Val Acc: 0.4454\n",
            "Epoch 49/100\n",
            "Train Loss: 0.5631, Train Acc: 0.7125\n",
            "Val Loss: 7.4902, Val Acc: 0.4454\n",
            "Epoch 50/100\n",
            "Train Loss: 0.5631, Train Acc: 0.7127\n",
            "Val Loss: 7.6673, Val Acc: 0.4454\n",
            "Epoch 51/100\n",
            "Train Loss: 0.5631, Train Acc: 0.7125\n",
            "Val Loss: 7.4156, Val Acc: 0.4454\n",
            "Epoch 52/100\n",
            "Train Loss: 0.5631, Train Acc: 0.7125\n",
            "Val Loss: 4.5283, Val Acc: 0.4455\n",
            "Epoch 53/100\n",
            "Train Loss: 0.5631, Train Acc: 0.7126\n",
            "Val Loss: 4.5268, Val Acc: 0.4452\n",
            "Epoch 54/100\n",
            "Train Loss: 0.5631, Train Acc: 0.7125\n",
            "Val Loss: 9.8624, Val Acc: 0.4454\n",
            "Epoch 55/100\n",
            "Train Loss: 0.5631, Train Acc: 0.7127\n",
            "Val Loss: 2.8927, Val Acc: 0.4663\n",
            "Epoch 56/100\n",
            "Train Loss: 0.5631, Train Acc: 0.7125\n",
            "Val Loss: 4.1834, Val Acc: 0.4453\n",
            "Epoch 57/100\n",
            "Train Loss: 0.5631, Train Acc: 0.7125\n",
            "Val Loss: 8.5177, Val Acc: 0.4454\n",
            "Epoch 58/100\n",
            "Train Loss: 0.5631, Train Acc: 0.7125\n",
            "Val Loss: 10.1227, Val Acc: 0.4454\n",
            "Epoch 59/100\n",
            "Train Loss: 0.5631, Train Acc: 0.7124\n",
            "Val Loss: 7.9977, Val Acc: 0.4454\n",
            "Epoch 60/100\n",
            "Train Loss: 0.5631, Train Acc: 0.7125\n",
            "Val Loss: 8.7965, Val Acc: 0.4454\n",
            "Epoch 61/100\n",
            "Train Loss: 0.5631, Train Acc: 0.7125\n",
            "Val Loss: 6.0723, Val Acc: 0.4454\n",
            "Epoch 62/100\n",
            "Train Loss: 0.5631, Train Acc: 0.7125\n",
            "Val Loss: 7.8002, Val Acc: 0.4454\n",
            "Epoch 63/100\n",
            "Train Loss: 0.5631, Train Acc: 0.7124\n",
            "Val Loss: 10.8461, Val Acc: 0.4454\n",
            "Epoch 64/100\n",
            "Train Loss: 0.5631, Train Acc: 0.7125\n",
            "Val Loss: 6.0778, Val Acc: 0.4454\n",
            "Epoch 65/100\n",
            "Train Loss: 0.5631, Train Acc: 0.7124\n",
            "Val Loss: 6.2546, Val Acc: 0.4454\n",
            "Epoch 66/100\n",
            "Train Loss: 0.5631, Train Acc: 0.7126\n",
            "Val Loss: 4.4111, Val Acc: 0.4472\n",
            "Epoch 67/100\n",
            "Train Loss: 0.5631, Train Acc: 0.7124\n",
            "Val Loss: 6.4284, Val Acc: 0.4454\n",
            "Epoch 68/100\n",
            "Train Loss: 0.5631, Train Acc: 0.7126\n",
            "Val Loss: 8.3327, Val Acc: 0.4454\n",
            "Epoch 69/100\n",
            "Train Loss: 0.5631, Train Acc: 0.7125\n",
            "Val Loss: 5.1044, Val Acc: 0.4454\n",
            "Epoch 70/100\n",
            "Train Loss: 0.5631, Train Acc: 0.7125\n",
            "Val Loss: 7.8027, Val Acc: 0.4454\n",
            "Epoch 71/100\n",
            "Train Loss: 0.5631, Train Acc: 0.7125\n",
            "Val Loss: 5.7038, Val Acc: 0.4454\n",
            "Epoch 72/100\n",
            "Train Loss: 0.5631, Train Acc: 0.7125\n",
            "Val Loss: 3.7590, Val Acc: 0.4455\n",
            "Epoch 73/100\n",
            "Train Loss: 0.5631, Train Acc: 0.7126\n",
            "Val Loss: 6.9907, Val Acc: 0.4454\n",
            "Epoch 74/100\n",
            "Train Loss: 0.5631, Train Acc: 0.7125\n",
            "Val Loss: 8.8191, Val Acc: 0.4454\n",
            "Epoch 75/100\n",
            "Train Loss: 0.5631, Train Acc: 0.7125\n",
            "Val Loss: 5.7884, Val Acc: 0.4454\n",
            "Epoch 76/100\n",
            "Train Loss: 0.5631, Train Acc: 0.7127\n",
            "Val Loss: 6.8980, Val Acc: 0.4454\n",
            "Epoch 77/100\n",
            "Train Loss: 0.5631, Train Acc: 0.7125\n",
            "Val Loss: 2.6606, Val Acc: 0.4736\n",
            "Epoch 78/100\n",
            "Train Loss: 0.5631, Train Acc: 0.7126\n",
            "Val Loss: 8.7564, Val Acc: 0.4454\n",
            "Epoch 79/100\n",
            "Train Loss: 0.5631, Train Acc: 0.7125\n",
            "Val Loss: 3.4386, Val Acc: 0.4580\n",
            "Epoch 80/100\n",
            "Train Loss: 0.5631, Train Acc: 0.7125\n",
            "Val Loss: 1.7101, Val Acc: 0.5205\n",
            "Epoch 81/100\n",
            "Train Loss: 0.5631, Train Acc: 0.7126\n",
            "Val Loss: 4.9283, Val Acc: 0.4454\n",
            "Epoch 82/100\n",
            "Train Loss: 0.5631, Train Acc: 0.7126\n",
            "Val Loss: 9.8809, Val Acc: 0.4454\n",
            "Epoch 83/100\n",
            "Train Loss: 0.5631, Train Acc: 0.7126\n",
            "Val Loss: 4.5810, Val Acc: 0.4454\n",
            "Epoch 84/100\n",
            "Train Loss: 0.5631, Train Acc: 0.7124\n",
            "Val Loss: 7.2415, Val Acc: 0.4454\n",
            "Epoch 85/100\n",
            "Train Loss: 0.5631, Train Acc: 0.7125\n",
            "Val Loss: 7.3671, Val Acc: 0.4454\n",
            "Epoch 86/100\n",
            "Train Loss: 0.5631, Train Acc: 0.7126\n",
            "Val Loss: 5.9246, Val Acc: 0.4454\n",
            "Epoch 87/100\n",
            "Train Loss: 0.5631, Train Acc: 0.7124\n",
            "Val Loss: 4.6425, Val Acc: 0.4489\n",
            "Epoch 88/100\n",
            "Train Loss: 0.5631, Train Acc: 0.7125\n",
            "Val Loss: 5.5224, Val Acc: 0.4454\n",
            "Epoch 89/100\n",
            "Train Loss: 0.5631, Train Acc: 0.7126\n",
            "Val Loss: 6.5389, Val Acc: 0.4454\n",
            "Epoch 90/100\n",
            "Train Loss: 0.5631, Train Acc: 0.7127\n",
            "Val Loss: 3.9780, Val Acc: 0.4452\n",
            "Epoch 91/100\n",
            "Train Loss: 0.5631, Train Acc: 0.7126\n",
            "Val Loss: 6.5581, Val Acc: 0.4454\n",
            "Epoch 92/100\n",
            "Train Loss: 0.5631, Train Acc: 0.7126\n",
            "Val Loss: 7.3711, Val Acc: 0.4454\n",
            "Epoch 93/100\n",
            "Train Loss: 0.5631, Train Acc: 0.7126\n",
            "Val Loss: 4.6851, Val Acc: 0.4453\n",
            "Epoch 94/100\n",
            "Train Loss: 0.5631, Train Acc: 0.7127\n",
            "Val Loss: 4.1194, Val Acc: 0.4464\n",
            "Epoch 95/100\n",
            "Train Loss: 0.5631, Train Acc: 0.7125\n",
            "Val Loss: 5.9955, Val Acc: 0.4454\n",
            "Epoch 96/100\n",
            "Train Loss: 0.5631, Train Acc: 0.7125\n",
            "Val Loss: 6.7244, Val Acc: 0.4454\n",
            "Epoch 97/100\n",
            "Train Loss: 0.5631, Train Acc: 0.7124\n",
            "Val Loss: 6.0533, Val Acc: 0.4454\n",
            "Epoch 98/100\n",
            "Train Loss: 0.5631, Train Acc: 0.7125\n",
            "Val Loss: 6.2934, Val Acc: 0.4454\n",
            "Epoch 99/100\n",
            "Train Loss: 0.5631, Train Acc: 0.7125\n",
            "Val Loss: 4.7592, Val Acc: 0.4456\n",
            "Epoch 100/100\n",
            "Train Loss: 0.5631, Train Acc: 0.7124\n",
            "Val Loss: 9.9761, Val Acc: 0.4454\n"
          ]
        }
      ]
    },
    {
      "cell_type": "code",
      "source": [
        "plot_learning_curves(history)"
      ],
      "metadata": {
        "colab": {
          "base_uri": "https://localhost:8080/",
          "height": 419
        },
        "id": "5VfD0Tzjamz7",
        "outputId": "168aa7ba-846d-41bb-ad9b-5f55bc95aa28"
      },
      "execution_count": 26,
      "outputs": [
        {
          "output_type": "display_data",
          "data": {
            "text/plain": [
              "<Figure size 2000x700 with 2 Axes>"
            ],
            "image/png": "[encoded data removed]"
          },
          "metadata": {}
        }
      ]
    },
    {
      "cell_type": "markdown",
      "metadata": {
        "id": "DkW1-Qjd_-dN"
      },
      "source": [
        "Тестирование"
      ]
    },
    {
      "cell_type": "code",
      "execution_count": 27,
      "metadata": {
        "id": "TkZtkmbD4PHI",
        "colab": {
          "base_uri": "https://localhost:8080/"
        },
        "outputId": "17a3cd26-4fdb-4c49-80ba-bc3bcd6f3828"
      },
      "outputs": [
        {
          "output_type": "execute_result",
          "data": {
            "text/plain": [
              "SimpleModel(\n",
              "  (linear1): Linear(in_features=9, out_features=5, bias=True)\n",
              "  (linear2): Linear(in_features=5, out_features=2, bias=True)\n",
              ")"
            ]
          },
          "metadata": {},
          "execution_count": 27
        }
      ],
      "source": [
        "model.eval()\n",
        "model.cpu()"
      ]
    },
    {
      "cell_type": "markdown",
      "metadata": {
        "id": "AKaxR5ClAEzS"
      },
      "source": [
        "**Выводы:** Судя по графикам, моя модель не очень хорошо (очень плохо) работает. Возможно, это возникло из-за ошибок в коде или при объявлении модели.Или же это возникло из-за большого количества входных параметров, из-за чего моя всего лишь двуслойная модель не справилась и показала очень плохую точность и потери."
      ]
    }
  ],
  "metadata": {
    "accelerator": "GPU",
    "colab": {
      "gpuType": "T4",
      "provenance": []
    },
    "kernelspec": {
      "display_name": "Python 3",
      "name": "python3"
    },
    "language_info": {
      "name": "python"
    }
  },
  "nbformat": 4,
  "nbformat_minor": 0
}